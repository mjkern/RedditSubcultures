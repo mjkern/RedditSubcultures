{
 "cells": [
  {
   "cell_type": "markdown",
   "metadata": {},
   "source": [
    "# Data Analysis\n",
    "This notebook is meant for exploritory analysis and in depth analysis of data on reddit users. Note: comments are not studied in this notebook because they are not central to the research (outside of determining pagerank) and they take a very long time to load."
   ]
  },
  {
   "cell_type": "markdown",
   "metadata": {},
   "source": [
    "## Setup"
   ]
  },
  {
   "cell_type": "code",
   "execution_count": 1,
   "metadata": {},
   "outputs": [],
   "source": [
    "import pandas as pd\n",
    "import matplotlib.pyplot as plt\n",
    "import numpy as np\n",
    "from scipy import stats"
   ]
  },
  {
   "cell_type": "code",
   "execution_count": 2,
   "metadata": {},
   "outputs": [],
   "source": [
    "# Configurable constants\n",
    "subreddit = \"Showerthoughts\"\n",
    "download_date_string = \"19.12.05-20:40:00\"\n",
    "\n",
    "data_directory = \"data/\"\n",
    "\n",
    "# Derived constants\n",
    "submissions_file = data_directory + subreddit + \"-augmented-submissions-\" + download_date_string + \".csv\"\n",
    "users_file = data_directory + subreddit + \"-users-\" + download_date_string + \".csv\""
   ]
  },
  {
   "cell_type": "markdown",
   "metadata": {},
   "source": [
    "## Read Data"
   ]
  },
  {
   "cell_type": "code",
   "execution_count": 3,
   "metadata": {},
   "outputs": [
    {
     "data": {
      "text/html": [
       "<div>\n",
       "<style scoped>\n",
       "    .dataframe tbody tr th:only-of-type {\n",
       "        vertical-align: middle;\n",
       "    }\n",
       "\n",
       "    .dataframe tbody tr th {\n",
       "        vertical-align: top;\n",
       "    }\n",
       "\n",
       "    .dataframe thead th {\n",
       "        text-align: right;\n",
       "    }\n",
       "</style>\n",
       "<table border=\"1\" class=\"dataframe\">\n",
       "  <thead>\n",
       "    <tr style=\"text-align: right;\">\n",
       "      <th></th>\n",
       "      <th>index</th>\n",
       "      <th>submission_id</th>\n",
       "      <th>user</th>\n",
       "      <th>utc</th>\n",
       "      <th>score</th>\n",
       "      <th>title</th>\n",
       "      <th>body</th>\n",
       "      <th>subreddit</th>\n",
       "      <th>date</th>\n",
       "      <th>content</th>\n",
       "      <th>word_p_dist</th>\n",
       "      <th>entropy</th>\n",
       "      <th>novelty</th>\n",
       "      <th>transience</th>\n",
       "      <th>novelty_5</th>\n",
       "      <th>transience_5</th>\n",
       "      <th>impact</th>\n",
       "      <th>impact_5</th>\n",
       "    </tr>\n",
       "  </thead>\n",
       "  <tbody>\n",
       "    <tr>\n",
       "      <th>0</th>\n",
       "      <td>977</td>\n",
       "      <td>e6eozq</td>\n",
       "      <td>victor_knight</td>\n",
       "      <td>1.575537e+09</td>\n",
       "      <td>11</td>\n",
       "      <td>We tend to think we're very advanced today but...</td>\n",
       "      <td>NaN</td>\n",
       "      <td>Showerthoughts</td>\n",
       "      <td>2019-12-05 09:07:33</td>\n",
       "      <td>We tend to think we're very advanced today but...</td>\n",
       "      <td>{'We': 0.045454545454545456, 'tend': 0.0454545...</td>\n",
       "      <td>4.368523</td>\n",
       "      <td>NaN</td>\n",
       "      <td>8.892645</td>\n",
       "      <td>NaN</td>\n",
       "      <td>8.392191</td>\n",
       "      <td>NaN</td>\n",
       "      <td>NaN</td>\n",
       "    </tr>\n",
       "    <tr>\n",
       "      <th>1</th>\n",
       "      <td>976</td>\n",
       "      <td>e6epzy</td>\n",
       "      <td>GarunixReborn</td>\n",
       "      <td>1.575537e+09</td>\n",
       "      <td>109</td>\n",
       "      <td>The fact that people don’t walk up escalators ...</td>\n",
       "      <td>NaN</td>\n",
       "      <td>Showerthoughts</td>\n",
       "      <td>2019-12-05 09:10:45</td>\n",
       "      <td>The fact that people don’t walk up escalators ...</td>\n",
       "      <td>{'The': 0.06666666666666667, 'fact': 0.0666666...</td>\n",
       "      <td>3.906891</td>\n",
       "      <td>9.341699</td>\n",
       "      <td>9.362215</td>\n",
       "      <td>NaN</td>\n",
       "      <td>9.132241</td>\n",
       "      <td>-0.020516</td>\n",
       "      <td>NaN</td>\n",
       "    </tr>\n",
       "    <tr>\n",
       "      <th>2</th>\n",
       "      <td>975</td>\n",
       "      <td>e6eqyr</td>\n",
       "      <td>Sable_Industries</td>\n",
       "      <td>1.575537e+09</td>\n",
       "      <td>0</td>\n",
       "      <td>Someone out there probably has the social secu...</td>\n",
       "      <td>NaN</td>\n",
       "      <td>Showerthoughts</td>\n",
       "      <td>2019-12-05 09:14:00</td>\n",
       "      <td>Someone out there probably has the social secu...</td>\n",
       "      <td>{'Someone': 0.1, 'out': 0.1, 'there': 0.1, 'pr...</td>\n",
       "      <td>3.321928</td>\n",
       "      <td>9.936087</td>\n",
       "      <td>9.079592</td>\n",
       "      <td>NaN</td>\n",
       "      <td>9.212662</td>\n",
       "      <td>0.856496</td>\n",
       "      <td>NaN</td>\n",
       "    </tr>\n",
       "    <tr>\n",
       "      <th>3</th>\n",
       "      <td>974</td>\n",
       "      <td>e6es55</td>\n",
       "      <td>DUIofPussy</td>\n",
       "      <td>1.575537e+09</td>\n",
       "      <td>7</td>\n",
       "      <td>Since a person’s ability to comprehend is dete...</td>\n",
       "      <td>NaN</td>\n",
       "      <td>Showerthoughts</td>\n",
       "      <td>2019-12-05 09:17:54</td>\n",
       "      <td>Since a person’s ability to comprehend is dete...</td>\n",
       "      <td>{'Since': 0.03333333333333333, 'a': 0.1, 'pers...</td>\n",
       "      <td>4.681728</td>\n",
       "      <td>8.259839</td>\n",
       "      <td>6.896594</td>\n",
       "      <td>NaN</td>\n",
       "      <td>7.185452</td>\n",
       "      <td>1.363246</td>\n",
       "      <td>NaN</td>\n",
       "    </tr>\n",
       "    <tr>\n",
       "      <th>4</th>\n",
       "      <td>973</td>\n",
       "      <td>e6es6v</td>\n",
       "      <td>-Hi_2019</td>\n",
       "      <td>1.575537e+09</td>\n",
       "      <td>9</td>\n",
       "      <td>If school isn't a place to play then home shou...</td>\n",
       "      <td>NaN</td>\n",
       "      <td>Showerthoughts</td>\n",
       "      <td>2019-12-05 09:18:07</td>\n",
       "      <td>If school isn't a place to play then home shou...</td>\n",
       "      <td>{'If': 0.06666666666666667, 'school': 0.066666...</td>\n",
       "      <td>3.506891</td>\n",
       "      <td>6.737337</td>\n",
       "      <td>9.120991</td>\n",
       "      <td>NaN</td>\n",
       "      <td>9.080047</td>\n",
       "      <td>-2.383654</td>\n",
       "      <td>NaN</td>\n",
       "    </tr>\n",
       "  </tbody>\n",
       "</table>\n",
       "</div>"
      ],
      "text/plain": [
       "   index submission_id              user           utc  score  \\\n",
       "0    977        e6eozq     victor_knight  1.575537e+09     11   \n",
       "1    976        e6epzy     GarunixReborn  1.575537e+09    109   \n",
       "2    975        e6eqyr  Sable_Industries  1.575537e+09      0   \n",
       "3    974        e6es55        DUIofPussy  1.575537e+09      7   \n",
       "4    973        e6es6v          -Hi_2019  1.575537e+09      9   \n",
       "\n",
       "                                               title body       subreddit  \\\n",
       "0  We tend to think we're very advanced today but...  NaN  Showerthoughts   \n",
       "1  The fact that people don’t walk up escalators ...  NaN  Showerthoughts   \n",
       "2  Someone out there probably has the social secu...  NaN  Showerthoughts   \n",
       "3  Since a person’s ability to comprehend is dete...  NaN  Showerthoughts   \n",
       "4  If school isn't a place to play then home shou...  NaN  Showerthoughts   \n",
       "\n",
       "                  date                                            content  \\\n",
       "0  2019-12-05 09:07:33  We tend to think we're very advanced today but...   \n",
       "1  2019-12-05 09:10:45  The fact that people don’t walk up escalators ...   \n",
       "2  2019-12-05 09:14:00  Someone out there probably has the social secu...   \n",
       "3  2019-12-05 09:17:54  Since a person’s ability to comprehend is dete...   \n",
       "4  2019-12-05 09:18:07  If school isn't a place to play then home shou...   \n",
       "\n",
       "                                         word_p_dist   entropy   novelty  \\\n",
       "0  {'We': 0.045454545454545456, 'tend': 0.0454545...  4.368523       NaN   \n",
       "1  {'The': 0.06666666666666667, 'fact': 0.0666666...  3.906891  9.341699   \n",
       "2  {'Someone': 0.1, 'out': 0.1, 'there': 0.1, 'pr...  3.321928  9.936087   \n",
       "3  {'Since': 0.03333333333333333, 'a': 0.1, 'pers...  4.681728  8.259839   \n",
       "4  {'If': 0.06666666666666667, 'school': 0.066666...  3.506891  6.737337   \n",
       "\n",
       "   transience  novelty_5  transience_5    impact  impact_5  \n",
       "0    8.892645        NaN      8.392191       NaN       NaN  \n",
       "1    9.362215        NaN      9.132241 -0.020516       NaN  \n",
       "2    9.079592        NaN      9.212662  0.856496       NaN  \n",
       "3    6.896594        NaN      7.185452  1.363246       NaN  \n",
       "4    9.120991        NaN      9.080047 -2.383654       NaN  "
      ]
     },
     "execution_count": 3,
     "metadata": {},
     "output_type": "execute_result"
    }
   ],
   "source": [
    "submissions = pd.read_csv(submissions_file, index_col=0)\n",
    "submissions.head()"
   ]
  },
  {
   "cell_type": "code",
   "execution_count": 4,
   "metadata": {},
   "outputs": [],
   "source": [
    "# a version of submissions without nan values\n",
    "safe_submissions = submissions.drop('body', axis=1).dropna()"
   ]
  },
  {
   "cell_type": "code",
   "execution_count": 5,
   "metadata": {},
   "outputs": [
    {
     "data": {
      "text/html": [
       "<div>\n",
       "<style scoped>\n",
       "    .dataframe tbody tr th:only-of-type {\n",
       "        vertical-align: middle;\n",
       "    }\n",
       "\n",
       "    .dataframe tbody tr th {\n",
       "        vertical-align: top;\n",
       "    }\n",
       "\n",
       "    .dataframe thead th {\n",
       "        text-align: right;\n",
       "    }\n",
       "</style>\n",
       "<table border=\"1\" class=\"dataframe\">\n",
       "  <thead>\n",
       "    <tr style=\"text-align: right;\">\n",
       "      <th></th>\n",
       "      <th>num_posts</th>\n",
       "      <th>max_score_submissions</th>\n",
       "      <th>mean_score_submissions</th>\n",
       "      <th>min_score_submissions</th>\n",
       "      <th>mean_length_submissions</th>\n",
       "      <th>mean_impact</th>\n",
       "      <th>mean_novelty</th>\n",
       "      <th>mean_transience</th>\n",
       "      <th>mean_impact_5</th>\n",
       "      <th>mean_novelty_5</th>\n",
       "      <th>mean_transience_5</th>\n",
       "      <th>num_comments</th>\n",
       "      <th>max_score_comments</th>\n",
       "      <th>mean_score_comments</th>\n",
       "      <th>min_score_comments</th>\n",
       "      <th>mean_length_comments</th>\n",
       "      <th>pagerank</th>\n",
       "    </tr>\n",
       "    <tr>\n",
       "      <th>user</th>\n",
       "      <th></th>\n",
       "      <th></th>\n",
       "      <th></th>\n",
       "      <th></th>\n",
       "      <th></th>\n",
       "      <th></th>\n",
       "      <th></th>\n",
       "      <th></th>\n",
       "      <th></th>\n",
       "      <th></th>\n",
       "      <th></th>\n",
       "      <th></th>\n",
       "      <th></th>\n",
       "      <th></th>\n",
       "      <th></th>\n",
       "      <th></th>\n",
       "      <th></th>\n",
       "    </tr>\n",
       "  </thead>\n",
       "  <tbody>\n",
       "    <tr>\n",
       "      <th>--insertnamehere--</th>\n",
       "      <td>NaN</td>\n",
       "      <td>NaN</td>\n",
       "      <td>NaN</td>\n",
       "      <td>NaN</td>\n",
       "      <td>NaN</td>\n",
       "      <td>NaN</td>\n",
       "      <td>NaN</td>\n",
       "      <td>NaN</td>\n",
       "      <td>NaN</td>\n",
       "      <td>NaN</td>\n",
       "      <td>NaN</td>\n",
       "      <td>1.0</td>\n",
       "      <td>1.0</td>\n",
       "      <td>1.000000</td>\n",
       "      <td>1.0</td>\n",
       "      <td>27.000000</td>\n",
       "      <td>0.000184</td>\n",
       "    </tr>\n",
       "    <tr>\n",
       "      <th>-AlienBoy-</th>\n",
       "      <td>NaN</td>\n",
       "      <td>NaN</td>\n",
       "      <td>NaN</td>\n",
       "      <td>NaN</td>\n",
       "      <td>NaN</td>\n",
       "      <td>NaN</td>\n",
       "      <td>NaN</td>\n",
       "      <td>NaN</td>\n",
       "      <td>NaN</td>\n",
       "      <td>NaN</td>\n",
       "      <td>NaN</td>\n",
       "      <td>3.0</td>\n",
       "      <td>3.0</td>\n",
       "      <td>1.666667</td>\n",
       "      <td>1.0</td>\n",
       "      <td>67.333333</td>\n",
       "      <td>0.000184</td>\n",
       "    </tr>\n",
       "    <tr>\n",
       "      <th>-Asher-</th>\n",
       "      <td>1.0</td>\n",
       "      <td>0.0</td>\n",
       "      <td>0.0</td>\n",
       "      <td>0.0</td>\n",
       "      <td>48.0</td>\n",
       "      <td>0.025029</td>\n",
       "      <td>9.947869</td>\n",
       "      <td>9.922841</td>\n",
       "      <td>0.010955</td>\n",
       "      <td>9.752601</td>\n",
       "      <td>9.741647</td>\n",
       "      <td>NaN</td>\n",
       "      <td>NaN</td>\n",
       "      <td>NaN</td>\n",
       "      <td>NaN</td>\n",
       "      <td>NaN</td>\n",
       "      <td>0.000262</td>\n",
       "    </tr>\n",
       "    <tr>\n",
       "      <th>-DementedAvenger-</th>\n",
       "      <td>NaN</td>\n",
       "      <td>NaN</td>\n",
       "      <td>NaN</td>\n",
       "      <td>NaN</td>\n",
       "      <td>NaN</td>\n",
       "      <td>NaN</td>\n",
       "      <td>NaN</td>\n",
       "      <td>NaN</td>\n",
       "      <td>NaN</td>\n",
       "      <td>NaN</td>\n",
       "      <td>NaN</td>\n",
       "      <td>1.0</td>\n",
       "      <td>1.0</td>\n",
       "      <td>1.000000</td>\n",
       "      <td>1.0</td>\n",
       "      <td>24.000000</td>\n",
       "      <td>0.000184</td>\n",
       "    </tr>\n",
       "    <tr>\n",
       "      <th>-Dubzyboy-</th>\n",
       "      <td>NaN</td>\n",
       "      <td>NaN</td>\n",
       "      <td>NaN</td>\n",
       "      <td>NaN</td>\n",
       "      <td>NaN</td>\n",
       "      <td>NaN</td>\n",
       "      <td>NaN</td>\n",
       "      <td>NaN</td>\n",
       "      <td>NaN</td>\n",
       "      <td>NaN</td>\n",
       "      <td>NaN</td>\n",
       "      <td>1.0</td>\n",
       "      <td>2.0</td>\n",
       "      <td>2.000000</td>\n",
       "      <td>2.0</td>\n",
       "      <td>5.000000</td>\n",
       "      <td>0.000184</td>\n",
       "    </tr>\n",
       "  </tbody>\n",
       "</table>\n",
       "</div>"
      ],
      "text/plain": [
       "                    num_posts  max_score_submissions  mean_score_submissions  \\\n",
       "user                                                                           \n",
       "--insertnamehere--        NaN                    NaN                     NaN   \n",
       "-AlienBoy-                NaN                    NaN                     NaN   \n",
       "-Asher-                   1.0                    0.0                     0.0   \n",
       "-DementedAvenger-         NaN                    NaN                     NaN   \n",
       "-Dubzyboy-                NaN                    NaN                     NaN   \n",
       "\n",
       "                    min_score_submissions  mean_length_submissions  \\\n",
       "user                                                                 \n",
       "--insertnamehere--                    NaN                      NaN   \n",
       "-AlienBoy-                            NaN                      NaN   \n",
       "-Asher-                               0.0                     48.0   \n",
       "-DementedAvenger-                     NaN                      NaN   \n",
       "-Dubzyboy-                            NaN                      NaN   \n",
       "\n",
       "                    mean_impact  mean_novelty  mean_transience  mean_impact_5  \\\n",
       "user                                                                            \n",
       "--insertnamehere--          NaN           NaN              NaN            NaN   \n",
       "-AlienBoy-                  NaN           NaN              NaN            NaN   \n",
       "-Asher-                0.025029      9.947869         9.922841       0.010955   \n",
       "-DementedAvenger-           NaN           NaN              NaN            NaN   \n",
       "-Dubzyboy-                  NaN           NaN              NaN            NaN   \n",
       "\n",
       "                    mean_novelty_5  mean_transience_5  num_comments  \\\n",
       "user                                                                  \n",
       "--insertnamehere--             NaN                NaN           1.0   \n",
       "-AlienBoy-                     NaN                NaN           3.0   \n",
       "-Asher-                   9.752601           9.741647           NaN   \n",
       "-DementedAvenger-              NaN                NaN           1.0   \n",
       "-Dubzyboy-                     NaN                NaN           1.0   \n",
       "\n",
       "                    max_score_comments  mean_score_comments  \\\n",
       "user                                                          \n",
       "--insertnamehere--                 1.0             1.000000   \n",
       "-AlienBoy-                         3.0             1.666667   \n",
       "-Asher-                            NaN                  NaN   \n",
       "-DementedAvenger-                  1.0             1.000000   \n",
       "-Dubzyboy-                         2.0             2.000000   \n",
       "\n",
       "                    min_score_comments  mean_length_comments  pagerank  \n",
       "user                                                                    \n",
       "--insertnamehere--                 1.0             27.000000  0.000184  \n",
       "-AlienBoy-                         1.0             67.333333  0.000184  \n",
       "-Asher-                            NaN                   NaN  0.000262  \n",
       "-DementedAvenger-                  1.0             24.000000  0.000184  \n",
       "-Dubzyboy-                         2.0              5.000000  0.000184  "
      ]
     },
     "execution_count": 5,
     "metadata": {},
     "output_type": "execute_result"
    }
   ],
   "source": [
    "users = pd.read_csv(users_file, index_col=0)\n",
    "users.head()"
   ]
  },
  {
   "cell_type": "markdown",
   "metadata": {},
   "source": [
    "## Exploritory Data Analysis\n",
    "Lets get a feel for the data"
   ]
  },
  {
   "cell_type": "markdown",
   "metadata": {},
   "source": [
    "### Exploring Submissions"
   ]
  },
  {
   "cell_type": "markdown",
   "metadata": {},
   "source": [
    "#### Simple Histograms"
   ]
  },
  {
   "cell_type": "code",
   "execution_count": 6,
   "metadata": {},
   "outputs": [
    {
     "data": {
      "image/png": "[encoded data removed]",
      "text/plain": [
       "<Figure size 432x288 with 1 Axes>"
      ]
     },
     "metadata": {
      "needs_background": "light"
     },
     "output_type": "display_data"
    }
   ],
   "source": [
    "plt.hist(submissions['score'])\n",
    "plt.show()"
   ]
  },
  {
   "cell_type": "code",
   "execution_count": 7,
   "metadata": {},
   "outputs": [
    {
     "data": {
      "image/png": "[encoded data removed]",
      "text/plain": [
       "<Figure size 432x288 with 1 Axes>"
      ]
     },
     "metadata": {
      "needs_background": "light"
     },
     "output_type": "display_data"
    }
   ],
   "source": [
    "plt.hist(submissions['content'].apply(len))\n",
    "plt.show()"
   ]
  },
  {
   "cell_type": "code",
   "execution_count": 8,
   "metadata": {},
   "outputs": [
    {
     "data": {
      "image/png": "[encoded data removed]",
      "text/plain": [
       "<Figure size 432x288 with 1 Axes>"
      ]
     },
     "metadata": {
      "needs_background": "light"
     },
     "output_type": "display_data"
    }
   ],
   "source": [
    "plt.hist(submissions['entropy'])\n",
    "plt.show()"
   ]
  },
  {
   "cell_type": "code",
   "execution_count": 9,
   "metadata": {},
   "outputs": [
    {
     "name": "stderr",
     "output_type": "stream",
     "text": [
      "/home/mjkern/miniconda3/lib/python3.7/site-packages/numpy/lib/histograms.py:754: RuntimeWarning: invalid value encountered in greater_equal\n",
      "  keep = (tmp_a >= first_edge)\n",
      "/home/mjkern/miniconda3/lib/python3.7/site-packages/numpy/lib/histograms.py:755: RuntimeWarning: invalid value encountered in less_equal\n",
      "  keep &= (tmp_a <= last_edge)\n"
     ]
    },
    {
     "data": {
      "image/png": "[encoded data removed]",
      "text/plain": [
       "<Figure size 432x288 with 1 Axes>"
      ]
     },
     "metadata": {
      "needs_background": "light"
     },
     "output_type": "display_data"
    }
   ],
   "source": [
    "plt.hist(submissions['novelty'])\n",
    "plt.show()"
   ]
  },
  {
   "cell_type": "code",
   "execution_count": 10,
   "metadata": {},
   "outputs": [
    {
     "data": {
      "image/png": "[encoded data removed]",
      "text/plain": [
       "<Figure size 432x288 with 1 Axes>"
      ]
     },
     "metadata": {
      "needs_background": "light"
     },
     "output_type": "display_data"
    }
   ],
   "source": [
    "plt.hist(submissions['novelty_5'])\n",
    "plt.show()"
   ]
  },
  {
   "cell_type": "code",
   "execution_count": 11,
   "metadata": {},
   "outputs": [
    {
     "data": {
      "image/png": "[encoded data removed]",
      "text/plain": [
       "<Figure size 432x288 with 1 Axes>"
      ]
     },
     "metadata": {
      "needs_background": "light"
     },
     "output_type": "display_data"
    }
   ],
   "source": [
    "plt.hist(submissions['transience'])\n",
    "plt.show()"
   ]
  },
  {
   "cell_type": "code",
   "execution_count": 12,
   "metadata": {},
   "outputs": [
    {
     "data": {
      "image/png": "[encoded data removed]",
      "text/plain": [
       "<Figure size 432x288 with 1 Axes>"
      ]
     },
     "metadata": {
      "needs_background": "light"
     },
     "output_type": "display_data"
    }
   ],
   "source": [
    "plt.hist(submissions['transience_5'])\n",
    "plt.show()"
   ]
  },
  {
   "cell_type": "code",
   "execution_count": 13,
   "metadata": {},
   "outputs": [
    {
     "data": {
      "image/png": "[encoded data removed]",
      "text/plain": [
       "<Figure size 432x288 with 1 Axes>"
      ]
     },
     "metadata": {
      "needs_background": "light"
     },
     "output_type": "display_data"
    }
   ],
   "source": [
    "plt.hist(submissions['impact'])\n",
    "plt.show()"
   ]
  },
  {
   "cell_type": "code",
   "execution_count": 14,
   "metadata": {},
   "outputs": [
    {
     "data": {
      "image/png": "[encoded data removed]",
      "text/plain": [
       "<Figure size 432x288 with 1 Axes>"
      ]
     },
     "metadata": {
      "needs_background": "light"
     },
     "output_type": "display_data"
    }
   ],
   "source": [
    "plt.hist(submissions['impact_5'])\n",
    "plt.show()"
   ]
  },
  {
   "cell_type": "markdown",
   "metadata": {},
   "source": [
    "#### Submission Scatterplots"
   ]
  },
  {
   "cell_type": "code",
   "execution_count": 15,
   "metadata": {},
   "outputs": [
    {
     "ename": "NameError",
     "evalue": "name 'slope' is not defined",
     "output_type": "error",
     "traceback": [
      "\u001b[0;31m---------------------------------------------------------------------------\u001b[0m",
      "\u001b[0;31mNameError\u001b[0m                                 Traceback (most recent call last)",
      "\u001b[0;32m<ipython-input-15-80e834610787>\u001b[0m in \u001b[0;36m<module>\u001b[0;34m\u001b[0m\n\u001b[1;32m      6\u001b[0m \u001b[0;31m# best fit line\u001b[0m\u001b[0;34m\u001b[0m\u001b[0;34m\u001b[0m\u001b[0;34m\u001b[0m\u001b[0m\n\u001b[1;32m      7\u001b[0m \u001b[0mm\u001b[0m\u001b[0;34m,\u001b[0m \u001b[0mb\u001b[0m\u001b[0;34m,\u001b[0m \u001b[0mr\u001b[0m\u001b[0;34m,\u001b[0m \u001b[0mp\u001b[0m\u001b[0;34m,\u001b[0m \u001b[0mstd_err\u001b[0m \u001b[0;34m=\u001b[0m \u001b[0mstats\u001b[0m\u001b[0;34m.\u001b[0m\u001b[0mlinregress\u001b[0m\u001b[0;34m(\u001b[0m\u001b[0mx\u001b[0m\u001b[0;34m,\u001b[0m \u001b[0my\u001b[0m\u001b[0;34m)\u001b[0m\u001b[0;34m\u001b[0m\u001b[0;34m\u001b[0m\u001b[0m\n\u001b[0;32m----> 8\u001b[0;31m \u001b[0mprint\u001b[0m\u001b[0;34m(\u001b[0m\u001b[0;34m\"slope: \"\u001b[0m \u001b[0;34m+\u001b[0m \u001b[0mstr\u001b[0m\u001b[0;34m(\u001b[0m\u001b[0mslope\u001b[0m\u001b[0;34m)\u001b[0m\u001b[0;34m)\u001b[0m\u001b[0;34m\u001b[0m\u001b[0;34m\u001b[0m\u001b[0m\n\u001b[0m\u001b[1;32m      9\u001b[0m \u001b[0mprint\u001b[0m\u001b[0;34m(\u001b[0m\u001b[0;34m\"intercept: \"\u001b[0m \u001b[0;34m+\u001b[0m \u001b[0mstr\u001b[0m\u001b[0;34m(\u001b[0m\u001b[0mb\u001b[0m\u001b[0;34m)\u001b[0m\u001b[0;34m)\u001b[0m\u001b[0;34m\u001b[0m\u001b[0;34m\u001b[0m\u001b[0m\n\u001b[1;32m     10\u001b[0m \u001b[0mprint\u001b[0m\u001b[0;34m(\u001b[0m\u001b[0;34m\"r: \"\u001b[0m \u001b[0;34m+\u001b[0m \u001b[0mstr\u001b[0m\u001b[0;34m(\u001b[0m\u001b[0mr\u001b[0m\u001b[0;34m)\u001b[0m\u001b[0;34m)\u001b[0m\u001b[0;34m\u001b[0m\u001b[0;34m\u001b[0m\u001b[0m\n",
      "\u001b[0;31mNameError\u001b[0m: name 'slope' is not defined"
     ]
    },
    {
     "data": {
      "image/png": "[encoded data removed]",
      "text/plain": [
       "<Figure size 432x288 with 1 Axes>"
      ]
     },
     "metadata": {
      "needs_background": "light"
     },
     "output_type": "display_data"
    }
   ],
   "source": [
    "# scatterplot\n",
    "x = safe_submissions['content'].apply(len)\n",
    "y = safe_submissions['score']\n",
    "plt.scatter(x, y, alpha=0.2)\n",
    "\n",
    "# best fit line\n",
    "m, b, r, p, std_err = stats.linregress(x, y)\n",
    "print(\"slope: \" + str(m))\n",
    "print(\"intercept: \" + str(b))\n",
    "print(\"r: \" + str(r))\n",
    "print(\"r-squared: \" + str(r**2))\n",
    "print(\"standard error: \" + str(std_err))\n",
    "plt.plot(x, b + m * x, color=\"red\")\n",
    "\n",
    "plt.show()"
   ]
  },
  {
   "cell_type": "code",
   "execution_count": null,
   "metadata": {},
   "outputs": [],
   "source": [
    "plt.scatter(x=submissions['entropy'], y=submissions['score'], alpha=0.2)"
   ]
  },
  {
   "cell_type": "code",
   "execution_count": null,
   "metadata": {},
   "outputs": [],
   "source": [
    "plt.scatter(x=submissions['novelty'], y=submissions['score'], alpha=0.2)\n",
    "plt.show()"
   ]
  },
  {
   "cell_type": "code",
   "execution_count": null,
   "metadata": {},
   "outputs": [],
   "source": [
    "plt.scatter(x=submissions['novelty_5'], y=submissions['score'], alpha=0.2)\n",
    "plt.show()"
   ]
  },
  {
   "cell_type": "code",
   "execution_count": null,
   "metadata": {},
   "outputs": [],
   "source": [
    "plt.scatter(x=submissions['transience'], y=submissions['score'], alpha=0.05)\n",
    "plt.show()"
   ]
  },
  {
   "cell_type": "code",
   "execution_count": null,
   "metadata": {},
   "outputs": [],
   "source": [
    "plt.scatter(x=submissions['transience_5'], y=submissions['score'], alpha=0.05)\n",
    "plt.show()"
   ]
  },
  {
   "cell_type": "code",
   "execution_count": null,
   "metadata": {},
   "outputs": [],
   "source": [
    "# novelty-transcience plot\n",
    "plt.scatter(x=submissions['novelty'], y=submissions['transience'], s=submissions['score'] / 100, alpha=0.3)\n",
    "\n",
    "# add line of equality\n",
    "domain = np.arange(5, 13)\n",
    "plt.plot(domain, domain, color='purple')\n",
    "\n",
    "plt.show()"
   ]
  },
  {
   "cell_type": "code",
   "execution_count": null,
   "metadata": {},
   "outputs": [],
   "source": [
    "# novelty-transcience plot\n",
    "plt.scatter(x=submissions['novelty_5'], y=submissions['transience_5'], s=submissions['score'] / 100, alpha=0.3)\n",
    "\n",
    "# add line of equality\n",
    "domain = np.arange(6, 12)\n",
    "plt.plot(domain, domain, color='purple')\n",
    "\n",
    "plt.show()"
   ]
  },
  {
   "cell_type": "code",
   "execution_count": null,
   "metadata": {},
   "outputs": [],
   "source": [
    "# scatterplot\n",
    "x = safe_submissions['impact']\n",
    "y = safe_submissions['score']\n",
    "plt.scatter(x, y, alpha=0.2)\n",
    "\n",
    "# best fit line\n",
    "m, b, r, p, std_err = stats.linregress(x, y)\n",
    "print(\"slope: \" + str(m))\n",
    "print(\"intercept: \" + str(b))\n",
    "print(\"r: \" + str(r))\n",
    "print(\"r-squared: \" + str(r**2))\n",
    "print(\"standard error: \" + str(std_err))\n",
    "plt.plot(x, b + m * x, color=\"red\")\n",
    "\n",
    "plt.show()"
   ]
  },
  {
   "cell_type": "code",
   "execution_count": null,
   "metadata": {},
   "outputs": [],
   "source": [
    "# scatterplot\n",
    "x = safe_submissions['impact_5']\n",
    "y = safe_submissions['score']\n",
    "plt.scatter(x, y, alpha=0.2)\n",
    "\n",
    "# best fit line\n",
    "m, b, r, p, std_err = stats.linregress(x, y)\n",
    "print(\"slope: \" + str(m))\n",
    "print(\"intercept: \" + str(b))\n",
    "print(\"r: \" + str(r))\n",
    "print(\"r-squared: \" + str(r**2))\n",
    "print(\"standard error: \" + str(std_err))\n",
    "plt.plot(x, b + m * x, color=\"red\")\n",
    "\n",
    "plt.show()"
   ]
  },
  {
   "cell_type": "markdown",
   "metadata": {},
   "source": [
    "### Exploring Users"
   ]
  },
  {
   "cell_type": "markdown",
   "metadata": {},
   "source": [
    "#### Pagerank and Score"
   ]
  }
 ],
 "metadata": {
  "kernelspec": {
   "display_name": "Python 3",
   "language": "python",
   "name": "python3"
  },
  "language_info": {
   "codemirror_mode": {
    "name": "ipython",
    "version": 3
   },
   "file_extension": ".py",
   "mimetype": "text/x-python",
   "name": "python",
   "nbconvert_exporter": "python",
   "pygments_lexer": "ipython3",
   "version": "3.7.1"
  }
 },
 "nbformat": 4,
 "nbformat_minor": 2
}
