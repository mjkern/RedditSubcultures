{
 "cells": [
  {
   "cell_type": "markdown",
   "metadata": {},
   "source": [
    "# Cleaning and Augmentation\n",
    "This notebook is meant to read in the data downloaded from reddit and prepare it for analysis by cleaning it and doing some computation...\n",
    "\n",
    "But is has become my whole analysis - sorry..."
   ]
  },
  {
   "cell_type": "markdown",
   "metadata": {},
   "source": [
    "## Setup"
   ]
  },
  {
   "cell_type": "code",
   "execution_count": 217,
   "metadata": {},
   "outputs": [],
   "source": [
    "import pandas as pd\n",
    "import datetime\n",
    "import networkx as nx\n",
    "import matplotlib.pyplot as plt\n",
    "import numpy as np\n",
    "import scipy\n",
    "from scipy import stats\n",
    "import collections"
   ]
  },
  {
   "cell_type": "code",
   "execution_count": 218,
   "metadata": {},
   "outputs": [],
   "source": [
    "# Change this to analyze something else\n",
    "\n",
    "# ## a big one:\n",
    "# subreddit = \"enlightenedbirdmen\"\n",
    "# download_date_string = \"19.12.04-14:27:14\"\n",
    "\n",
    "# ## a meduim one:\n",
    "# subreddit = \"justwriterthings\"\n",
    "# download_date_string = \"19.12.04-10:30:56\"\n",
    "\n",
    "# ## a small one:\n",
    "# subreddit = \"The_B_Emoji\"\n",
    "# download_date_string = \"19.12.04-09:28:30\"\n",
    "\n",
    "## a very small one:\n",
    "subreddit = \"GamesWithHorses\"\n",
    "download_date_string = \"19.12.04-10:33:02\"\n",
    "\n",
    "# subreddit = \"relationship_advice\"\n",
    "# download_date_string = \"19.12.05-20:17:26\"\n",
    "\n",
    "# subreddit = \"Showerthoughts\"\n",
    "# download_date_string = \"19.12.05-20:40:00\"\n",
    "\n",
    "# subreddit = \"todayilearned\"\n",
    "# download_date_string = \"19.12.05-19:38:34\""
   ]
  },
  {
   "cell_type": "code",
   "execution_count": 219,
   "metadata": {},
   "outputs": [],
   "source": [
    "# Constants\n",
    "data_directory = \"downloads/\"\n",
    "submissions_suffix = \"-submissions-\" + download_date_string + \".csv\"\n",
    "comments_suffix = \"-comments-\" + download_date_string + \".csv\""
   ]
  },
  {
   "cell_type": "markdown",
   "metadata": {},
   "source": [
    "## Read the Data"
   ]
  },
  {
   "cell_type": "code",
   "execution_count": 220,
   "metadata": {},
   "outputs": [
    {
     "data": {
      "text/html": [
       "<div>\n",
       "<style scoped>\n",
       "    .dataframe tbody tr th:only-of-type {\n",
       "        vertical-align: middle;\n",
       "    }\n",
       "\n",
       "    .dataframe tbody tr th {\n",
       "        vertical-align: top;\n",
       "    }\n",
       "\n",
       "    .dataframe thead th {\n",
       "        text-align: right;\n",
       "    }\n",
       "</style>\n",
       "<table border=\"1\" class=\"dataframe\">\n",
       "  <thead>\n",
       "    <tr style=\"text-align: right;\">\n",
       "      <th></th>\n",
       "      <th>submission_id</th>\n",
       "      <th>user</th>\n",
       "      <th>utc</th>\n",
       "      <th>score</th>\n",
       "      <th>title</th>\n",
       "      <th>body</th>\n",
       "      <th>subreddit</th>\n",
       "    </tr>\n",
       "  </thead>\n",
       "  <tbody>\n",
       "    <tr>\n",
       "      <th>0</th>\n",
       "      <td>e53e5e</td>\n",
       "      <td>AliceTheGamedev</td>\n",
       "      <td>1.575312e+09</td>\n",
       "      <td>3</td>\n",
       "      <td>Kanna: An Open World Indie RPG with lots of ho...</td>\n",
       "      <td>NaN</td>\n",
       "      <td>GamesWithHorses</td>\n",
       "    </tr>\n",
       "    <tr>\n",
       "      <th>1</th>\n",
       "      <td>e1ewz6</td>\n",
       "      <td>boersc</td>\n",
       "      <td>1.574682e+09</td>\n",
       "      <td>3</td>\n",
       "      <td>The Unicorn Princess - Review</td>\n",
       "      <td>The Unicorn Princess by Big Ben and Toplitz pr...</td>\n",
       "      <td>GamesWithHorses</td>\n",
       "    </tr>\n",
       "    <tr>\n",
       "      <th>2</th>\n",
       "      <td>e0h8cx</td>\n",
       "      <td>AliceTheGamedev</td>\n",
       "      <td>1.574512e+09</td>\n",
       "      <td>4</td>\n",
       "      <td>Horse Care Mechanics: Why They’re Often Horrib...</td>\n",
       "      <td>NaN</td>\n",
       "      <td>GamesWithHorses</td>\n",
       "    </tr>\n",
       "    <tr>\n",
       "      <th>3</th>\n",
       "      <td>e0h8bm</td>\n",
       "      <td>AliceTheGamedev</td>\n",
       "      <td>1.574512e+09</td>\n",
       "      <td>4</td>\n",
       "      <td>Horse Isle 3: Player base divided over develop...</td>\n",
       "      <td>NaN</td>\n",
       "      <td>GamesWithHorses</td>\n",
       "    </tr>\n",
       "    <tr>\n",
       "      <th>4</th>\n",
       "      <td>e0h86s</td>\n",
       "      <td>AliceTheGamedev</td>\n",
       "      <td>1.574512e+09</td>\n",
       "      <td>2</td>\n",
       "      <td>New Facebook Group: Join the Horses &amp; Video Ga...</td>\n",
       "      <td>NaN</td>\n",
       "      <td>GamesWithHorses</td>\n",
       "    </tr>\n",
       "  </tbody>\n",
       "</table>\n",
       "</div>"
      ],
      "text/plain": [
       "  submission_id             user           utc  score  \\\n",
       "0        e53e5e  AliceTheGamedev  1.575312e+09      3   \n",
       "1        e1ewz6           boersc  1.574682e+09      3   \n",
       "2        e0h8cx  AliceTheGamedev  1.574512e+09      4   \n",
       "3        e0h8bm  AliceTheGamedev  1.574512e+09      4   \n",
       "4        e0h86s  AliceTheGamedev  1.574512e+09      2   \n",
       "\n",
       "                                               title  \\\n",
       "0  Kanna: An Open World Indie RPG with lots of ho...   \n",
       "1                      The Unicorn Princess - Review   \n",
       "2  Horse Care Mechanics: Why They’re Often Horrib...   \n",
       "3  Horse Isle 3: Player base divided over develop...   \n",
       "4  New Facebook Group: Join the Horses & Video Ga...   \n",
       "\n",
       "                                                body        subreddit  \n",
       "0                                                NaN  GamesWithHorses  \n",
       "1  The Unicorn Princess by Big Ben and Toplitz pr...  GamesWithHorses  \n",
       "2                                                NaN  GamesWithHorses  \n",
       "3                                                NaN  GamesWithHorses  \n",
       "4                                                NaN  GamesWithHorses  "
      ]
     },
     "execution_count": 220,
     "metadata": {},
     "output_type": "execute_result"
    }
   ],
   "source": [
    "# Read the submissions\n",
    "submissions_file = data_directory + subreddit + submissions_suffix\n",
    "submissions = pd.read_csv(submissions_file, index_col=0)\n",
    "submissions.head()"
   ]
  },
  {
   "cell_type": "code",
   "execution_count": 221,
   "metadata": {},
   "outputs": [
    {
     "data": {
      "text/html": [
       "<div>\n",
       "<style scoped>\n",
       "    .dataframe tbody tr th:only-of-type {\n",
       "        vertical-align: middle;\n",
       "    }\n",
       "\n",
       "    .dataframe tbody tr th {\n",
       "        vertical-align: top;\n",
       "    }\n",
       "\n",
       "    .dataframe thead th {\n",
       "        text-align: right;\n",
       "    }\n",
       "</style>\n",
       "<table border=\"1\" class=\"dataframe\">\n",
       "  <thead>\n",
       "    <tr style=\"text-align: right;\">\n",
       "      <th></th>\n",
       "      <th>comment_id</th>\n",
       "      <th>submission_id</th>\n",
       "      <th>user</th>\n",
       "      <th>utc</th>\n",
       "      <th>score</th>\n",
       "      <th>body</th>\n",
       "    </tr>\n",
       "  </thead>\n",
       "  <tbody>\n",
       "    <tr>\n",
       "      <th>0</th>\n",
       "      <td>f9hb6q9</td>\n",
       "      <td>t3_e1ewz6</td>\n",
       "      <td>AliceTheGamedev</td>\n",
       "      <td>1.575312e+09</td>\n",
       "      <td>1</td>\n",
       "      <td>Thank you for sharing!!</td>\n",
       "    </tr>\n",
       "    <tr>\n",
       "      <th>1</th>\n",
       "      <td>f3eiitz</td>\n",
       "      <td>t3_dgsz1h</td>\n",
       "      <td>AliceTheGamedev</td>\n",
       "      <td>1.570879e+09</td>\n",
       "      <td>3</td>\n",
       "      <td>Hi there! \\n\\nAs you may have seen, there was ...</td>\n",
       "    </tr>\n",
       "    <tr>\n",
       "      <th>2</th>\n",
       "      <td>f6kw4co</td>\n",
       "      <td>t3_d1ojsq</td>\n",
       "      <td>Technomancer_AO</td>\n",
       "      <td>1.572922e+09</td>\n",
       "      <td>2</td>\n",
       "      <td>That is one chonky horse</td>\n",
       "    </tr>\n",
       "    <tr>\n",
       "      <th>3</th>\n",
       "      <td>eo7hk0r</td>\n",
       "      <td>t3_bq13zt</td>\n",
       "      <td>AliceTheGamedev</td>\n",
       "      <td>1.558340e+09</td>\n",
       "      <td>1</td>\n",
       "      <td>I think there is a ton of untapped potential f...</td>\n",
       "    </tr>\n",
       "    <tr>\n",
       "      <th>4</th>\n",
       "      <td>eo17mdj</td>\n",
       "      <td>t3_bnrcx7</td>\n",
       "      <td>Unkn0wnHero</td>\n",
       "      <td>1.558193e+09</td>\n",
       "      <td>2</td>\n",
       "      <td>cool it looks like they do take feedback :) nice!</td>\n",
       "    </tr>\n",
       "  </tbody>\n",
       "</table>\n",
       "</div>"
      ],
      "text/plain": [
       "  comment_id submission_id             user           utc  score  \\\n",
       "0    f9hb6q9     t3_e1ewz6  AliceTheGamedev  1.575312e+09      1   \n",
       "1    f3eiitz     t3_dgsz1h  AliceTheGamedev  1.570879e+09      3   \n",
       "2    f6kw4co     t3_d1ojsq  Technomancer_AO  1.572922e+09      2   \n",
       "3    eo7hk0r     t3_bq13zt  AliceTheGamedev  1.558340e+09      1   \n",
       "4    eo17mdj     t3_bnrcx7      Unkn0wnHero  1.558193e+09      2   \n",
       "\n",
       "                                                body  \n",
       "0                            Thank you for sharing!!  \n",
       "1  Hi there! \\n\\nAs you may have seen, there was ...  \n",
       "2                           That is one chonky horse  \n",
       "3  I think there is a ton of untapped potential f...  \n",
       "4  cool it looks like they do take feedback :) nice!  "
      ]
     },
     "execution_count": 221,
     "metadata": {},
     "output_type": "execute_result"
    }
   ],
   "source": [
    "# Read the comments\n",
    "comments_file = data_directory + subreddit + comments_suffix\n",
    "comments = pd.read_csv(comments_file, index_col=0)\n",
    "comments.head()"
   ]
  },
  {
   "cell_type": "markdown",
   "metadata": {},
   "source": [
    "## Data Cleaning"
   ]
  },
  {
   "cell_type": "code",
   "execution_count": 222,
   "metadata": {},
   "outputs": [],
   "source": [
    "# Remove the t3_ prefix from comment submission ids\n",
    "comments[\"submission_id\"] = comments[\"submission_id\"].apply(lambda s: s.split(\"t3_\")[1])\n",
    "\n",
    "# Empty content should be the empty string - not nan\n",
    "submissions['body'] = submissions['body'].fillna(value=\"\")\n",
    "comments['body'] = comments['body'].fillna(value=\"\")"
   ]
  },
  {
   "cell_type": "markdown",
   "metadata": {},
   "source": [
    "## Data Conversion"
   ]
  },
  {
   "cell_type": "code",
   "execution_count": 223,
   "metadata": {},
   "outputs": [
    {
     "data": {
      "text/html": [
       "<div>\n",
       "<style scoped>\n",
       "    .dataframe tbody tr th:only-of-type {\n",
       "        vertical-align: middle;\n",
       "    }\n",
       "\n",
       "    .dataframe tbody tr th {\n",
       "        vertical-align: top;\n",
       "    }\n",
       "\n",
       "    .dataframe thead th {\n",
       "        text-align: right;\n",
       "    }\n",
       "</style>\n",
       "<table border=\"1\" class=\"dataframe\">\n",
       "  <thead>\n",
       "    <tr style=\"text-align: right;\">\n",
       "      <th></th>\n",
       "      <th>comment_id</th>\n",
       "      <th>submission_id</th>\n",
       "      <th>user</th>\n",
       "      <th>utc</th>\n",
       "      <th>score</th>\n",
       "      <th>body</th>\n",
       "      <th>date</th>\n",
       "    </tr>\n",
       "  </thead>\n",
       "  <tbody>\n",
       "    <tr>\n",
       "      <th>0</th>\n",
       "      <td>f9hb6q9</td>\n",
       "      <td>e1ewz6</td>\n",
       "      <td>AliceTheGamedev</td>\n",
       "      <td>1.575312e+09</td>\n",
       "      <td>1</td>\n",
       "      <td>Thank you for sharing!!</td>\n",
       "      <td>2019-12-02 18:43:26</td>\n",
       "    </tr>\n",
       "    <tr>\n",
       "      <th>1</th>\n",
       "      <td>f3eiitz</td>\n",
       "      <td>dgsz1h</td>\n",
       "      <td>AliceTheGamedev</td>\n",
       "      <td>1.570879e+09</td>\n",
       "      <td>3</td>\n",
       "      <td>Hi there! \\n\\nAs you may have seen, there was ...</td>\n",
       "      <td>2019-10-12 11:13:36</td>\n",
       "    </tr>\n",
       "    <tr>\n",
       "      <th>2</th>\n",
       "      <td>f6kw4co</td>\n",
       "      <td>d1ojsq</td>\n",
       "      <td>Technomancer_AO</td>\n",
       "      <td>1.572922e+09</td>\n",
       "      <td>2</td>\n",
       "      <td>That is one chonky horse</td>\n",
       "      <td>2019-11-05 02:49:48</td>\n",
       "    </tr>\n",
       "    <tr>\n",
       "      <th>3</th>\n",
       "      <td>eo7hk0r</td>\n",
       "      <td>bq13zt</td>\n",
       "      <td>AliceTheGamedev</td>\n",
       "      <td>1.558340e+09</td>\n",
       "      <td>1</td>\n",
       "      <td>I think there is a ton of untapped potential f...</td>\n",
       "      <td>2019-05-20 08:07:23</td>\n",
       "    </tr>\n",
       "    <tr>\n",
       "      <th>4</th>\n",
       "      <td>eo17mdj</td>\n",
       "      <td>bnrcx7</td>\n",
       "      <td>Unkn0wnHero</td>\n",
       "      <td>1.558193e+09</td>\n",
       "      <td>2</td>\n",
       "      <td>cool it looks like they do take feedback :) nice!</td>\n",
       "      <td>2019-05-18 15:29:21</td>\n",
       "    </tr>\n",
       "  </tbody>\n",
       "</table>\n",
       "</div>"
      ],
      "text/plain": [
       "  comment_id submission_id             user           utc  score  \\\n",
       "0    f9hb6q9        e1ewz6  AliceTheGamedev  1.575312e+09      1   \n",
       "1    f3eiitz        dgsz1h  AliceTheGamedev  1.570879e+09      3   \n",
       "2    f6kw4co        d1ojsq  Technomancer_AO  1.572922e+09      2   \n",
       "3    eo7hk0r        bq13zt  AliceTheGamedev  1.558340e+09      1   \n",
       "4    eo17mdj        bnrcx7      Unkn0wnHero  1.558193e+09      2   \n",
       "\n",
       "                                                body                date  \n",
       "0                            Thank you for sharing!! 2019-12-02 18:43:26  \n",
       "1  Hi there! \\n\\nAs you may have seen, there was ... 2019-10-12 11:13:36  \n",
       "2                           That is one chonky horse 2019-11-05 02:49:48  \n",
       "3  I think there is a ton of untapped potential f... 2019-05-20 08:07:23  \n",
       "4  cool it looks like they do take feedback :) nice! 2019-05-18 15:29:21  "
      ]
     },
     "execution_count": 223,
     "metadata": {},
     "output_type": "execute_result"
    }
   ],
   "source": [
    "# Convert utc to date\n",
    "submissions['date'] = submissions['utc'].apply(datetime.datetime.utcfromtimestamp)\n",
    "comments['date'] = comments['utc'].apply(datetime.datetime.utcfromtimestamp)\n",
    "#submissions.head()\n",
    "comments.head()"
   ]
  },
  {
   "cell_type": "code",
   "execution_count": 224,
   "metadata": {},
   "outputs": [
    {
     "data": {
      "text/html": [
       "<div>\n",
       "<style scoped>\n",
       "    .dataframe tbody tr th:only-of-type {\n",
       "        vertical-align: middle;\n",
       "    }\n",
       "\n",
       "    .dataframe tbody tr th {\n",
       "        vertical-align: top;\n",
       "    }\n",
       "\n",
       "    .dataframe thead th {\n",
       "        text-align: right;\n",
       "    }\n",
       "</style>\n",
       "<table border=\"1\" class=\"dataframe\">\n",
       "  <thead>\n",
       "    <tr style=\"text-align: right;\">\n",
       "      <th></th>\n",
       "      <th>index</th>\n",
       "      <th>submission_id</th>\n",
       "      <th>user</th>\n",
       "      <th>utc</th>\n",
       "      <th>score</th>\n",
       "      <th>title</th>\n",
       "      <th>body</th>\n",
       "      <th>subreddit</th>\n",
       "      <th>date</th>\n",
       "    </tr>\n",
       "  </thead>\n",
       "  <tbody>\n",
       "    <tr>\n",
       "      <th>0</th>\n",
       "      <td>43</td>\n",
       "      <td>bhyr2a</td>\n",
       "      <td>AliceTheGamedev</td>\n",
       "      <td>1.556369e+09</td>\n",
       "      <td>6</td>\n",
       "      <td>Welcome to GamesWithHorses!</td>\n",
       "      <td>Hi I'm Alice. I make video games and write abo...</td>\n",
       "      <td>GamesWithHorses</td>\n",
       "      <td>2019-04-27 12:49:21</td>\n",
       "    </tr>\n",
       "    <tr>\n",
       "      <th>1</th>\n",
       "      <td>42</td>\n",
       "      <td>bhyus8</td>\n",
       "      <td>AliceTheGamedev</td>\n",
       "      <td>1.556370e+09</td>\n",
       "      <td>3</td>\n",
       "      <td>I'm playing Windstorm: Ari's Arrival for an up...</td>\n",
       "      <td></td>\n",
       "      <td>GamesWithHorses</td>\n",
       "      <td>2019-04-27 13:02:33</td>\n",
       "    </tr>\n",
       "    <tr>\n",
       "      <th>2</th>\n",
       "      <td>41</td>\n",
       "      <td>bhyzf0</td>\n",
       "      <td>AliceTheGamedev</td>\n",
       "      <td>1.556371e+09</td>\n",
       "      <td>3</td>\n",
       "      <td>Equestrian The Game looks absolutely amazing. ...</td>\n",
       "      <td></td>\n",
       "      <td>GamesWithHorses</td>\n",
       "      <td>2019-04-27 13:18:16</td>\n",
       "    </tr>\n",
       "    <tr>\n",
       "      <th>3</th>\n",
       "      <td>40</td>\n",
       "      <td>bimy2l</td>\n",
       "      <td>AliceTheGamedev</td>\n",
       "      <td>1.556525e+09</td>\n",
       "      <td>7</td>\n",
       "      <td>Sliding Stop in Red Dead 2 and in real life</td>\n",
       "      <td></td>\n",
       "      <td>GamesWithHorses</td>\n",
       "      <td>2019-04-29 08:04:32</td>\n",
       "    </tr>\n",
       "    <tr>\n",
       "      <th>4</th>\n",
       "      <td>39</td>\n",
       "      <td>binhwc</td>\n",
       "      <td>AliceTheGamedev</td>\n",
       "      <td>1.556530e+09</td>\n",
       "      <td>3</td>\n",
       "      <td>Alway great when you come across a new game wi...</td>\n",
       "      <td></td>\n",
       "      <td>GamesWithHorses</td>\n",
       "      <td>2019-04-29 09:30:42</td>\n",
       "    </tr>\n",
       "  </tbody>\n",
       "</table>\n",
       "</div>"
      ],
      "text/plain": [
       "   index submission_id             user           utc  score  \\\n",
       "0     43        bhyr2a  AliceTheGamedev  1.556369e+09      6   \n",
       "1     42        bhyus8  AliceTheGamedev  1.556370e+09      3   \n",
       "2     41        bhyzf0  AliceTheGamedev  1.556371e+09      3   \n",
       "3     40        bimy2l  AliceTheGamedev  1.556525e+09      7   \n",
       "4     39        binhwc  AliceTheGamedev  1.556530e+09      3   \n",
       "\n",
       "                                               title  \\\n",
       "0                        Welcome to GamesWithHorses!   \n",
       "1  I'm playing Windstorm: Ari's Arrival for an up...   \n",
       "2  Equestrian The Game looks absolutely amazing. ...   \n",
       "3        Sliding Stop in Red Dead 2 and in real life   \n",
       "4  Alway great when you come across a new game wi...   \n",
       "\n",
       "                                                body        subreddit  \\\n",
       "0  Hi I'm Alice. I make video games and write abo...  GamesWithHorses   \n",
       "1                                                     GamesWithHorses   \n",
       "2                                                     GamesWithHorses   \n",
       "3                                                     GamesWithHorses   \n",
       "4                                                     GamesWithHorses   \n",
       "\n",
       "                 date  \n",
       "0 2019-04-27 12:49:21  \n",
       "1 2019-04-27 13:02:33  \n",
       "2 2019-04-27 13:18:16  \n",
       "3 2019-04-29 08:04:32  \n",
       "4 2019-04-29 09:30:42  "
      ]
     },
     "execution_count": 224,
     "metadata": {},
     "output_type": "execute_result"
    }
   ],
   "source": [
    "# Ensure time ordering of submissions\n",
    "submissions = submissions.sort_values(['date'], ascending = [1]).reset_index()\n",
    "submissions.head()"
   ]
  },
  {
   "cell_type": "markdown",
   "metadata": {},
   "source": [
    "## Pagerank\n",
    "This uses [networkx](https://networkx.github.io/documentation/networkx-1.10/index.html)"
   ]
  },
  {
   "cell_type": "code",
   "execution_count": 225,
   "metadata": {},
   "outputs": [],
   "source": [
    "# # proff that directed edges are defined (start, end)\n",
    "# d = nx.DiGraph()\n",
    "# d.add_node(1)\n",
    "# d.add_node(2)\n",
    "# d.add_edge(1, 2)\n",
    "# nx.draw_networkx(d)"
   ]
  },
  {
   "cell_type": "code",
   "execution_count": 226,
   "metadata": {},
   "outputs": [
    {
     "data": {
      "image/png": "[encoded data removed]",
      "text/plain": [
       "<Figure size 432x288 with 1 Axes>"
      ]
     },
     "metadata": {},
     "output_type": "display_data"
    }
   ],
   "source": [
    "# Start by creating a directed graph\n",
    "g = nx.DiGraph()\n",
    "\n",
    "# Each user is a node in the graph\n",
    "g.add_nodes_from(set(submissions['user'].append(comments['user'])))\n",
    "\n",
    "# Each comment is a directed edge\n",
    "pd.merge(submissions, comments, on='submission_id') \\\n",
    "    .apply(lambda row: g.add_edge(row[\"user_y\"], row[\"user_x\"]), axis=1)\n",
    "\n",
    "# Visualize the graph\n",
    "nx.draw(g)\n",
    "plt.show()"
   ]
  },
  {
   "cell_type": "code",
   "execution_count": 227,
   "metadata": {},
   "outputs": [],
   "source": [
    "# Now lets calculate pagerank\n",
    "pagerank = nx.pagerank(g)\n",
    "#pagerank # uncomment to preview"
   ]
  },
  {
   "cell_type": "code",
   "execution_count": 228,
   "metadata": {},
   "outputs": [
    {
     "data": {
      "image/png": "[encoded data removed]",
      "text/plain": [
       "<Figure size 432x288 with 1 Axes>"
      ]
     },
     "metadata": {},
     "output_type": "display_data"
    }
   ],
   "source": [
    "# and visualize it - 8000 is just a scaling factor to make the dots visible\n",
    "nx.draw(g, node_size=[8000 * x for x in pagerank.values()])\n",
    "plt.show()"
   ]
  },
  {
   "cell_type": "markdown",
   "metadata": {},
   "source": [
    "## KLD"
   ]
  },
  {
   "cell_type": "code",
   "execution_count": 229,
   "metadata": {},
   "outputs": [],
   "source": [
    "# Start by defining post content\n",
    "submissions['content'] = submissions['body'] + submissions['title']"
   ]
  },
  {
   "cell_type": "code",
   "execution_count": 230,
   "metadata": {},
   "outputs": [],
   "source": [
    "# A helper for calculating word frequencies\n",
    "def p_dist(content):\n",
    "    words = content.split() # tokenize by splitting on whitespace\n",
    "    counts = collections.Counter(words)\n",
    "    total = sum(counts.values())\n",
    "    return {word: count / total for word, count in counts.items()}\n",
    "\n",
    "# Calculate the word frequencies for every submission\n",
    "submissions['word_p_dist'] = submissions['content'].apply(p_dist)"
   ]
  },
  {
   "cell_type": "code",
   "execution_count": 231,
   "metadata": {},
   "outputs": [],
   "source": [
    "# And now calculating entropy is easy\n",
    "submissions['entropy'] = submissions['word_p_dist'].apply(lambda d: scipy.stats.entropy(list(d.values()), base=2))"
   ]
  },
  {
   "cell_type": "code",
   "execution_count": 232,
   "metadata": {},
   "outputs": [],
   "source": [
    "# A constant because 0 probabilities break math\n",
    "infinitesimal = 0.0001\n",
    "\n",
    "# Helper for calculating kld\n",
    "def kld(word_freq1, word_freq2):\n",
    "    if word_freq1 == None or word_freq2 == None:\n",
    "        return np.nan\n",
    "    p_dist1 = []\n",
    "    p_dist2 = []\n",
    "    for (word, freq) in word_freq1.items():\n",
    "        p_dist1.append(freq)\n",
    "        p_dist2.append(infinitesimal if not word in word_freq2 else word_freq2[word])\n",
    "    for (word, freq) in word_freq2.items():\n",
    "        if not word in word_freq1:\n",
    "            p_dist1.append(infinitesimal)\n",
    "            p_dist2.append(freq)\n",
    "    return scipy.stats.entropy(p_dist1, p_dist2, base=2)\n",
    "\n",
    "## simple test - should be equal\n",
    "# scipy.stats.entropy([0.25, 0.75, infinitesimal], [0.5, 0.4, 0.1], base=2)\n",
    "# kld({'a':0.25, 'b':0.75}, {'a':0.5, 'b':0.4, 'c':0.1})"
   ]
  },
  {
   "cell_type": "code",
   "execution_count": 233,
   "metadata": {},
   "outputs": [],
   "source": [
    "# Calculate novelty\n",
    "submissions['prev_submission_dist'] = submissions['word_p_dist'].shift(1).replace(to_replace={float(\"Nan\"): None})\n",
    "submissions['novelty'] = submissions.apply(lambda row: kld(row['word_p_dist'], row['prev_submission_dist']), axis=1)\n",
    "submissions = submissions.drop('prev_submission_dist', axis=1)"
   ]
  },
  {
   "cell_type": "code",
   "execution_count": 234,
   "metadata": {},
   "outputs": [],
   "source": [
    "# And calculate transience\n",
    "submissions['next_submission_dist'] = submissions['word_p_dist'].shift(-1).replace(to_replace={float(\"Nan\"): None})\n",
    "submissions['transience'] = submissions.apply(lambda row: kld(row['word_p_dist'], row['next_submission_dist']), axis=1)\n",
    "submissions = submissions.drop('next_submission_dist', axis=1)"
   ]
  },
  {
   "cell_type": "code",
   "execution_count": 235,
   "metadata": {},
   "outputs": [],
   "source": [
    "# Calculate novelty based on multiple previous submissions\n",
    "window_size = 5\n",
    "\n",
    "# Helper to average kld of multiple other submissions\n",
    "def average_kld(of_dist, given_dists):\n",
    "    if any(map(lambda x: x == None, given_dists)):\n",
    "        return float(\"Nan\")\n",
    "    return np.mean(list(map(lambda given_dist: kld(of_dist, given_dist), given_dists)))\n",
    "\n",
    "# Get the distributions of earlier submissions\n",
    "submissions['prev_dists'] = submissions['word_p_dist'].apply(lambda x: list()) # get a sequence of empty lists\n",
    "for i in range(1, window_size + 1):\n",
    "    submissions['prev_dists'] = submissions['prev_dists'].combine(submissions['word_p_dist'].shift(i).replace(to_replace={float(\"Nan\"): None}), lambda x, y: x + [y])\n",
    "\n",
    "# And calculate novelty based on that window\n",
    "submissions['novelty_5'] = submissions.apply(lambda row: average_kld(row['word_p_dist'], row['prev_dists']), axis=1)\n",
    "\n",
    "# Cleanup\n",
    "submissions = submissions.drop('prev_dists', axis=1)"
   ]
  },
  {
   "cell_type": "code",
   "execution_count": 236,
   "metadata": {},
   "outputs": [],
   "source": [
    "# Get the distributions of later submissions\n",
    "submissions['next_dists'] = submissions['word_p_dist'].apply(lambda x: list()) # get a sequence of empty lists\n",
    "for i in range(1, window_size + 1):\n",
    "    submissions['next_dists'] = submissions['next_dists'].combine(submissions['word_p_dist'].shift(-1 * i).replace(to_replace={float(\"Nan\"): None}), lambda x, y: x + [y])\n",
    "\n",
    "# And calculate novelty based on that window\n",
    "submissions['transience_5'] = submissions.apply(lambda row: average_kld(row['word_p_dist'], row['next_dists']), axis=1)\n",
    "\n",
    "# Cleanup\n",
    "submissions = submissions.drop('next_dists', axis=1)"
   ]
  },
  {
   "cell_type": "code",
   "execution_count": 237,
   "metadata": {},
   "outputs": [],
   "source": [
    "# Add a column for the difference between novelty and transience - let's call this... the impact\n",
    "submissions['impact'] = submissions['novelty'] - submissions['transience']\n",
    "submissions['impact_5'] = submissions['novelty_5'] - submissions['transience_5']"
   ]
  },
  {
   "cell_type": "markdown",
   "metadata": {},
   "source": [
    "## Grouping By Users"
   ]
  },
  {
   "cell_type": "code",
   "execution_count": 238,
   "metadata": {},
   "outputs": [
    {
     "data": {
      "text/html": [
       "<div>\n",
       "<style scoped>\n",
       "    .dataframe tbody tr th:only-of-type {\n",
       "        vertical-align: middle;\n",
       "    }\n",
       "\n",
       "    .dataframe tbody tr th {\n",
       "        vertical-align: top;\n",
       "    }\n",
       "\n",
       "    .dataframe thead th {\n",
       "        text-align: right;\n",
       "    }\n",
       "</style>\n",
       "<table border=\"1\" class=\"dataframe\">\n",
       "  <thead>\n",
       "    <tr style=\"text-align: right;\">\n",
       "      <th></th>\n",
       "      <th>num_posts</th>\n",
       "      <th>max_score</th>\n",
       "      <th>mean_score</th>\n",
       "      <th>min_score</th>\n",
       "      <th>mean_length</th>\n",
       "      <th>pagerank</th>\n",
       "      <th>mean_impact</th>\n",
       "      <th>mean_novelty</th>\n",
       "      <th>mean_transience</th>\n",
       "      <th>mean_impact_5</th>\n",
       "      <th>mean_novelty_5</th>\n",
       "      <th>mean_transience_5</th>\n",
       "    </tr>\n",
       "    <tr>\n",
       "      <th>user</th>\n",
       "      <th></th>\n",
       "      <th></th>\n",
       "      <th></th>\n",
       "      <th></th>\n",
       "      <th></th>\n",
       "      <th></th>\n",
       "      <th></th>\n",
       "      <th></th>\n",
       "      <th></th>\n",
       "      <th></th>\n",
       "      <th></th>\n",
       "      <th></th>\n",
       "    </tr>\n",
       "  </thead>\n",
       "  <tbody>\n",
       "    <tr>\n",
       "      <th>AliceTheGamedev</th>\n",
       "      <td>34.0</td>\n",
       "      <td>13.0</td>\n",
       "      <td>4.970588</td>\n",
       "      <td>2.0</td>\n",
       "      <td>101.970588</td>\n",
       "      <td>0.309569</td>\n",
       "      <td>0.122497</td>\n",
       "      <td>8.574779</td>\n",
       "      <td>8.415218</td>\n",
       "      <td>0.196551</td>\n",
       "      <td>8.603613</td>\n",
       "      <td>8.559572</td>\n",
       "    </tr>\n",
       "    <tr>\n",
       "      <th>FeastYourEarTongues</th>\n",
       "      <td>1.0</td>\n",
       "      <td>6.0</td>\n",
       "      <td>6.000000</td>\n",
       "      <td>6.0</td>\n",
       "      <td>1201.000000</td>\n",
       "      <td>0.141123</td>\n",
       "      <td>-0.623768</td>\n",
       "      <td>5.998356</td>\n",
       "      <td>6.622124</td>\n",
       "      <td>-0.193507</td>\n",
       "      <td>6.344321</td>\n",
       "      <td>6.537828</td>\n",
       "    </tr>\n",
       "    <tr>\n",
       "      <th>Shandragontear</th>\n",
       "      <td>1.0</td>\n",
       "      <td>5.0</td>\n",
       "      <td>5.000000</td>\n",
       "      <td>5.0</td>\n",
       "      <td>136.000000</td>\n",
       "      <td>0.053412</td>\n",
       "      <td>-2.170084</td>\n",
       "      <td>7.555602</td>\n",
       "      <td>9.725685</td>\n",
       "      <td>-0.285033</td>\n",
       "      <td>9.288518</td>\n",
       "      <td>9.573551</td>\n",
       "    </tr>\n",
       "    <tr>\n",
       "      <th>Unkn0wnHero</th>\n",
       "      <td>1.0</td>\n",
       "      <td>3.0</td>\n",
       "      <td>3.000000</td>\n",
       "      <td>3.0</td>\n",
       "      <td>183.000000</td>\n",
       "      <td>0.141123</td>\n",
       "      <td>0.260070</td>\n",
       "      <td>8.746636</td>\n",
       "      <td>8.486566</td>\n",
       "      <td>-0.205031</td>\n",
       "      <td>8.181824</td>\n",
       "      <td>8.386855</td>\n",
       "    </tr>\n",
       "    <tr>\n",
       "      <th>boersc</th>\n",
       "      <td>1.0</td>\n",
       "      <td>3.0</td>\n",
       "      <td>3.000000</td>\n",
       "      <td>3.0</td>\n",
       "      <td>3343.000000</td>\n",
       "      <td>0.141123</td>\n",
       "      <td>0.097596</td>\n",
       "      <td>5.274168</td>\n",
       "      <td>5.176572</td>\n",
       "      <td>NaN</td>\n",
       "      <td>5.204394</td>\n",
       "      <td>NaN</td>\n",
       "    </tr>\n",
       "  </tbody>\n",
       "</table>\n",
       "</div>"
      ],
      "text/plain": [
       "                     num_posts  max_score  mean_score  min_score  mean_length  \\\n",
       "user                                                                            \n",
       "AliceTheGamedev           34.0       13.0    4.970588        2.0   101.970588   \n",
       "FeastYourEarTongues        1.0        6.0    6.000000        6.0  1201.000000   \n",
       "Shandragontear             1.0        5.0    5.000000        5.0   136.000000   \n",
       "Unkn0wnHero                1.0        3.0    3.000000        3.0   183.000000   \n",
       "boersc                     1.0        3.0    3.000000        3.0  3343.000000   \n",
       "\n",
       "                     pagerank  mean_impact  mean_novelty  mean_transience  \\\n",
       "user                                                                        \n",
       "AliceTheGamedev      0.309569     0.122497      8.574779         8.415218   \n",
       "FeastYourEarTongues  0.141123    -0.623768      5.998356         6.622124   \n",
       "Shandragontear       0.053412    -2.170084      7.555602         9.725685   \n",
       "Unkn0wnHero          0.141123     0.260070      8.746636         8.486566   \n",
       "boersc               0.141123     0.097596      5.274168         5.176572   \n",
       "\n",
       "                     mean_impact_5  mean_novelty_5  mean_transience_5  \n",
       "user                                                                   \n",
       "AliceTheGamedev           0.196551        8.603613           8.559572  \n",
       "FeastYourEarTongues      -0.193507        6.344321           6.537828  \n",
       "Shandragontear           -0.285033        9.288518           9.573551  \n",
       "Unkn0wnHero              -0.205031        8.181824           8.386855  \n",
       "boersc                         NaN        5.204394                NaN  "
      ]
     },
     "execution_count": 238,
     "metadata": {},
     "output_type": "execute_result"
    }
   ],
   "source": [
    "user_submissions = submissions.groupby(\"user\").apply(lambda g: pd.Series(\n",
    "    {\n",
    "        'num_posts': g['title'].size,\n",
    "        'max_score': g['score'].max(),\n",
    "        'mean_score': g['score'].mean(),\n",
    "        'min_score': g['score'].min(),\n",
    "        'mean_length': g.apply(lambda row: len(row['title'] + row['body']), axis=1).mean(),\n",
    "        'pagerank': pagerank[g['user'].iloc[0]], # weird indexing gets username and then finds pagerank for that user\n",
    "        'mean_impact': g['impact'].mean(),\n",
    "        'mean_novelty': g['novelty'].mean(),\n",
    "        'mean_transience': g['transience'].mean(),\n",
    "        'mean_impact_5': g['impact_5'].mean(),\n",
    "        'mean_novelty_5': g['novelty_5'].mean(),\n",
    "        'mean_transience_5': g['transience_5'].mean()\n",
    "    }\n",
    "))\n",
    "user_submissions.head()"
   ]
  },
  {
   "cell_type": "code",
   "execution_count": 239,
   "metadata": {},
   "outputs": [
    {
     "data": {
      "text/html": [
       "<div>\n",
       "<style scoped>\n",
       "    .dataframe tbody tr th:only-of-type {\n",
       "        vertical-align: middle;\n",
       "    }\n",
       "\n",
       "    .dataframe tbody tr th {\n",
       "        vertical-align: top;\n",
       "    }\n",
       "\n",
       "    .dataframe thead th {\n",
       "        text-align: right;\n",
       "    }\n",
       "</style>\n",
       "<table border=\"1\" class=\"dataframe\">\n",
       "  <thead>\n",
       "    <tr style=\"text-align: right;\">\n",
       "      <th></th>\n",
       "      <th>num_comments</th>\n",
       "      <th>max_score</th>\n",
       "      <th>mean_score</th>\n",
       "      <th>min_score</th>\n",
       "      <th>mean_length</th>\n",
       "      <th>pagerank</th>\n",
       "    </tr>\n",
       "    <tr>\n",
       "      <th>user</th>\n",
       "      <th></th>\n",
       "      <th></th>\n",
       "      <th></th>\n",
       "      <th></th>\n",
       "      <th></th>\n",
       "      <th></th>\n",
       "    </tr>\n",
       "  </thead>\n",
       "  <tbody>\n",
       "    <tr>\n",
       "      <th>AliceTheGamedev</th>\n",
       "      <td>3.0</td>\n",
       "      <td>3.0</td>\n",
       "      <td>1.666667</td>\n",
       "      <td>1.0</td>\n",
       "      <td>579.0</td>\n",
       "      <td>0.309569</td>\n",
       "    </tr>\n",
       "    <tr>\n",
       "      <th>PepsiMuppet</th>\n",
       "      <td>1.0</td>\n",
       "      <td>1.0</td>\n",
       "      <td>1.000000</td>\n",
       "      <td>1.0</td>\n",
       "      <td>18.0</td>\n",
       "      <td>0.053412</td>\n",
       "    </tr>\n",
       "    <tr>\n",
       "      <th>Technomancer_AO</th>\n",
       "      <td>1.0</td>\n",
       "      <td>2.0</td>\n",
       "      <td>2.000000</td>\n",
       "      <td>2.0</td>\n",
       "      <td>24.0</td>\n",
       "      <td>0.053412</td>\n",
       "    </tr>\n",
       "    <tr>\n",
       "      <th>Unkn0wnHero</th>\n",
       "      <td>1.0</td>\n",
       "      <td>2.0</td>\n",
       "      <td>2.000000</td>\n",
       "      <td>2.0</td>\n",
       "      <td>49.0</td>\n",
       "      <td>0.141123</td>\n",
       "    </tr>\n",
       "    <tr>\n",
       "      <th>ValllllllllleyGirl</th>\n",
       "      <td>1.0</td>\n",
       "      <td>2.0</td>\n",
       "      <td>2.000000</td>\n",
       "      <td>2.0</td>\n",
       "      <td>52.0</td>\n",
       "      <td>0.053412</td>\n",
       "    </tr>\n",
       "  </tbody>\n",
       "</table>\n",
       "</div>"
      ],
      "text/plain": [
       "                    num_comments  max_score  mean_score  min_score  \\\n",
       "user                                                                 \n",
       "AliceTheGamedev              3.0        3.0    1.666667        1.0   \n",
       "PepsiMuppet                  1.0        1.0    1.000000        1.0   \n",
       "Technomancer_AO              1.0        2.0    2.000000        2.0   \n",
       "Unkn0wnHero                  1.0        2.0    2.000000        2.0   \n",
       "ValllllllllleyGirl           1.0        2.0    2.000000        2.0   \n",
       "\n",
       "                    mean_length  pagerank  \n",
       "user                                       \n",
       "AliceTheGamedev           579.0  0.309569  \n",
       "PepsiMuppet                18.0  0.053412  \n",
       "Technomancer_AO            24.0  0.053412  \n",
       "Unkn0wnHero                49.0  0.141123  \n",
       "ValllllllllleyGirl         52.0  0.053412  "
      ]
     },
     "execution_count": 239,
     "metadata": {},
     "output_type": "execute_result"
    }
   ],
   "source": [
    "user_comments = comments.groupby(\"user\").apply(lambda g: pd.Series(\n",
    "    {\n",
    "        'num_comments': g['body'].size,\n",
    "        'max_score': g['score'].max(),\n",
    "        'mean_score': g['score'].mean(),\n",
    "        'min_score': g['score'].min(),\n",
    "        'mean_length': g['body'].apply(len).mean(),\n",
    "        'pagerank': pagerank[g['user'].iloc[0]] # weird indexing gets username and then finds pagerank for that user\n",
    "    }\n",
    "))\n",
    "user_comments.head()"
   ]
  },
  {
   "cell_type": "markdown",
   "metadata": {},
   "source": [
    "## Merging the Tables"
   ]
  },
  {
   "cell_type": "code",
   "execution_count": 240,
   "metadata": {},
   "outputs": [
    {
     "data": {
      "text/html": [
       "<div>\n",
       "<style scoped>\n",
       "    .dataframe tbody tr th:only-of-type {\n",
       "        vertical-align: middle;\n",
       "    }\n",
       "\n",
       "    .dataframe tbody tr th {\n",
       "        vertical-align: top;\n",
       "    }\n",
       "\n",
       "    .dataframe thead th {\n",
       "        text-align: right;\n",
       "    }\n",
       "</style>\n",
       "<table border=\"1\" class=\"dataframe\">\n",
       "  <thead>\n",
       "    <tr style=\"text-align: right;\">\n",
       "      <th></th>\n",
       "      <th>num_posts</th>\n",
       "      <th>max_score_submissions</th>\n",
       "      <th>mean_score_submissions</th>\n",
       "      <th>min_score_submissions</th>\n",
       "      <th>mean_length_submissions</th>\n",
       "      <th>mean_impact</th>\n",
       "      <th>mean_novelty</th>\n",
       "      <th>mean_transience</th>\n",
       "      <th>mean_impact_5</th>\n",
       "      <th>mean_novelty_5</th>\n",
       "      <th>mean_transience_5</th>\n",
       "      <th>num_comments</th>\n",
       "      <th>max_score_comments</th>\n",
       "      <th>mean_score_comments</th>\n",
       "      <th>min_score_comments</th>\n",
       "      <th>mean_length_comments</th>\n",
       "      <th>pagerank</th>\n",
       "    </tr>\n",
       "    <tr>\n",
       "      <th>user</th>\n",
       "      <th></th>\n",
       "      <th></th>\n",
       "      <th></th>\n",
       "      <th></th>\n",
       "      <th></th>\n",
       "      <th></th>\n",
       "      <th></th>\n",
       "      <th></th>\n",
       "      <th></th>\n",
       "      <th></th>\n",
       "      <th></th>\n",
       "      <th></th>\n",
       "      <th></th>\n",
       "      <th></th>\n",
       "      <th></th>\n",
       "      <th></th>\n",
       "      <th></th>\n",
       "    </tr>\n",
       "  </thead>\n",
       "  <tbody>\n",
       "    <tr>\n",
       "      <th>AliceTheGamedev</th>\n",
       "      <td>34.0</td>\n",
       "      <td>13.0</td>\n",
       "      <td>4.970588</td>\n",
       "      <td>2.0</td>\n",
       "      <td>101.970588</td>\n",
       "      <td>0.122497</td>\n",
       "      <td>8.574779</td>\n",
       "      <td>8.415218</td>\n",
       "      <td>0.196551</td>\n",
       "      <td>8.603613</td>\n",
       "      <td>8.559572</td>\n",
       "      <td>3.0</td>\n",
       "      <td>3.0</td>\n",
       "      <td>1.666667</td>\n",
       "      <td>1.0</td>\n",
       "      <td>579.0</td>\n",
       "      <td>0.309569</td>\n",
       "    </tr>\n",
       "    <tr>\n",
       "      <th>FeastYourEarTongues</th>\n",
       "      <td>1.0</td>\n",
       "      <td>6.0</td>\n",
       "      <td>6.000000</td>\n",
       "      <td>6.0</td>\n",
       "      <td>1201.000000</td>\n",
       "      <td>-0.623768</td>\n",
       "      <td>5.998356</td>\n",
       "      <td>6.622124</td>\n",
       "      <td>-0.193507</td>\n",
       "      <td>6.344321</td>\n",
       "      <td>6.537828</td>\n",
       "      <td>NaN</td>\n",
       "      <td>NaN</td>\n",
       "      <td>NaN</td>\n",
       "      <td>NaN</td>\n",
       "      <td>NaN</td>\n",
       "      <td>0.141123</td>\n",
       "    </tr>\n",
       "    <tr>\n",
       "      <th>PepsiMuppet</th>\n",
       "      <td>NaN</td>\n",
       "      <td>NaN</td>\n",
       "      <td>NaN</td>\n",
       "      <td>NaN</td>\n",
       "      <td>NaN</td>\n",
       "      <td>NaN</td>\n",
       "      <td>NaN</td>\n",
       "      <td>NaN</td>\n",
       "      <td>NaN</td>\n",
       "      <td>NaN</td>\n",
       "      <td>NaN</td>\n",
       "      <td>1.0</td>\n",
       "      <td>1.0</td>\n",
       "      <td>1.000000</td>\n",
       "      <td>1.0</td>\n",
       "      <td>18.0</td>\n",
       "      <td>0.053412</td>\n",
       "    </tr>\n",
       "    <tr>\n",
       "      <th>Shandragontear</th>\n",
       "      <td>1.0</td>\n",
       "      <td>5.0</td>\n",
       "      <td>5.000000</td>\n",
       "      <td>5.0</td>\n",
       "      <td>136.000000</td>\n",
       "      <td>-2.170084</td>\n",
       "      <td>7.555602</td>\n",
       "      <td>9.725685</td>\n",
       "      <td>-0.285033</td>\n",
       "      <td>9.288518</td>\n",
       "      <td>9.573551</td>\n",
       "      <td>NaN</td>\n",
       "      <td>NaN</td>\n",
       "      <td>NaN</td>\n",
       "      <td>NaN</td>\n",
       "      <td>NaN</td>\n",
       "      <td>0.053412</td>\n",
       "    </tr>\n",
       "    <tr>\n",
       "      <th>Technomancer_AO</th>\n",
       "      <td>NaN</td>\n",
       "      <td>NaN</td>\n",
       "      <td>NaN</td>\n",
       "      <td>NaN</td>\n",
       "      <td>NaN</td>\n",
       "      <td>NaN</td>\n",
       "      <td>NaN</td>\n",
       "      <td>NaN</td>\n",
       "      <td>NaN</td>\n",
       "      <td>NaN</td>\n",
       "      <td>NaN</td>\n",
       "      <td>1.0</td>\n",
       "      <td>2.0</td>\n",
       "      <td>2.000000</td>\n",
       "      <td>2.0</td>\n",
       "      <td>24.0</td>\n",
       "      <td>0.053412</td>\n",
       "    </tr>\n",
       "  </tbody>\n",
       "</table>\n",
       "</div>"
      ],
      "text/plain": [
       "                     num_posts  max_score_submissions  mean_score_submissions  \\\n",
       "user                                                                            \n",
       "AliceTheGamedev           34.0                   13.0                4.970588   \n",
       "FeastYourEarTongues        1.0                    6.0                6.000000   \n",
       "PepsiMuppet                NaN                    NaN                     NaN   \n",
       "Shandragontear             1.0                    5.0                5.000000   \n",
       "Technomancer_AO            NaN                    NaN                     NaN   \n",
       "\n",
       "                     min_score_submissions  mean_length_submissions  \\\n",
       "user                                                                  \n",
       "AliceTheGamedev                        2.0               101.970588   \n",
       "FeastYourEarTongues                    6.0              1201.000000   \n",
       "PepsiMuppet                            NaN                      NaN   \n",
       "Shandragontear                         5.0               136.000000   \n",
       "Technomancer_AO                        NaN                      NaN   \n",
       "\n",
       "                     mean_impact  mean_novelty  mean_transience  \\\n",
       "user                                                              \n",
       "AliceTheGamedev         0.122497      8.574779         8.415218   \n",
       "FeastYourEarTongues    -0.623768      5.998356         6.622124   \n",
       "PepsiMuppet                  NaN           NaN              NaN   \n",
       "Shandragontear         -2.170084      7.555602         9.725685   \n",
       "Technomancer_AO              NaN           NaN              NaN   \n",
       "\n",
       "                     mean_impact_5  mean_novelty_5  mean_transience_5  \\\n",
       "user                                                                    \n",
       "AliceTheGamedev           0.196551        8.603613           8.559572   \n",
       "FeastYourEarTongues      -0.193507        6.344321           6.537828   \n",
       "PepsiMuppet                    NaN             NaN                NaN   \n",
       "Shandragontear           -0.285033        9.288518           9.573551   \n",
       "Technomancer_AO                NaN             NaN                NaN   \n",
       "\n",
       "                     num_comments  max_score_comments  mean_score_comments  \\\n",
       "user                                                                         \n",
       "AliceTheGamedev               3.0                 3.0             1.666667   \n",
       "FeastYourEarTongues           NaN                 NaN                  NaN   \n",
       "PepsiMuppet                   1.0                 1.0             1.000000   \n",
       "Shandragontear                NaN                 NaN                  NaN   \n",
       "Technomancer_AO               1.0                 2.0             2.000000   \n",
       "\n",
       "                     min_score_comments  mean_length_comments  pagerank  \n",
       "user                                                                     \n",
       "AliceTheGamedev                     1.0                 579.0  0.309569  \n",
       "FeastYourEarTongues                 NaN                   NaN  0.141123  \n",
       "PepsiMuppet                         1.0                  18.0  0.053412  \n",
       "Shandragontear                      NaN                   NaN  0.053412  \n",
       "Technomancer_AO                     2.0                  24.0  0.053412  "
      ]
     },
     "execution_count": 240,
     "metadata": {},
     "output_type": "execute_result"
    }
   ],
   "source": [
    "users = user_submissions.join(user_comments, how=\"outer\", lsuffix=\"_submissions\", rsuffix=\"_comments\")\n",
    "\n",
    "## Clean up after the merge\n",
    "\n",
    "# outer join means pagerank may only be defined in one case and not the other - combine them\n",
    "users['pagerank'] = users.apply(lambda row: row['pagerank_comments'] if np.isnan(row['pagerank_submissions']) else row['pagerank_submissions'], axis=1)\n",
    "users = users.drop('pagerank_submissions', axis=1)\n",
    "users = users.drop('pagerank_comments', axis=1)\n",
    "users.head()"
   ]
  },
  {
   "cell_type": "markdown",
   "metadata": {},
   "source": [
    "## Save the Data"
   ]
  },
  {
   "cell_type": "code",
   "execution_count": 241,
   "metadata": {},
   "outputs": [],
   "source": [
    "save_path = \"data/\"\n",
    "users.to_csv(save_path + subreddit + \"-users-\" + download_date_string + \".csv\")\n",
    "submissions.to_csv(save_path + subreddit + \"-augmented-submissions-\" + download_date_string + \".csv\")\n",
    "comments.to_csv(save_path + subreddit + \"-augmented-comments-\" + download_date_string + \".csv\")"
   ]
  },
  {
   "cell_type": "markdown",
   "metadata": {},
   "source": [
    "## EDA"
   ]
  },
  {
   "cell_type": "code",
   "execution_count": 242,
   "metadata": {},
   "outputs": [
    {
     "data": {
      "image/png": "[encoded data removed]",
      "text/plain": [
       "<Figure size 432x288 with 1 Axes>"
      ]
     },
     "metadata": {
      "needs_background": "light"
     },
     "output_type": "display_data"
    }
   ],
   "source": [
    "# mean score vs pagerank\n",
    "plt.scatter(x=users['pagerank'], y=users['mean_score_submissions'])\n",
    "plt.show()"
   ]
  },
  {
   "cell_type": "code",
   "execution_count": 243,
   "metadata": {},
   "outputs": [
    {
     "data": {
      "image/png": "[encoded data removed]",
      "text/plain": [
       "<Figure size 432x288 with 1 Axes>"
      ]
     },
     "metadata": {
      "needs_background": "light"
     },
     "output_type": "display_data"
    }
   ],
   "source": [
    "# min score vs pagerank\n",
    "plt.scatter(x=users['pagerank'], y=users['min_score_submissions'])\n",
    "plt.show()"
   ]
  },
  {
   "cell_type": "code",
   "execution_count": 244,
   "metadata": {},
   "outputs": [
    {
     "data": {
      "image/png": "[encoded data removed]",
      "text/plain": [
       "<Figure size 432x288 with 1 Axes>"
      ]
     },
     "metadata": {
      "needs_background": "light"
     },
     "output_type": "display_data"
    }
   ],
   "source": [
    "# max score vs pagerank\n",
    "plt.scatter(x=users['pagerank'], y=users['max_score_submissions'])\n",
    "plt.show()"
   ]
  },
  {
   "cell_type": "code",
   "execution_count": 245,
   "metadata": {},
   "outputs": [
    {
     "data": {
      "image/png": "[encoded data removed]",
      "text/plain": [
       "<Figure size 432x288 with 1 Axes>"
      ]
     },
     "metadata": {
      "needs_background": "light"
     },
     "output_type": "display_data"
    }
   ],
   "source": [
    "# number of comments vs pagerank\n",
    "plt.scatter(x=users['num_comments'], y=users['pagerank'])\n",
    "plt.show()"
   ]
  },
  {
   "cell_type": "code",
   "execution_count": 246,
   "metadata": {},
   "outputs": [
    {
     "data": {
      "image/png": "[encoded data removed]",
      "text/plain": [
       "<Figure size 432x288 with 1 Axes>"
      ]
     },
     "metadata": {
      "needs_background": "light"
     },
     "output_type": "display_data"
    }
   ],
   "source": [
    "# number of posts vs pagerank - should be correlated (more submissions to comment on)\n",
    "plt.scatter(x=users['num_posts'], y=users['pagerank'])\n",
    "plt.show()\n",
    "# okay, my hypothesis was wrong..."
   ]
  },
  {
   "cell_type": "code",
   "execution_count": 247,
   "metadata": {},
   "outputs": [
    {
     "data": {
      "image/png": "[encoded data removed]",
      "text/plain": [
       "<Figure size 432x288 with 1 Axes>"
      ]
     },
     "metadata": {
      "needs_background": "light"
     },
     "output_type": "display_data"
    }
   ],
   "source": [
    "plt.hist(users['mean_score_submissions'])\n",
    "plt.show()"
   ]
  },
  {
   "cell_type": "code",
   "execution_count": 248,
   "metadata": {},
   "outputs": [
    {
     "data": {
      "image/png": "[encoded data removed]",
      "text/plain": [
       "<Figure size 432x288 with 1 Axes>"
      ]
     },
     "metadata": {
      "needs_background": "light"
     },
     "output_type": "display_data"
    }
   ],
   "source": [
    "plt.hist(users['mean_score_comments'])\n",
    "plt.show()"
   ]
  },
  {
   "cell_type": "code",
   "execution_count": 249,
   "metadata": {},
   "outputs": [
    {
     "data": {
      "image/png": "[encoded data removed]",
      "text/plain": [
       "<Figure size 432x288 with 1 Axes>"
      ]
     },
     "metadata": {
      "needs_background": "light"
     },
     "output_type": "display_data"
    }
   ],
   "source": [
    "plt.hist(users['max_score_submissions'])\n",
    "plt.show()"
   ]
  },
  {
   "cell_type": "code",
   "execution_count": 250,
   "metadata": {},
   "outputs": [
    {
     "data": {
      "image/png": "[encoded data removed]",
      "text/plain": [
       "<Figure size 432x288 with 1 Axes>"
      ]
     },
     "metadata": {
      "needs_background": "light"
     },
     "output_type": "display_data"
    }
   ],
   "source": [
    "plt.hist(users['max_score_comments'])\n",
    "plt.show()"
   ]
  },
  {
   "cell_type": "code",
   "execution_count": 251,
   "metadata": {},
   "outputs": [
    {
     "data": {
      "image/png": "[encoded data removed]",
      "text/plain": [
       "<Figure size 432x288 with 1 Axes>"
      ]
     },
     "metadata": {
      "needs_background": "light"
     },
     "output_type": "display_data"
    }
   ],
   "source": [
    "plt.hist(users['min_score_submissions'])\n",
    "plt.show()"
   ]
  },
  {
   "cell_type": "code",
   "execution_count": 252,
   "metadata": {},
   "outputs": [
    {
     "data": {
      "image/png": "[encoded data removed]",
      "text/plain": [
       "<Figure size 432x288 with 1 Axes>"
      ]
     },
     "metadata": {
      "needs_background": "light"
     },
     "output_type": "display_data"
    }
   ],
   "source": [
    "plt.hist(users['min_score_comments'])\n",
    "plt.show()"
   ]
  },
  {
   "cell_type": "code",
   "execution_count": 253,
   "metadata": {},
   "outputs": [
    {
     "data": {
      "image/png": "[encoded data removed]",
      "text/plain": [
       "<Figure size 432x288 with 1 Axes>"
      ]
     },
     "metadata": {
      "needs_background": "light"
     },
     "output_type": "display_data"
    }
   ],
   "source": [
    "plt.scatter(x=users['mean_length_submissions'], y=users['mean_score_submissions'])\n",
    "plt.show()"
   ]
  },
  {
   "cell_type": "code",
   "execution_count": 254,
   "metadata": {},
   "outputs": [
    {
     "data": {
      "image/png": "[encoded data removed]",
      "text/plain": [
       "<Figure size 432x288 with 1 Axes>"
      ]
     },
     "metadata": {
      "needs_background": "light"
     },
     "output_type": "display_data"
    }
   ],
   "source": [
    "plt.scatter(x=users['mean_length_submissions'], y=users['pagerank'])\n",
    "plt.show()"
   ]
  },
  {
   "cell_type": "markdown",
   "metadata": {},
   "source": [
    "## Just Submission Stuff"
   ]
  },
  {
   "cell_type": "code",
   "execution_count": 255,
   "metadata": {},
   "outputs": [
    {
     "data": {
      "image/png": "[encoded data removed]",
      "text/plain": [
       "<Figure size 432x288 with 1 Axes>"
      ]
     },
     "metadata": {
      "needs_background": "light"
     },
     "output_type": "display_data"
    }
   ],
   "source": [
    "plt.scatter(x=submissions['novelty'], y=submissions['score'])\n",
    "plt.show()"
   ]
  },
  {
   "cell_type": "code",
   "execution_count": 256,
   "metadata": {},
   "outputs": [
    {
     "data": {
      "image/png": "[encoded data removed]",
      "text/plain": [
       "<Figure size 432x288 with 1 Axes>"
      ]
     },
     "metadata": {
      "needs_background": "light"
     },
     "output_type": "display_data"
    }
   ],
   "source": [
    "plt.scatter(x=submissions['transience'], y=submissions['score'])\n",
    "plt.show()"
   ]
  },
  {
   "cell_type": "code",
   "execution_count": 257,
   "metadata": {},
   "outputs": [
    {
     "data": {
      "image/png": "[encoded data removed]",
      "text/plain": [
       "<Figure size 432x288 with 1 Axes>"
      ]
     },
     "metadata": {
      "needs_background": "light"
     },
     "output_type": "display_data"
    }
   ],
   "source": [
    "# novelty-transcience plot\n",
    "plt.scatter(x=submissions['novelty'], y=submissions['transience'], s=submissions['score'] / 100, alpha=0.3)\n",
    "\n",
    "# add line of equality\n",
    "domain = np.arange(4, 11)\n",
    "plt.plot(domain, domain, color='red')\n",
    "plt.show()"
   ]
  },
  {
   "cell_type": "code",
   "execution_count": 258,
   "metadata": {},
   "outputs": [
    {
     "data": {
      "image/png": "[encoded data removed]",
      "text/plain": [
       "<Figure size 432x288 with 1 Axes>"
      ]
     },
     "metadata": {
      "needs_background": "light"
     },
     "output_type": "display_data"
    }
   ],
   "source": [
    "plt.scatter(x=submissions['novelty_5'], y=submissions['score'])\n",
    "plt.show()"
   ]
  },
  {
   "cell_type": "code",
   "execution_count": 259,
   "metadata": {},
   "outputs": [
    {
     "data": {
      "image/png": "[encoded data removed]",
      "text/plain": [
       "<Figure size 432x288 with 1 Axes>"
      ]
     },
     "metadata": {
      "needs_background": "light"
     },
     "output_type": "display_data"
    }
   ],
   "source": [
    "plt.scatter(x=submissions['transience_5'], y=submissions['score'])\n",
    "plt.show()"
   ]
  },
  {
   "cell_type": "code",
   "execution_count": 260,
   "metadata": {},
   "outputs": [
    {
     "data": {
      "image/png": "[encoded data removed]",
      "text/plain": [
       "<Figure size 432x288 with 1 Axes>"
      ]
     },
     "metadata": {
      "needs_background": "light"
     },
     "output_type": "display_data"
    }
   ],
   "source": [
    "# novelty-transcience plot\n",
    "plt.scatter(x=submissions['novelty_5'], y=submissions['transience_5'], s=submissions['score'] / 500, alpha=0.3)\n",
    "\n",
    "# add line of equality\n",
    "domain = np.arange(5, 10)\n",
    "plt.plot(domain, domain, color='red')\n",
    "plt.show()"
   ]
  },
  {
   "cell_type": "code",
   "execution_count": 261,
   "metadata": {},
   "outputs": [
    {
     "data": {
      "image/png": "[encoded data removed]",
      "text/plain": [
       "<Figure size 432x288 with 1 Axes>"
      ]
     },
     "metadata": {
      "needs_background": "light"
     },
     "output_type": "display_data"
    }
   ],
   "source": [
    "plt.scatter(x=submissions['impact'], y=submissions['score'], alpha=0.2)\n",
    "plt.show()"
   ]
  },
  {
   "cell_type": "markdown",
   "metadata": {},
   "source": [
    "## Users and KLD"
   ]
  },
  {
   "cell_type": "code",
   "execution_count": 262,
   "metadata": {},
   "outputs": [
    {
     "data": {
      "image/png": "[encoded data removed]",
      "text/plain": [
       "<Figure size 432x288 with 1 Axes>"
      ]
     },
     "metadata": {
      "needs_background": "light"
     },
     "output_type": "display_data"
    }
   ],
   "source": [
    "plt.scatter(x=users['mean_impact'], y=users['mean_score_submissions'], alpha=0.2)\n",
    "plt.show()"
   ]
  },
  {
   "cell_type": "code",
   "execution_count": 263,
   "metadata": {},
   "outputs": [
    {
     "data": {
      "image/png": "[encoded data removed]",
      "text/plain": [
       "<Figure size 432x288 with 1 Axes>"
      ]
     },
     "metadata": {
      "needs_background": "light"
     },
     "output_type": "display_data"
    }
   ],
   "source": [
    "plt.scatter(x=users['mean_impact_5'], y=users['mean_score_submissions'], alpha=0.2)\n",
    "plt.show()"
   ]
  },
  {
   "cell_type": "code",
   "execution_count": 264,
   "metadata": {},
   "outputs": [
    {
     "data": {
      "image/png": "[encoded data removed]",
      "text/plain": [
       "<Figure size 432x288 with 1 Axes>"
      ]
     },
     "metadata": {
      "needs_background": "light"
     },
     "output_type": "display_data"
    }
   ],
   "source": [
    "# novelty-transcience plot\n",
    "plt.scatter(x=users['mean_novelty'], y=users['mean_transience'], s=users['mean_score_submissions'] / 500, alpha=0.3)\n",
    "\n",
    "# add line of equality\n",
    "domain = np.arange(4, 10)\n",
    "plt.plot(domain, domain, color='red')\n",
    "plt.show()"
   ]
  },
  {
   "cell_type": "code",
   "execution_count": 265,
   "metadata": {},
   "outputs": [
    {
     "data": {
      "image/png": "[encoded data removed]",
      "text/plain": [
       "<Figure size 432x288 with 1 Axes>"
      ]
     },
     "metadata": {
      "needs_background": "light"
     },
     "output_type": "display_data"
    }
   ],
   "source": [
    "# novelty-transcience plot\n",
    "plt.scatter(x=users['mean_novelty_5'], y=users['mean_transience_5'], s=users['mean_score_submissions'] / 500, alpha=0.3)\n",
    "\n",
    "# add line of equality\n",
    "domain = np.arange(5, 10)\n",
    "plt.plot(domain, domain, color='red')\n",
    "plt.show()"
   ]
  },
  {
   "cell_type": "markdown",
   "metadata": {},
   "source": [
    "## Pagerank and KLD for Users!!!"
   ]
  },
  {
   "cell_type": "code",
   "execution_count": 266,
   "metadata": {},
   "outputs": [
    {
     "data": {
      "image/png": "[encoded data removed]",
      "text/plain": [
       "<Figure size 432x288 with 1 Axes>"
      ]
     },
     "metadata": {
      "needs_background": "light"
     },
     "output_type": "display_data"
    }
   ],
   "source": [
    "# novelty-transcience plot\n",
    "plt.scatter(x=users['mean_novelty'], y=users['mean_transience'], s=users['pagerank']*6000, alpha=0.3)\n",
    "\n",
    "# add line of equality\n",
    "domain = np.arange(4, 10)\n",
    "plt.plot(domain, domain, color='red')\n",
    "plt.show()"
   ]
  },
  {
   "cell_type": "code",
   "execution_count": 267,
   "metadata": {},
   "outputs": [
    {
     "data": {
      "image/png": "[encoded data removed]",
      "text/plain": [
       "<Figure size 432x288 with 1 Axes>"
      ]
     },
     "metadata": {
      "needs_background": "light"
     },
     "output_type": "display_data"
    }
   ],
   "source": [
    "plt.scatter(x=users['mean_impact'], y=users['pagerank'], alpha=0.2)\n",
    "plt.show()"
   ]
  },
  {
   "cell_type": "code",
   "execution_count": 268,
   "metadata": {},
   "outputs": [
    {
     "data": {
      "image/png": "[encoded data removed]",
      "text/plain": [
       "<Figure size 432x288 with 1 Axes>"
      ]
     },
     "metadata": {
      "needs_background": "light"
     },
     "output_type": "display_data"
    }
   ],
   "source": [
    "# novelty-transcience plot\n",
    "plt.scatter(x=users['mean_novelty_5'], y=users['mean_transience_5'], s=users['pagerank']*9000, alpha=0.3)\n",
    "\n",
    "# add line of equality\n",
    "domain = np.arange(5, 10)\n",
    "plt.plot(domain, domain, color='red')\n",
    "plt.show()"
   ]
  },
  {
   "cell_type": "code",
   "execution_count": 269,
   "metadata": {},
   "outputs": [
    {
     "data": {
      "image/png": "[encoded data removed]",
      "text/plain": [
       "<Figure size 432x288 with 1 Axes>"
      ]
     },
     "metadata": {
      "needs_background": "light"
     },
     "output_type": "display_data"
    }
   ],
   "source": [
    "plt.scatter(x=users['mean_impact_5'], y=users['pagerank'], alpha=0.2)\n",
    "plt.show()"
   ]
  },
  {
   "cell_type": "code",
   "execution_count": 270,
   "metadata": {},
   "outputs": [
    {
     "data": {
      "image/png": "[encoded data removed]",
      "text/plain": [
       "<Figure size 432x288 with 1 Axes>"
      ]
     },
     "metadata": {
      "needs_background": "light"
     },
     "output_type": "display_data"
    }
   ],
   "source": [
    "plt.scatter(x=users['mean_novelty_5'], y=users['pagerank'])\n",
    "plt.show()"
   ]
  }
 ],
 "metadata": {
  "kernelspec": {
   "display_name": "Python 3",
   "language": "python",
   "name": "python3"
  },
  "language_info": {
   "codemirror_mode": {
    "name": "ipython",
    "version": 3
   },
   "file_extension": ".py",
   "mimetype": "text/x-python",
   "name": "python",
   "nbconvert_exporter": "python",
   "pygments_lexer": "ipython3",
   "version": "3.7.1"
  }
 },
 "nbformat": 4,
 "nbformat_minor": 2
}
