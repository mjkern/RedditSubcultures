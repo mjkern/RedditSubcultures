{
 "cells": [
  {
   "cell_type": "markdown",
   "metadata": {},
   "source": [
    "# Cleaning and Augmentation\n",
    "This notebook is meant to read in the data downloaded from reddit and prepare it for analysis by cleaning it and doing some computation."
   ]
  },
  {
   "cell_type": "markdown",
   "metadata": {},
   "source": [
    "## Setup"
   ]
  },
  {
   "cell_type": "code",
   "execution_count": null,
   "metadata": {},
   "outputs": [],
   "source": [
    "import pandas as pd\n",
    "import datetime\n",
    "import networkx as nx\n",
    "import matplotlib.pyplot as plt\n",
    "import numpy as np"
   ]
  },
  {
   "cell_type": "code",
   "execution_count": null,
   "metadata": {},
   "outputs": [],
   "source": [
    "# Change this to analyze something else\n",
    "\n",
    "## a big one:\n",
    "subreddit = \"enlightenedbirdmen\"\n",
    "download_date_string = \"19.12.04-14:27:14\"\n",
    "\n",
    "# ## a meduim one:\n",
    "# subreddit = \"justwriterthings\"\n",
    "# download_date_string = \"19.12.04-10:30:56\""
   ]
  },
  {
   "cell_type": "code",
   "execution_count": null,
   "metadata": {},
   "outputs": [],
   "source": [
    "# Constants\n",
    "data_directory = \"downloads/\"\n",
    "submissions_suffix = \"-submissions-\" + download_date_string + \".csv\"\n",
    "comments_suffix = \"-comments-\" + download_date_string + \".csv\""
   ]
  },
  {
   "cell_type": "markdown",
   "metadata": {},
   "source": [
    "## Read the Data"
   ]
  },
  {
   "cell_type": "code",
   "execution_count": null,
   "metadata": {},
   "outputs": [],
   "source": [
    "# Read the submissions\n",
    "submissions_file = data_directory + subreddit + submissions_suffix\n",
    "submissions = pd.read_csv(submissions_file, index_col=0)\n",
    "submissions.head()"
   ]
  },
  {
   "cell_type": "code",
   "execution_count": null,
   "metadata": {},
   "outputs": [],
   "source": [
    "# Read the comments\n",
    "comments_file = data_directory + subreddit + comments_suffix\n",
    "comments = pd.read_csv(comments_file, index_col=0)\n",
    "comments.head()"
   ]
  },
  {
   "cell_type": "markdown",
   "metadata": {},
   "source": [
    "## Data Cleaning"
   ]
  },
  {
   "cell_type": "code",
   "execution_count": null,
   "metadata": {},
   "outputs": [],
   "source": [
    "# Remove the t3_ prefix from comment submission ids\n",
    "comments[\"submission_id\"] = comments[\"submission_id\"].apply(lambda s: s.split(\"t3_\")[1])"
   ]
  },
  {
   "cell_type": "markdown",
   "metadata": {},
   "source": [
    "## Data Conversion"
   ]
  },
  {
   "cell_type": "code",
   "execution_count": null,
   "metadata": {},
   "outputs": [],
   "source": [
    "# Convert utc to date\n",
    "submissions['date'] = submissions['utc'].apply(datetime.datetime.utcfromtimestamp)\n",
    "comments['date'] = comments['utc'].apply(datetime.datetime.utcfromtimestamp)\n",
    "#submissions.head()\n",
    "#comments.head()"
   ]
  },
  {
   "cell_type": "markdown",
   "metadata": {},
   "source": [
    "## Pagerank\n",
    "This uses [networkx](https://networkx.github.io/documentation/networkx-1.10/index.html)"
   ]
  },
  {
   "cell_type": "code",
   "execution_count": null,
   "metadata": {},
   "outputs": [],
   "source": [
    "# # proff that directed edges are defined (start, end)\n",
    "# d = nx.DiGraph()\n",
    "# d.add_node(1)\n",
    "# d.add_node(2)\n",
    "# d.add_edge(1, 2)\n",
    "# nx.draw_networkx(d)"
   ]
  },
  {
   "cell_type": "code",
   "execution_count": null,
   "metadata": {},
   "outputs": [],
   "source": [
    "# Start by creating a directed graph\n",
    "g = nx.DiGraph()\n",
    "\n",
    "# Each user is a node in the graph\n",
    "g.add_nodes_from(set(submissions['user'].append(comments['user'])))\n",
    "\n",
    "# Each comment is a directed edge\n",
    "pd.merge(submissions, comments, on='submission_id') \\\n",
    "    .apply(lambda row: g.add_edge(row[\"user_y\"], row[\"user_x\"]), axis=1)\n",
    "\n",
    "# Visualize the graph\n",
    "nx.draw(g)\n",
    "plt.show()"
   ]
  },
  {
   "cell_type": "code",
   "execution_count": null,
   "metadata": {},
   "outputs": [],
   "source": [
    "# Now lets calculate pagerank\n",
    "pagerank = nx.pagerank(g)\n",
    "#pagerank # uncomment to preview"
   ]
  },
  {
   "cell_type": "code",
   "execution_count": null,
   "metadata": {},
   "outputs": [],
   "source": [
    "# and visualize it - 8000 is just a scaling factor to make the dots visible\n",
    "nx.draw(g, node_size=[8000 * x for x in pagerank.values()])\n",
    "plt.show()"
   ]
  },
  {
   "cell_type": "markdown",
   "metadata": {},
   "source": [
    "## Grouping By Users"
   ]
  },
  {
   "cell_type": "code",
   "execution_count": null,
   "metadata": {},
   "outputs": [],
   "source": [
    "user_submissions = submissions.groupby(\"user\").apply(lambda g: pd.Series(\n",
    "    {\n",
    "        'num_posts': g['title'].size,\n",
    "        'max_score': g['score'].max(),\n",
    "        'mean_score': g['score'].mean(),\n",
    "        'min_score': g['score'].min(),\n",
    "        'pagerank': pagerank[g['user'].iloc[0]] # weird indexing gets username and then finds pagerank for that user\n",
    "    }\n",
    "))\n",
    "user_submissions.head()"
   ]
  },
  {
   "cell_type": "code",
   "execution_count": null,
   "metadata": {},
   "outputs": [],
   "source": [
    "user_comments = comments.groupby(\"user\").apply(lambda g: pd.Series(\n",
    "    {\n",
    "        'num_comments': g['body'].size,\n",
    "        'max_score': g['score'].max(),\n",
    "        'mean_score': g['score'].mean(),\n",
    "        'min_score': g['score'].min(),\n",
    "        'pagerank': pagerank[g['user'].iloc[0]] # weird indexing gets username and then finds pagerank for that user\n",
    "    }\n",
    "))\n",
    "user_comments.head()"
   ]
  },
  {
   "cell_type": "markdown",
   "metadata": {},
   "source": [
    "## Merging the Tables"
   ]
  },
  {
   "cell_type": "code",
   "execution_count": null,
   "metadata": {},
   "outputs": [],
   "source": [
    "users = user_submissions.join(user_comments, how=\"outer\", lsuffix=\"_submissions\", rsuffix=\"_comments\")\n",
    "\n",
    "## Clean up after the merge\n",
    "\n",
    "# outer join means pagerank may only be defined in one case and not the other - combine them\n",
    "users['pagerank'] = users.apply(lambda row: row['pagerank_comments'] if np.isnan(row['pagerank_submissions']) else row['pagerank_submissions'], axis=1)\n",
    "users = users.drop('pagerank_submissions', axis=1)\n",
    "users = users.drop('pagerank_comments', axis=1)\n",
    "users.head()"
   ]
  },
  {
   "cell_type": "markdown",
   "metadata": {},
   "source": [
    "## EDA"
   ]
  },
  {
   "cell_type": "code",
   "execution_count": null,
   "metadata": {},
   "outputs": [],
   "source": [
    "# mean score vs pagerank\n",
    "plt.scatter(x=users['pagerank'], y=users['mean_score_submissions'])\n",
    "plt.show()"
   ]
  },
  {
   "cell_type": "code",
   "execution_count": null,
   "metadata": {},
   "outputs": [],
   "source": [
    "# min score vs pagerank\n",
    "plt.scatter(x=users['pagerank'], y=users['min_score_submissions'])\n",
    "plt.show()"
   ]
  },
  {
   "cell_type": "code",
   "execution_count": null,
   "metadata": {},
   "outputs": [],
   "source": [
    "# max score vs pagerank\n",
    "plt.scatter(x=users['pagerank'], y=users['max_score_submissions'])\n",
    "plt.show()"
   ]
  },
  {
   "cell_type": "code",
   "execution_count": null,
   "metadata": {},
   "outputs": [],
   "source": [
    "# number of comments vs pagerank\n",
    "plt.scatter(x=users['num_comments'], y=users['pagerank'])\n",
    "plt.show()"
   ]
  },
  {
   "cell_type": "code",
   "execution_count": null,
   "metadata": {},
   "outputs": [],
   "source": [
    "# number of posts vs pagerank - should be correlated (more submissions to comment on)\n",
    "plt.scatter(x=users['num_posts'], y=users['pagerank'])\n",
    "plt.show()\n",
    "# okay, my hypothesis was wrong..."
   ]
  },
  {
   "cell_type": "markdown",
   "metadata": {},
   "source": [
    "### Even more general"
   ]
  },
  {
   "cell_type": "code",
   "execution_count": null,
   "metadata": {},
   "outputs": [],
   "source": [
    "plt.hist(users['mean_score_submissions'])\n",
    "plt.show()"
   ]
  },
  {
   "cell_type": "code",
   "execution_count": null,
   "metadata": {},
   "outputs": [],
   "source": [
    "plt.hist(users['mean_score_comments'])\n",
    "plt.show()"
   ]
  },
  {
   "cell_type": "code",
   "execution_count": null,
   "metadata": {},
   "outputs": [],
   "source": [
    "plt.hist(users['max_score_submissions'])\n",
    "plt.show()"
   ]
  },
  {
   "cell_type": "code",
   "execution_count": null,
   "metadata": {},
   "outputs": [],
   "source": [
    "plt.hist(users['max_score_comments'])\n",
    "plt.show()"
   ]
  },
  {
   "cell_type": "code",
   "execution_count": null,
   "metadata": {},
   "outputs": [],
   "source": [
    "plt.hist(users['min_score_submissions'])\n",
    "plt.show()"
   ]
  },
  {
   "cell_type": "code",
   "execution_count": null,
   "metadata": {},
   "outputs": [],
   "source": [
    "plt.hist(users['min_score_comments'])\n",
    "plt.show()"
   ]
  },
  {
   "cell_type": "code",
   "execution_count": null,
   "metadata": {},
   "outputs": [],
   "source": []
  }
 ],
 "metadata": {
  "kernelspec": {
   "display_name": "Python 3",
   "language": "python",
   "name": "python3"
  },
  "language_info": {
   "codemirror_mode": {
    "name": "ipython",
    "version": 3
   },
   "file_extension": ".py",
   "mimetype": "text/x-python",
   "name": "python",
   "nbconvert_exporter": "python",
   "pygments_lexer": "ipython3",
   "version": "3.7.1"
  }
 },
 "nbformat": 4,
 "nbformat_minor": 2
}
