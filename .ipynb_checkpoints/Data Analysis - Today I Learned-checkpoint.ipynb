{
 "cells": [
  {
   "cell_type": "markdown",
   "metadata": {},
   "source": [
    "# Data Analysis\n",
    "This notebook is meant for exploritory analysis and in depth analysis of data on reddit users. Note: comments are not studied in this notebook because they are not central to the research (outside of determining pagerank) and they take a very long time to load."
   ]
  },
  {
   "cell_type": "markdown",
   "metadata": {},
   "source": [
    "## Setup"
   ]
  },
  {
   "cell_type": "code",
   "execution_count": 69,
   "metadata": {},
   "outputs": [],
   "source": [
    "import pandas as pd\n",
    "import matplotlib.pyplot as plt\n",
    "import numpy as np\n",
    "from scipy import stats"
   ]
  },
  {
   "cell_type": "code",
   "execution_count": 70,
   "metadata": {},
   "outputs": [],
   "source": [
    "# Configurable constants\n",
    "subreddit = \"todayilearned\"\n",
    "download_date_string = \"19.12.05-19:38:34\"\n",
    "\n",
    "data_directory = \"data/\"\n",
    "\n",
    "# Derived constants\n",
    "submissions_file = data_directory + subreddit + \"-augmented-submissions-\" + download_date_string + \".csv\"\n",
    "users_file = data_directory + subreddit + \"-users-\" + download_date_string + \".csv\""
   ]
  },
  {
   "cell_type": "markdown",
   "metadata": {},
   "source": [
    "## Read Data"
   ]
  },
  {
   "cell_type": "code",
   "execution_count": 71,
   "metadata": {},
   "outputs": [
    {
     "data": {
      "text/html": [
       "<div>\n",
       "<style scoped>\n",
       "    .dataframe tbody tr th:only-of-type {\n",
       "        vertical-align: middle;\n",
       "    }\n",
       "\n",
       "    .dataframe tbody tr th {\n",
       "        vertical-align: top;\n",
       "    }\n",
       "\n",
       "    .dataframe thead th {\n",
       "        text-align: right;\n",
       "    }\n",
       "</style>\n",
       "<table border=\"1\" class=\"dataframe\">\n",
       "  <thead>\n",
       "    <tr style=\"text-align: right;\">\n",
       "      <th></th>\n",
       "      <th>index</th>\n",
       "      <th>submission_id</th>\n",
       "      <th>user</th>\n",
       "      <th>utc</th>\n",
       "      <th>score</th>\n",
       "      <th>title</th>\n",
       "      <th>body</th>\n",
       "      <th>subreddit</th>\n",
       "      <th>date</th>\n",
       "      <th>content</th>\n",
       "      <th>word_p_dist</th>\n",
       "      <th>entropy</th>\n",
       "      <th>novelty</th>\n",
       "      <th>transience</th>\n",
       "      <th>novelty_5</th>\n",
       "      <th>transience_5</th>\n",
       "      <th>impact</th>\n",
       "      <th>impact_5</th>\n",
       "    </tr>\n",
       "  </thead>\n",
       "  <tbody>\n",
       "    <tr>\n",
       "      <th>0</th>\n",
       "      <td>974</td>\n",
       "      <td>e2mek4</td>\n",
       "      <td>Lard_Baron</td>\n",
       "      <td>1.574887e+09</td>\n",
       "      <td>53</td>\n",
       "      <td>TIL of Joan of Leeds, an English nun, who, bor...</td>\n",
       "      <td>NaN</td>\n",
       "      <td>todayilearned</td>\n",
       "      <td>2019-11-27 20:40:08</td>\n",
       "      <td>TIL of Joan of Leeds, an English nun, who, bor...</td>\n",
       "      <td>{'TIL': 0.018867924528301886, 'of': 0.03773584...</td>\n",
       "      <td>5.359811</td>\n",
       "      <td>NaN</td>\n",
       "      <td>7.213755</td>\n",
       "      <td>NaN</td>\n",
       "      <td>6.697788</td>\n",
       "      <td>NaN</td>\n",
       "      <td>NaN</td>\n",
       "    </tr>\n",
       "    <tr>\n",
       "      <th>1</th>\n",
       "      <td>973</td>\n",
       "      <td>e2mpwt</td>\n",
       "      <td>NobskaWoodsHole</td>\n",
       "      <td>1.574888e+09</td>\n",
       "      <td>35</td>\n",
       "      <td>TIL that both Mama Cass and Keith Moon died in...</td>\n",
       "      <td>NaN</td>\n",
       "      <td>todayilearned</td>\n",
       "      <td>2019-11-27 21:00:30</td>\n",
       "      <td>TIL that both Mama Cass and Keith Moon died in...</td>\n",
       "      <td>{'TIL': 0.047619047619047616, 'that': 0.047619...</td>\n",
       "      <td>4.297079</td>\n",
       "      <td>7.437382</td>\n",
       "      <td>8.524046</td>\n",
       "      <td>NaN</td>\n",
       "      <td>7.845715</td>\n",
       "      <td>-1.086664</td>\n",
       "      <td>NaN</td>\n",
       "    </tr>\n",
       "    <tr>\n",
       "      <th>2</th>\n",
       "      <td>972</td>\n",
       "      <td>e2msqp</td>\n",
       "      <td>ThatLocalPessimist</td>\n",
       "      <td>1.574889e+09</td>\n",
       "      <td>48335</td>\n",
       "      <td>Today I learned that Ringo Starr was the narra...</td>\n",
       "      <td>NaN</td>\n",
       "      <td>todayilearned</td>\n",
       "      <td>2019-11-27 21:05:37</td>\n",
       "      <td>Today I learned that Ringo Starr was the narra...</td>\n",
       "      <td>{'Today': 0.0625, 'I': 0.0625, 'learned': 0.06...</td>\n",
       "      <td>3.875000</td>\n",
       "      <td>8.822265</td>\n",
       "      <td>7.435276</td>\n",
       "      <td>NaN</td>\n",
       "      <td>7.948208</td>\n",
       "      <td>1.386990</td>\n",
       "      <td>NaN</td>\n",
       "    </tr>\n",
       "    <tr>\n",
       "      <th>3</th>\n",
       "      <td>971</td>\n",
       "      <td>e2mtlo</td>\n",
       "      <td>noooodlearms</td>\n",
       "      <td>1.574889e+09</td>\n",
       "      <td>1043</td>\n",
       "      <td>TIL: In 1995, an artist named William Utermohl...</td>\n",
       "      <td>NaN</td>\n",
       "      <td>todayilearned</td>\n",
       "      <td>2019-11-27 21:07:07</td>\n",
       "      <td>TIL: In 1995, an artist named William Utermohl...</td>\n",
       "      <td>{'TIL:': 0.02, 'In': 0.02, '1995,': 0.02, 'an'...</td>\n",
       "      <td>5.348758</td>\n",
       "      <td>7.345909</td>\n",
       "      <td>6.539400</td>\n",
       "      <td>NaN</td>\n",
       "      <td>6.886033</td>\n",
       "      <td>0.806509</td>\n",
       "      <td>NaN</td>\n",
       "    </tr>\n",
       "    <tr>\n",
       "      <th>4</th>\n",
       "      <td>970</td>\n",
       "      <td>e2mxse</td>\n",
       "      <td>Dota2Ethnography</td>\n",
       "      <td>1.574889e+09</td>\n",
       "      <td>237</td>\n",
       "      <td>TIL of El Mahrousa, the official presidential ...</td>\n",
       "      <td>NaN</td>\n",
       "      <td>todayilearned</td>\n",
       "      <td>2019-11-27 21:14:45</td>\n",
       "      <td>TIL of El Mahrousa, the official presidential ...</td>\n",
       "      <td>{'TIL': 0.0196078431372549, 'of': 0.0392156862...</td>\n",
       "      <td>5.172234</td>\n",
       "      <td>6.052112</td>\n",
       "      <td>7.536719</td>\n",
       "      <td>NaN</td>\n",
       "      <td>7.203130</td>\n",
       "      <td>-1.484607</td>\n",
       "      <td>NaN</td>\n",
       "    </tr>\n",
       "  </tbody>\n",
       "</table>\n",
       "</div>"
      ],
      "text/plain": [
       "   index submission_id                user           utc  score  \\\n",
       "0    974        e2mek4          Lard_Baron  1.574887e+09     53   \n",
       "1    973        e2mpwt     NobskaWoodsHole  1.574888e+09     35   \n",
       "2    972        e2msqp  ThatLocalPessimist  1.574889e+09  48335   \n",
       "3    971        e2mtlo        noooodlearms  1.574889e+09   1043   \n",
       "4    970        e2mxse    Dota2Ethnography  1.574889e+09    237   \n",
       "\n",
       "                                               title  body      subreddit  \\\n",
       "0  TIL of Joan of Leeds, an English nun, who, bor...   NaN  todayilearned   \n",
       "1  TIL that both Mama Cass and Keith Moon died in...   NaN  todayilearned   \n",
       "2  Today I learned that Ringo Starr was the narra...   NaN  todayilearned   \n",
       "3  TIL: In 1995, an artist named William Utermohl...   NaN  todayilearned   \n",
       "4  TIL of El Mahrousa, the official presidential ...   NaN  todayilearned   \n",
       "\n",
       "                  date                                            content  \\\n",
       "0  2019-11-27 20:40:08  TIL of Joan of Leeds, an English nun, who, bor...   \n",
       "1  2019-11-27 21:00:30  TIL that both Mama Cass and Keith Moon died in...   \n",
       "2  2019-11-27 21:05:37  Today I learned that Ringo Starr was the narra...   \n",
       "3  2019-11-27 21:07:07  TIL: In 1995, an artist named William Utermohl...   \n",
       "4  2019-11-27 21:14:45  TIL of El Mahrousa, the official presidential ...   \n",
       "\n",
       "                                         word_p_dist   entropy   novelty  \\\n",
       "0  {'TIL': 0.018867924528301886, 'of': 0.03773584...  5.359811       NaN   \n",
       "1  {'TIL': 0.047619047619047616, 'that': 0.047619...  4.297079  7.437382   \n",
       "2  {'Today': 0.0625, 'I': 0.0625, 'learned': 0.06...  3.875000  8.822265   \n",
       "3  {'TIL:': 0.02, 'In': 0.02, '1995,': 0.02, 'an'...  5.348758  7.345909   \n",
       "4  {'TIL': 0.0196078431372549, 'of': 0.0392156862...  5.172234  6.052112   \n",
       "\n",
       "   transience  novelty_5  transience_5    impact  impact_5  \n",
       "0    7.213755        NaN      6.697788       NaN       NaN  \n",
       "1    8.524046        NaN      7.845715 -1.086664       NaN  \n",
       "2    7.435276        NaN      7.948208  1.386990       NaN  \n",
       "3    6.539400        NaN      6.886033  0.806509       NaN  \n",
       "4    7.536719        NaN      7.203130 -1.484607       NaN  "
      ]
     },
     "execution_count": 71,
     "metadata": {},
     "output_type": "execute_result"
    }
   ],
   "source": [
    "submissions = pd.read_csv(submissions_file, index_col=0)\n",
    "submissions.head()"
   ]
  },
  {
   "cell_type": "code",
   "execution_count": 72,
   "metadata": {},
   "outputs": [],
   "source": [
    "# a version of submissions without nan or infinite values\n",
    "safe_submissions = submissions \\\n",
    "    .drop('body', axis=1) \\\n",
    "    .replace(np.inf, np.nan) \\\n",
    "    .replace(-np.inf, np.nan) \\\n",
    "    .dropna()"
   ]
  },
  {
   "cell_type": "code",
   "execution_count": 73,
   "metadata": {},
   "outputs": [
    {
     "data": {
      "text/html": [
       "<div>\n",
       "<style scoped>\n",
       "    .dataframe tbody tr th:only-of-type {\n",
       "        vertical-align: middle;\n",
       "    }\n",
       "\n",
       "    .dataframe tbody tr th {\n",
       "        vertical-align: top;\n",
       "    }\n",
       "\n",
       "    .dataframe thead th {\n",
       "        text-align: right;\n",
       "    }\n",
       "</style>\n",
       "<table border=\"1\" class=\"dataframe\">\n",
       "  <thead>\n",
       "    <tr style=\"text-align: right;\">\n",
       "      <th></th>\n",
       "      <th>num_posts</th>\n",
       "      <th>max_score_submissions</th>\n",
       "      <th>mean_score_submissions</th>\n",
       "      <th>min_score_submissions</th>\n",
       "      <th>mean_length_submissions</th>\n",
       "      <th>mean_impact</th>\n",
       "      <th>mean_novelty</th>\n",
       "      <th>mean_transience</th>\n",
       "      <th>mean_impact_5</th>\n",
       "      <th>mean_novelty_5</th>\n",
       "      <th>mean_transience_5</th>\n",
       "      <th>num_comments</th>\n",
       "      <th>max_score_comments</th>\n",
       "      <th>mean_score_comments</th>\n",
       "      <th>min_score_comments</th>\n",
       "      <th>mean_length_comments</th>\n",
       "      <th>pagerank</th>\n",
       "    </tr>\n",
       "    <tr>\n",
       "      <th>user</th>\n",
       "      <th></th>\n",
       "      <th></th>\n",
       "      <th></th>\n",
       "      <th></th>\n",
       "      <th></th>\n",
       "      <th></th>\n",
       "      <th></th>\n",
       "      <th></th>\n",
       "      <th></th>\n",
       "      <th></th>\n",
       "      <th></th>\n",
       "      <th></th>\n",
       "      <th></th>\n",
       "      <th></th>\n",
       "      <th></th>\n",
       "      <th></th>\n",
       "      <th></th>\n",
       "    </tr>\n",
       "  </thead>\n",
       "  <tbody>\n",
       "    <tr>\n",
       "      <th>------__------------</th>\n",
       "      <td>NaN</td>\n",
       "      <td>NaN</td>\n",
       "      <td>NaN</td>\n",
       "      <td>NaN</td>\n",
       "      <td>NaN</td>\n",
       "      <td>NaN</td>\n",
       "      <td>NaN</td>\n",
       "      <td>NaN</td>\n",
       "      <td>NaN</td>\n",
       "      <td>NaN</td>\n",
       "      <td>NaN</td>\n",
       "      <td>1.0</td>\n",
       "      <td>2.0</td>\n",
       "      <td>2.0</td>\n",
       "      <td>2.0</td>\n",
       "      <td>181.0</td>\n",
       "      <td>0.000032</td>\n",
       "    </tr>\n",
       "    <tr>\n",
       "      <th>--coffeewench--</th>\n",
       "      <td>NaN</td>\n",
       "      <td>NaN</td>\n",
       "      <td>NaN</td>\n",
       "      <td>NaN</td>\n",
       "      <td>NaN</td>\n",
       "      <td>NaN</td>\n",
       "      <td>NaN</td>\n",
       "      <td>NaN</td>\n",
       "      <td>NaN</td>\n",
       "      <td>NaN</td>\n",
       "      <td>NaN</td>\n",
       "      <td>1.0</td>\n",
       "      <td>1.0</td>\n",
       "      <td>1.0</td>\n",
       "      <td>1.0</td>\n",
       "      <td>255.0</td>\n",
       "      <td>0.000032</td>\n",
       "    </tr>\n",
       "    <tr>\n",
       "      <th>-Already-Taken-</th>\n",
       "      <td>NaN</td>\n",
       "      <td>NaN</td>\n",
       "      <td>NaN</td>\n",
       "      <td>NaN</td>\n",
       "      <td>NaN</td>\n",
       "      <td>NaN</td>\n",
       "      <td>NaN</td>\n",
       "      <td>NaN</td>\n",
       "      <td>NaN</td>\n",
       "      <td>NaN</td>\n",
       "      <td>NaN</td>\n",
       "      <td>1.0</td>\n",
       "      <td>1.0</td>\n",
       "      <td>1.0</td>\n",
       "      <td>1.0</td>\n",
       "      <td>112.0</td>\n",
       "      <td>0.000032</td>\n",
       "    </tr>\n",
       "    <tr>\n",
       "      <th>-CluelessWoman-</th>\n",
       "      <td>NaN</td>\n",
       "      <td>NaN</td>\n",
       "      <td>NaN</td>\n",
       "      <td>NaN</td>\n",
       "      <td>NaN</td>\n",
       "      <td>NaN</td>\n",
       "      <td>NaN</td>\n",
       "      <td>NaN</td>\n",
       "      <td>NaN</td>\n",
       "      <td>NaN</td>\n",
       "      <td>NaN</td>\n",
       "      <td>1.0</td>\n",
       "      <td>5.0</td>\n",
       "      <td>5.0</td>\n",
       "      <td>5.0</td>\n",
       "      <td>24.0</td>\n",
       "      <td>0.000032</td>\n",
       "    </tr>\n",
       "    <tr>\n",
       "      <th>-DementedAvenger-</th>\n",
       "      <td>NaN</td>\n",
       "      <td>NaN</td>\n",
       "      <td>NaN</td>\n",
       "      <td>NaN</td>\n",
       "      <td>NaN</td>\n",
       "      <td>NaN</td>\n",
       "      <td>NaN</td>\n",
       "      <td>NaN</td>\n",
       "      <td>NaN</td>\n",
       "      <td>NaN</td>\n",
       "      <td>NaN</td>\n",
       "      <td>4.0</td>\n",
       "      <td>87.0</td>\n",
       "      <td>24.5</td>\n",
       "      <td>1.0</td>\n",
       "      <td>58.5</td>\n",
       "      <td>0.000032</td>\n",
       "    </tr>\n",
       "  </tbody>\n",
       "</table>\n",
       "</div>"
      ],
      "text/plain": [
       "                      num_posts  max_score_submissions  \\\n",
       "user                                                     \n",
       "------__------------        NaN                    NaN   \n",
       "--coffeewench--             NaN                    NaN   \n",
       "-Already-Taken-             NaN                    NaN   \n",
       "-CluelessWoman-             NaN                    NaN   \n",
       "-DementedAvenger-           NaN                    NaN   \n",
       "\n",
       "                      mean_score_submissions  min_score_submissions  \\\n",
       "user                                                                  \n",
       "------__------------                     NaN                    NaN   \n",
       "--coffeewench--                          NaN                    NaN   \n",
       "-Already-Taken-                          NaN                    NaN   \n",
       "-CluelessWoman-                          NaN                    NaN   \n",
       "-DementedAvenger-                        NaN                    NaN   \n",
       "\n",
       "                      mean_length_submissions  mean_impact  mean_novelty  \\\n",
       "user                                                                       \n",
       "------__------------                      NaN          NaN           NaN   \n",
       "--coffeewench--                           NaN          NaN           NaN   \n",
       "-Already-Taken-                           NaN          NaN           NaN   \n",
       "-CluelessWoman-                           NaN          NaN           NaN   \n",
       "-DementedAvenger-                         NaN          NaN           NaN   \n",
       "\n",
       "                      mean_transience  mean_impact_5  mean_novelty_5  \\\n",
       "user                                                                   \n",
       "------__------------              NaN            NaN             NaN   \n",
       "--coffeewench--                   NaN            NaN             NaN   \n",
       "-Already-Taken-                   NaN            NaN             NaN   \n",
       "-CluelessWoman-                   NaN            NaN             NaN   \n",
       "-DementedAvenger-                 NaN            NaN             NaN   \n",
       "\n",
       "                      mean_transience_5  num_comments  max_score_comments  \\\n",
       "user                                                                        \n",
       "------__------------                NaN           1.0                 2.0   \n",
       "--coffeewench--                     NaN           1.0                 1.0   \n",
       "-Already-Taken-                     NaN           1.0                 1.0   \n",
       "-CluelessWoman-                     NaN           1.0                 5.0   \n",
       "-DementedAvenger-                   NaN           4.0                87.0   \n",
       "\n",
       "                      mean_score_comments  min_score_comments  \\\n",
       "user                                                            \n",
       "------__------------                  2.0                 2.0   \n",
       "--coffeewench--                       1.0                 1.0   \n",
       "-Already-Taken-                       1.0                 1.0   \n",
       "-CluelessWoman-                       5.0                 5.0   \n",
       "-DementedAvenger-                    24.5                 1.0   \n",
       "\n",
       "                      mean_length_comments  pagerank  \n",
       "user                                                  \n",
       "------__------------                 181.0  0.000032  \n",
       "--coffeewench--                      255.0  0.000032  \n",
       "-Already-Taken-                      112.0  0.000032  \n",
       "-CluelessWoman-                       24.0  0.000032  \n",
       "-DementedAvenger-                     58.5  0.000032  "
      ]
     },
     "execution_count": 73,
     "metadata": {},
     "output_type": "execute_result"
    }
   ],
   "source": [
    "users = pd.read_csv(users_file, index_col=0)\n",
    "users.head()"
   ]
  },
  {
   "cell_type": "code",
   "execution_count": 74,
   "metadata": {},
   "outputs": [],
   "source": [
    "# a last minute adjustment\n",
    "users['ln_pagerank'] = users['pagerank'].apply(np.log)\n",
    "users['ln_num_posts'] = users['num_posts'].apply(np.log)\n",
    "users['ln_mean_length_submissions'] = users['mean_length_submissions'].apply(np.log)\n",
    "users['ln_mean_score_submissions'] = users['mean_score_submissions'].apply(np.log)"
   ]
  },
  {
   "cell_type": "code",
   "execution_count": 75,
   "metadata": {},
   "outputs": [],
   "source": [
    "# a version of users without nans (removes a lot of comment info)\n",
    "safe_users = users \\\n",
    "    .drop('num_comments', axis=1) \\\n",
    "    .drop('max_score_comments', axis=1) \\\n",
    "    .drop('mean_score_comments', axis=1) \\\n",
    "    .drop('min_score_comments', axis=1) \\\n",
    "    .drop('mean_length_comments', axis=1) \\\n",
    "    .dropna()\n",
    "safe_users = safe_users[np.isfinite(safe_users).all(1)] # drop infinites as well"
   ]
  },
  {
   "cell_type": "markdown",
   "metadata": {},
   "source": [
    "## Exploritory Data Analysis\n",
    "Lets get a feel for the data"
   ]
  },
  {
   "cell_type": "markdown",
   "metadata": {},
   "source": [
    "### Exploring Submissions"
   ]
  },
  {
   "cell_type": "markdown",
   "metadata": {},
   "source": [
    "#### Simple Histograms"
   ]
  },
  {
   "cell_type": "code",
   "execution_count": 76,
   "metadata": {},
   "outputs": [
    {
     "data": {
      "image/png": "[encoded data removed]",
      "text/plain": [
       "<Figure size 432x288 with 1 Axes>"
      ]
     },
     "metadata": {
      "needs_background": "light"
     },
     "output_type": "display_data"
    }
   ],
   "source": [
    "plt.hist(submissions['score'])\n",
    "plt.show()"
   ]
  },
  {
   "cell_type": "code",
   "execution_count": 77,
   "metadata": {},
   "outputs": [
    {
     "data": {
      "image/png": "[encoded data removed]",
      "text/plain": [
       "<Figure size 432x288 with 1 Axes>"
      ]
     },
     "metadata": {
      "needs_background": "light"
     },
     "output_type": "display_data"
    }
   ],
   "source": [
    "plt.hist(submissions['content'].apply(len))\n",
    "plt.show()"
   ]
  },
  {
   "cell_type": "code",
   "execution_count": 78,
   "metadata": {},
   "outputs": [
    {
     "data": {
      "image/png": "[encoded data removed]",
      "text/plain": [
       "<Figure size 432x288 with 1 Axes>"
      ]
     },
     "metadata": {
      "needs_background": "light"
     },
     "output_type": "display_data"
    }
   ],
   "source": [
    "plt.hist(submissions['entropy'])\n",
    "plt.show()"
   ]
  },
  {
   "cell_type": "code",
   "execution_count": 79,
   "metadata": {},
   "outputs": [
    {
     "data": {
      "image/png": "[encoded data removed]",
      "text/plain": [
       "<Figure size 432x288 with 1 Axes>"
      ]
     },
     "metadata": {
      "needs_background": "light"
     },
     "output_type": "display_data"
    }
   ],
   "source": [
    "plt.hist(submissions['novelty'])\n",
    "plt.show()"
   ]
  },
  {
   "cell_type": "code",
   "execution_count": 80,
   "metadata": {},
   "outputs": [
    {
     "data": {
      "image/png": "[encoded data removed]",
      "text/plain": [
       "<Figure size 432x288 with 1 Axes>"
      ]
     },
     "metadata": {
      "needs_background": "light"
     },
     "output_type": "display_data"
    }
   ],
   "source": [
    "plt.hist(submissions['novelty_5'])\n",
    "plt.show()"
   ]
  },
  {
   "cell_type": "code",
   "execution_count": 81,
   "metadata": {},
   "outputs": [
    {
     "data": {
      "image/png": "[encoded data removed]",
      "text/plain": [
       "<Figure size 432x288 with 1 Axes>"
      ]
     },
     "metadata": {
      "needs_background": "light"
     },
     "output_type": "display_data"
    }
   ],
   "source": [
    "plt.hist(submissions['transience'])\n",
    "plt.show()"
   ]
  },
  {
   "cell_type": "code",
   "execution_count": 82,
   "metadata": {},
   "outputs": [
    {
     "data": {
      "image/png": "[encoded data removed]",
      "text/plain": [
       "<Figure size 432x288 with 1 Axes>"
      ]
     },
     "metadata": {
      "needs_background": "light"
     },
     "output_type": "display_data"
    }
   ],
   "source": [
    "plt.hist(submissions['transience_5'])\n",
    "plt.show()"
   ]
  },
  {
   "cell_type": "code",
   "execution_count": 83,
   "metadata": {},
   "outputs": [
    {
     "data": {
      "image/png": "[encoded data removed]",
      "text/plain": [
       "<Figure size 432x288 with 1 Axes>"
      ]
     },
     "metadata": {
      "needs_background": "light"
     },
     "output_type": "display_data"
    }
   ],
   "source": [
    "plt.hist(submissions['impact'])\n",
    "plt.show()"
   ]
  },
  {
   "cell_type": "code",
   "execution_count": 84,
   "metadata": {},
   "outputs": [
    {
     "data": {
      "image/png": "[encoded data removed]",
      "text/plain": [
       "<Figure size 432x288 with 1 Axes>"
      ]
     },
     "metadata": {
      "needs_background": "light"
     },
     "output_type": "display_data"
    }
   ],
   "source": [
    "plt.hist(submissions['impact_5'])\n",
    "plt.show()"
   ]
  },
  {
   "cell_type": "markdown",
   "metadata": {},
   "source": [
    "#### Submission Scatterplots"
   ]
  },
  {
   "cell_type": "code",
   "execution_count": 85,
   "metadata": {},
   "outputs": [
    {
     "ename": "IndentationError",
     "evalue": "unexpected indent (<ipython-input-85-c837ea372792>, line 12)",
     "output_type": "error",
     "traceback": [
      "\u001b[0;36m  File \u001b[0;32m\"<ipython-input-85-c837ea372792>\"\u001b[0;36m, line \u001b[0;32m12\u001b[0m\n\u001b[0;31m    print(\"p: \" + str(p))\u001b[0m\n\u001b[0m    ^\u001b[0m\n\u001b[0;31mIndentationError\u001b[0m\u001b[0;31m:\u001b[0m unexpected indent\n"
     ]
    }
   ],
   "source": [
    "# scatterplot\n",
    "x = safe_submissions['content'].apply(len)\n",
    "y = safe_submissions['score']\n",
    "plt.scatter(x, y, alpha=0.2)\n",
    "\n",
    "# best fit line\n",
    "m, b, r, p, std_err = stats.linregress(x, y)\n",
    "print(\"slope: \" + str(m))\n",
    "print(\"intercept: \" + str(b))\n",
    "print(\"r: \" + str(r))\n",
    "print(\"r-squared: \" + str(r**2))\n",
    "print(\"standard error: \" + str(std_err))\n",
    "plt.plot(x, b + m * x, color=\"red\")\n",
    "\n",
    "plt.show()"
   ]
  },
  {
   "cell_type": "code",
   "execution_count": null,
   "metadata": {},
   "outputs": [],
   "source": [
    "plt.scatter(x=submissions['entropy'], y=submissions['score'], alpha=0.2)"
   ]
  },
  {
   "cell_type": "code",
   "execution_count": null,
   "metadata": {},
   "outputs": [],
   "source": [
    "plt.scatter(x=submissions['novelty'], y=submissions['score'], alpha=0.2)\n",
    "plt.show()"
   ]
  },
  {
   "cell_type": "code",
   "execution_count": null,
   "metadata": {},
   "outputs": [],
   "source": [
    "plt.scatter(x=submissions['novelty_5'], y=submissions['score'], alpha=0.2)\n",
    "plt.show()"
   ]
  },
  {
   "cell_type": "code",
   "execution_count": null,
   "metadata": {},
   "outputs": [],
   "source": [
    "plt.scatter(x=submissions['transience'], y=submissions['score'], alpha=0.05)\n",
    "plt.show()"
   ]
  },
  {
   "cell_type": "code",
   "execution_count": null,
   "metadata": {},
   "outputs": [],
   "source": [
    "plt.scatter(x=submissions['transience_5'], y=submissions['score'], alpha=0.05)\n",
    "plt.show()"
   ]
  },
  {
   "cell_type": "code",
   "execution_count": null,
   "metadata": {},
   "outputs": [],
   "source": [
    "# novelty-transcience plot\n",
    "plt.scatter(x=submissions['novelty'], y=submissions['transience'], s=submissions['score'] / 100, alpha=0.3)\n",
    "\n",
    "# add line of equality\n",
    "domain = np.arange(5, 13)\n",
    "plt.plot(domain, domain, color='purple')\n",
    "\n",
    "plt.show()"
   ]
  },
  {
   "cell_type": "code",
   "execution_count": null,
   "metadata": {},
   "outputs": [],
   "source": [
    "# novelty-transcience plot\n",
    "plt.scatter(x=submissions['novelty_5'], y=submissions['transience_5'], s=submissions['score'] / 100, alpha=0.3)\n",
    "\n",
    "# add line of equality\n",
    "domain = np.arange(6, 12)\n",
    "plt.plot(domain, domain, color='purple')\n",
    "\n",
    "plt.show()"
   ]
  },
  {
   "cell_type": "code",
   "execution_count": null,
   "metadata": {},
   "outputs": [],
   "source": [
    "# scatterplot\n",
    "x = safe_submissions['impact']\n",
    "y = safe_submissions['score']\n",
    "plt.scatter(x, y, alpha=0.2)\n",
    "\n",
    "# best fit line\n",
    "m, b, r, p, std_err = stats.linregress(x, y)\n",
    "print(\"slope: \" + str(m))\n",
    "print(\"intercept: \" + str(b))\n",
    "print(\"r: \" + str(r))\n",
    "print(\"r-squared: \" + str(r**2))\n",
    "print(\"standard error: \" + str(std_err))\n",
    "plt.plot(x, b + m * x, color=\"red\")\n",
    "\n",
    "plt.show()"
   ]
  },
  {
   "cell_type": "code",
   "execution_count": null,
   "metadata": {},
   "outputs": [],
   "source": [
    "# scatterplot\n",
    "x = safe_submissions['impact_5']\n",
    "y = safe_submissions['score']\n",
    "plt.scatter(x, y, alpha=0.2)\n",
    "\n",
    "# best fit line\n",
    "m, b, r, p, std_err = stats.linregress(x, y)\n",
    "print(\"slope: \" + str(m))\n",
    "print(\"intercept: \" + str(b))\n",
    "print(\"r: \" + str(r))\n",
    "print(\"r-squared: \" + str(r**2))\n",
    "print(\"standard error: \" + str(std_err))\n",
    "plt.plot(x, b + m * x, color=\"red\")\n",
    "\n",
    "plt.show()"
   ]
  },
  {
   "cell_type": "markdown",
   "metadata": {},
   "source": [
    "### Exploring Users"
   ]
  },
  {
   "cell_type": "markdown",
   "metadata": {},
   "source": [
    "#### Simple Histograms"
   ]
  },
  {
   "cell_type": "code",
   "execution_count": null,
   "metadata": {},
   "outputs": [],
   "source": [
    "# helper to make this less redundant\n",
    "def user_hist(column_name):\n",
    "    plt.hist(users[column_name])\n",
    "    plt.title(\"users \" + column_name)\n",
    "    plt.show()"
   ]
  },
  {
   "cell_type": "code",
   "execution_count": null,
   "metadata": {
    "scrolled": false
   },
   "outputs": [],
   "source": [
    "user_hist('num_posts')\n",
    "user_hist('mean_length_submissions')\n",
    "user_hist('mean_score_submissions')\n",
    "user_hist('pagerank')\n",
    "user_hist('mean_novelty')\n",
    "user_hist('mean_novelty_5')\n",
    "user_hist('mean_transience')\n",
    "user_hist('mean_transience_5')\n",
    "user_hist('mean_impact')\n",
    "user_hist('mean_impact_5')"
   ]
  },
  {
   "cell_type": "markdown",
   "metadata": {},
   "source": [
    "#### User Scatterplots"
   ]
  },
  {
   "cell_type": "code",
   "execution_count": null,
   "metadata": {},
   "outputs": [],
   "source": [
    "# a scatterplot and regression helper function\n",
    "def user_scatter(x_col, y_col, alpha=0.2):\n",
    "    x = safe_users[x_col]\n",
    "    y = safe_users[y_col]\n",
    "    \n",
    "    # scatterplot\n",
    "    plt.scatter(x, y, alpha=alpha)\n",
    "\n",
    "    # best fit line\n",
    "    m, b, r, p, std_err = stats.linregress(x, y)\n",
    "    print(\"~~~~~~~~~~~~~~~~~~~~~~~~~~~~~~~~~~~~~~~~~~~~~~~~~~~~~~\")\n",
    "    print(\"slope: \" + str(m))\n",
    "    print(\"intercept: \" + str(b))\n",
    "    print(\"r: \" + str(r))\n",
    "    print(\"r-squared: \" + str(r**2))\n",
    "    print(\"p: \" + str(p))\n",
    "    print(\"standard error: \" + str(std_err))\n",
    "    plt.plot(x, b + m * x, color=\"red\")\n",
    "    plt.title(\"users \" + y_col + \" vs \" + x_col)\n",
    "\n",
    "    plt.show()"
   ]
  },
  {
   "cell_type": "code",
   "execution_count": null,
   "metadata": {},
   "outputs": [],
   "source": [
    "safe_users.columns"
   ]
  },
  {
   "cell_type": "code",
   "execution_count": null,
   "metadata": {
    "scrolled": false
   },
   "outputs": [],
   "source": [
    "user_scatter('num_posts', 'pagerank')\n",
    "user_scatter('mean_score_submissions', 'pagerank')\n",
    "user_scatter('mean_length_submissions', 'pagerank')\n",
    "user_scatter('mean_novelty', 'pagerank')\n",
    "user_scatter('mean_novelty_5', 'pagerank')\n",
    "user_scatter('mean_transience', 'pagerank')\n",
    "user_scatter('mean_transience_5', 'pagerank')\n",
    "user_scatter('mean_impact', 'pagerank')\n",
    "user_scatter('mean_impact_5', 'pagerank')"
   ]
  },
  {
   "cell_type": "code",
   "execution_count": null,
   "metadata": {
    "scrolled": false
   },
   "outputs": [],
   "source": [
    "user_scatter('ln_num_posts', 'ln_pagerank')\n",
    "user_scatter('ln_mean_score_submissions', 'ln_pagerank')\n",
    "user_scatter('ln_mean_length_submissions', 'ln_pagerank')\n",
    "user_scatter('mean_novelty', 'ln_pagerank')\n",
    "user_scatter('mean_novelty_5', 'ln_pagerank')\n",
    "user_scatter('mean_transience', 'ln_pagerank')\n",
    "user_scatter('mean_transience_5', 'ln_pagerank')\n",
    "user_scatter('mean_impact', 'ln_pagerank')\n",
    "user_scatter('mean_impact_5', 'ln_pagerank')"
   ]
  },
  {
   "cell_type": "code",
   "execution_count": null,
   "metadata": {},
   "outputs": [],
   "source": [
    "# novelty-transcience plot\n",
    "plt.scatter(x=users['mean_novelty'], y=users['mean_transience'], s=users['mean_score_submissions'] / 100, alpha=0.3)\n",
    "\n",
    "# add line of equality\n",
    "domain = np.arange(5, 13)\n",
    "plt.plot(domain, domain, color='purple')\n",
    "\n",
    "plt.show()"
   ]
  },
  {
   "cell_type": "code",
   "execution_count": null,
   "metadata": {},
   "outputs": [],
   "source": [
    "# novelty-transcience plot\n",
    "plt.scatter(x=users['mean_novelty_5'], y=users['mean_transience_5'], s=users['mean_score_submissions'] / 100, alpha=0.3)\n",
    "\n",
    "# add line of equality\n",
    "domain = np.arange(5, 13)\n",
    "plt.plot(domain, domain, color='purple')\n",
    "\n",
    "plt.show()"
   ]
  },
  {
   "cell_type": "code",
   "execution_count": null,
   "metadata": {},
   "outputs": [],
   "source": []
  }
 ],
 "metadata": {
  "kernelspec": {
   "display_name": "Python 3",
   "language": "python",
   "name": "python3"
  },
  "language_info": {
   "codemirror_mode": {
    "name": "ipython",
    "version": 3
   },
   "file_extension": ".py",
   "mimetype": "text/x-python",
   "name": "python",
   "nbconvert_exporter": "python",
   "pygments_lexer": "ipython3",
   "version": "3.7.1"
  }
 },
 "nbformat": 4,
 "nbformat_minor": 2
}
