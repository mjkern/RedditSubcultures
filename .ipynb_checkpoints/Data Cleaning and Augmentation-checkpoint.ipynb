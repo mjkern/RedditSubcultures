{
 "cells": [
  {
   "cell_type": "markdown",
   "metadata": {},
   "source": [
    "# Cleaning and Augmentation\n",
    "This notebook is meant to read in the data downloaded from reddit and prepare it for analysis by cleaning it and doing some computation."
   ]
  },
  {
   "cell_type": "markdown",
   "metadata": {},
   "source": [
    "## Setup"
   ]
  },
  {
   "cell_type": "code",
   "execution_count": 1,
   "metadata": {},
   "outputs": [],
   "source": [
    "import pandas as pd\n",
    "import datetime\n",
    "import networkx as nx\n",
    "import matplotlib.pyplot as plt"
   ]
  },
  {
   "cell_type": "code",
   "execution_count": 2,
   "metadata": {},
   "outputs": [],
   "source": [
    "# Change this to analyze something else\n",
    "subreddit = \"ww3theories\"\n",
    "download_date_string = \"19.12.04-09:22:27\""
   ]
  },
  {
   "cell_type": "code",
   "execution_count": 3,
   "metadata": {},
   "outputs": [],
   "source": [
    "# Constants\n",
    "data_directory = \"downloads/\"\n",
    "submissions_suffix = \"-submissions-\" + download_date_string + \".csv\"\n",
    "comments_suffix = \"-comments-\" + download_date_string + \".csv\""
   ]
  },
  {
   "cell_type": "markdown",
   "metadata": {},
   "source": [
    "## Read the Data"
   ]
  },
  {
   "cell_type": "code",
   "execution_count": 4,
   "metadata": {},
   "outputs": [
    {
     "data": {
      "text/html": [
       "<div>\n",
       "<style scoped>\n",
       "    .dataframe tbody tr th:only-of-type {\n",
       "        vertical-align: middle;\n",
       "    }\n",
       "\n",
       "    .dataframe tbody tr th {\n",
       "        vertical-align: top;\n",
       "    }\n",
       "\n",
       "    .dataframe thead th {\n",
       "        text-align: right;\n",
       "    }\n",
       "</style>\n",
       "<table border=\"1\" class=\"dataframe\">\n",
       "  <thead>\n",
       "    <tr style=\"text-align: right;\">\n",
       "      <th></th>\n",
       "      <th>submission_id</th>\n",
       "      <th>user</th>\n",
       "      <th>utc</th>\n",
       "      <th>score</th>\n",
       "      <th>title</th>\n",
       "      <th>body</th>\n",
       "      <th>subreddit</th>\n",
       "    </tr>\n",
       "  </thead>\n",
       "  <tbody>\n",
       "    <tr>\n",
       "      <th>0</th>\n",
       "      <td>dybem9</td>\n",
       "      <td>NightMonkey3000</td>\n",
       "      <td>1.574119e+09</td>\n",
       "      <td>1</td>\n",
       "      <td>How would World War Three potentially start?</td>\n",
       "      <td>Please guys let’s be realistic because nukin...</td>\n",
       "      <td>WW3Theories</td>\n",
       "    </tr>\n",
       "    <tr>\n",
       "      <th>1</th>\n",
       "      <td>dbo5by</td>\n",
       "      <td>valoros0702</td>\n",
       "      <td>1.569905e+09</td>\n",
       "      <td>6</td>\n",
       "      <td>WW3 theory</td>\n",
       "      <td>After years of passive aggressiveness, North K...</td>\n",
       "      <td>WW3Theories</td>\n",
       "    </tr>\n",
       "    <tr>\n",
       "      <th>2</th>\n",
       "      <td>dblqpi</td>\n",
       "      <td>Notch_4682</td>\n",
       "      <td>1.569893e+09</td>\n",
       "      <td>3</td>\n",
       "      <td>Post Contest!</td>\n",
       "      <td>Contest for best theory! Winner will get a spe...</td>\n",
       "      <td>WW3Theories</td>\n",
       "    </tr>\n",
       "    <tr>\n",
       "      <th>3</th>\n",
       "      <td>crmg42</td>\n",
       "      <td>Notch_4682</td>\n",
       "      <td>1.566050e+09</td>\n",
       "      <td>3</td>\n",
       "      <td>Maybe a theory</td>\n",
       "      <td>So, we attack Iran. Under the political pressu...</td>\n",
       "      <td>WW3Theories</td>\n",
       "    </tr>\n",
       "    <tr>\n",
       "      <th>4</th>\n",
       "      <td>cpkp5h</td>\n",
       "      <td>Notch_4682</td>\n",
       "      <td>1.565653e+09</td>\n",
       "      <td>5</td>\n",
       "      <td>Resources, anyone?</td>\n",
       "      <td>This is where you post resources and source ma...</td>\n",
       "      <td>WW3Theories</td>\n",
       "    </tr>\n",
       "  </tbody>\n",
       "</table>\n",
       "</div>"
      ],
      "text/plain": [
       "  submission_id             user           utc  score  \\\n",
       "0        dybem9  NightMonkey3000  1.574119e+09      1   \n",
       "1        dbo5by      valoros0702  1.569905e+09      6   \n",
       "2        dblqpi       Notch_4682  1.569893e+09      3   \n",
       "3        crmg42       Notch_4682  1.566050e+09      3   \n",
       "4        cpkp5h       Notch_4682  1.565653e+09      5   \n",
       "\n",
       "                                          title  \\\n",
       "0  How would World War Three potentially start?   \n",
       "1                                    WW3 theory   \n",
       "2                                 Post Contest!   \n",
       "3                                Maybe a theory   \n",
       "4                            Resources, anyone?   \n",
       "\n",
       "                                                body    subreddit  \n",
       "0    Please guys let’s be realistic because nukin...  WW3Theories  \n",
       "1  After years of passive aggressiveness, North K...  WW3Theories  \n",
       "2  Contest for best theory! Winner will get a spe...  WW3Theories  \n",
       "3  So, we attack Iran. Under the political pressu...  WW3Theories  \n",
       "4  This is where you post resources and source ma...  WW3Theories  "
      ]
     },
     "execution_count": 4,
     "metadata": {},
     "output_type": "execute_result"
    }
   ],
   "source": [
    "# Read the submissions\n",
    "submissions_file = data_directory + subreddit + submissions_suffix\n",
    "submissions = pd.read_csv(submissions_file, index_col=0)\n",
    "submissions.head()"
   ]
  },
  {
   "cell_type": "code",
   "execution_count": 5,
   "metadata": {},
   "outputs": [
    {
     "data": {
      "text/html": [
       "<div>\n",
       "<style scoped>\n",
       "    .dataframe tbody tr th:only-of-type {\n",
       "        vertical-align: middle;\n",
       "    }\n",
       "\n",
       "    .dataframe tbody tr th {\n",
       "        vertical-align: top;\n",
       "    }\n",
       "\n",
       "    .dataframe thead th {\n",
       "        text-align: right;\n",
       "    }\n",
       "</style>\n",
       "<table border=\"1\" class=\"dataframe\">\n",
       "  <thead>\n",
       "    <tr style=\"text-align: right;\">\n",
       "      <th></th>\n",
       "      <th>comment_id</th>\n",
       "      <th>submission_id</th>\n",
       "      <th>user</th>\n",
       "      <th>utc</th>\n",
       "      <th>score</th>\n",
       "      <th>body</th>\n",
       "    </tr>\n",
       "  </thead>\n",
       "  <tbody>\n",
       "    <tr>\n",
       "      <th>0</th>\n",
       "      <td>f803eq6</td>\n",
       "      <td>t3_dybem9</td>\n",
       "      <td>elsninja</td>\n",
       "      <td>1.574120e+09</td>\n",
       "      <td>1</td>\n",
       "      <td>Nato vs Bric\\nUSA vs China\\nChina vs Russia ov...</td>\n",
       "    </tr>\n",
       "    <tr>\n",
       "      <th>1</th>\n",
       "      <td>f825kj2</td>\n",
       "      <td>t3_dybem9</td>\n",
       "      <td>StringSurge</td>\n",
       "      <td>1.574184e+09</td>\n",
       "      <td>1</td>\n",
       "      <td>AI and ethics</td>\n",
       "    </tr>\n",
       "    <tr>\n",
       "      <th>2</th>\n",
       "      <td>ey68gz4</td>\n",
       "      <td>t3_crmg42</td>\n",
       "      <td>persaballgreazy</td>\n",
       "      <td>1.566850e+09</td>\n",
       "      <td>3</td>\n",
       "      <td>Why would the EU bother invading such an insig...</td>\n",
       "    </tr>\n",
       "    <tr>\n",
       "      <th>3</th>\n",
       "      <td>ewq08y3</td>\n",
       "      <td>t3_cpkp5h</td>\n",
       "      <td>Notch_4682</td>\n",
       "      <td>1.565654e+09</td>\n",
       "      <td>3</td>\n",
       "      <td>\"The New Tsar, the Rise and Reign of Vladimir ...</td>\n",
       "    </tr>\n",
       "    <tr>\n",
       "      <th>4</th>\n",
       "      <td>ewo27cq</td>\n",
       "      <td>t3_cp6sl1</td>\n",
       "      <td>chase_isonthecase</td>\n",
       "      <td>1.565602e+09</td>\n",
       "      <td>2</td>\n",
       "      <td>Makes me feel like they are intentionally draw...</td>\n",
       "    </tr>\n",
       "  </tbody>\n",
       "</table>\n",
       "</div>"
      ],
      "text/plain": [
       "  comment_id submission_id               user           utc  score  \\\n",
       "0    f803eq6     t3_dybem9           elsninja  1.574120e+09      1   \n",
       "1    f825kj2     t3_dybem9        StringSurge  1.574184e+09      1   \n",
       "2    ey68gz4     t3_crmg42    persaballgreazy  1.566850e+09      3   \n",
       "3    ewq08y3     t3_cpkp5h         Notch_4682  1.565654e+09      3   \n",
       "4    ewo27cq     t3_cp6sl1  chase_isonthecase  1.565602e+09      2   \n",
       "\n",
       "                                                body  \n",
       "0  Nato vs Bric\\nUSA vs China\\nChina vs Russia ov...  \n",
       "1                                      AI and ethics  \n",
       "2  Why would the EU bother invading such an insig...  \n",
       "3  \"The New Tsar, the Rise and Reign of Vladimir ...  \n",
       "4  Makes me feel like they are intentionally draw...  "
      ]
     },
     "execution_count": 5,
     "metadata": {},
     "output_type": "execute_result"
    }
   ],
   "source": [
    "# Read the comments\n",
    "comments_file = data_directory + subreddit + comments_suffix\n",
    "comments = pd.read_csv(comments_file, index_col=0)\n",
    "comments.head()"
   ]
  },
  {
   "cell_type": "markdown",
   "metadata": {},
   "source": [
    "## Data Cleaning"
   ]
  },
  {
   "cell_type": "code",
   "execution_count": 6,
   "metadata": {},
   "outputs": [],
   "source": [
    "# Remove the t3_ prefix from comment submission ids\n",
    "comments[\"submission_id\"] = comments[\"submission_id\"].apply(lambda s: s.split(\"t3_\")[1])"
   ]
  },
  {
   "cell_type": "markdown",
   "metadata": {},
   "source": [
    "## Data Conversion"
   ]
  },
  {
   "cell_type": "code",
   "execution_count": 7,
   "metadata": {},
   "outputs": [],
   "source": [
    "# Convert utc to date\n",
    "submissions['date'] = submissions['utc'].apply(datetime.datetime.utcfromtimestamp)\n",
    "comments['date'] = comments['utc'].apply(datetime.datetime.utcfromtimestamp)\n",
    "#submissions.head()\n",
    "#comments.head()"
   ]
  },
  {
   "cell_type": "markdown",
   "metadata": {},
   "source": [
    "## Pagerank\n",
    "This uses [networkx](https://networkx.github.io/documentation/networkx-1.10/index.html)"
   ]
  },
  {
   "cell_type": "code",
   "execution_count": 9,
   "metadata": {},
   "outputs": [
    {
     "data": {
      "image/png": "[encoded data removed]",
      "text/plain": [
       "<Figure size 432x288 with 1 Axes>"
      ]
     },
     "metadata": {},
     "output_type": "display_data"
    }
   ],
   "source": [
    "# Start by creating a directed graph\n",
    "g = nx.DiGraph()\n",
    "\n",
    "# Each user is a node in the graph\n",
    "g.add_nodes_from(set(submissions['user'].append(comments['user'])))\n",
    "\n",
    "# Each comment is a directed edge\n",
    "pd.merge(submissions, comments, on='submission_id') \\\n",
    "    .apply(lambda row: g.add_edge(row[\"user_x\"], row[\"user_y\"]), axis=1)\n",
    "\n",
    "# Visualize the graph\n",
    "nx.draw(g)\n",
    "plt.show()"
   ]
  },
  {
   "cell_type": "code",
   "execution_count": 10,
   "metadata": {},
   "outputs": [],
   "source": [
    "# Now lets calculate pagerank\n",
    "pagerank = nx.pagerank(g)\n",
    "#pagerank # uncomment to preview"
   ]
  },
  {
   "cell_type": "code",
   "execution_count": 11,
   "metadata": {},
   "outputs": [
    {
     "data": {
      "image/png": "[encoded data removed]",
      "text/plain": [
       "<Figure size 432x288 with 1 Axes>"
      ]
     },
     "metadata": {},
     "output_type": "display_data"
    }
   ],
   "source": [
    "# and visualize it - 8000 is just a scaling factor to make the dots visible\n",
    "nx.draw(g, node_size=[8000 * x for x in pagerank.values()])\n",
    "plt.show()"
   ]
  },
  {
   "cell_type": "code",
   "execution_count": null,
   "metadata": {},
   "outputs": [],
   "source": []
  }
 ],
 "metadata": {
  "kernelspec": {
   "display_name": "Python 3",
   "language": "python",
   "name": "python3"
  },
  "language_info": {
   "codemirror_mode": {
    "name": "ipython",
    "version": 3
   },
   "file_extension": ".py",
   "mimetype": "text/x-python",
   "name": "python",
   "nbconvert_exporter": "python",
   "pygments_lexer": "ipython3",
   "version": "3.7.1"
  }
 },
 "nbformat": 4,
 "nbformat_minor": 2
}
