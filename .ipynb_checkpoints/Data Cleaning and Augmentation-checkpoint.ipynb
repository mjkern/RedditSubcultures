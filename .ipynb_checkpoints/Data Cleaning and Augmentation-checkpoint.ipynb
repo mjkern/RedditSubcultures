{
 "cells": [
  {
   "cell_type": "markdown",
   "metadata": {},
   "source": [
    "# Cleaning and Augmentation\n",
    "This notebook is meant to read in the data downloaded from reddit and prepare it for analysis by cleaning it and doing some computation."
   ]
  },
  {
   "cell_type": "markdown",
   "metadata": {},
   "source": [
    "## Setup"
   ]
  },
  {
   "cell_type": "code",
   "execution_count": 1,
   "metadata": {},
   "outputs": [],
   "source": [
    "import pandas as pd\n",
    "import datetime\n",
    "import networkx as nx\n",
    "import matplotlib.pyplot as plt\n",
    "import numpy as np\n",
    "import scipy\n",
    "from scipy import stats\n",
    "import collections"
   ]
  },
  {
   "cell_type": "code",
   "execution_count": 2,
   "metadata": {},
   "outputs": [],
   "source": [
    "# Change this to analyze something else\n",
    "\n",
    "# ## a big one:\n",
    "# subreddit = \"enlightenedbirdmen\"\n",
    "# download_date_string = \"19.12.04-14:27:14\"\n",
    "\n",
    "# ## a meduim one:\n",
    "# subreddit = \"justwriterthings\"\n",
    "# download_date_string = \"19.12.04-10:30:56\"\n",
    "\n",
    "## a small one:\n",
    "subreddit = \"The_B_Emoji\"\n",
    "download_date_string = \"19.12.04-09:28:30\""
   ]
  },
  {
   "cell_type": "code",
   "execution_count": 3,
   "metadata": {},
   "outputs": [],
   "source": [
    "# Constants\n",
    "data_directory = \"downloads/\"\n",
    "submissions_suffix = \"-submissions-\" + download_date_string + \".csv\"\n",
    "comments_suffix = \"-comments-\" + download_date_string + \".csv\""
   ]
  },
  {
   "cell_type": "markdown",
   "metadata": {},
   "source": [
    "## Read the Data"
   ]
  },
  {
   "cell_type": "code",
   "execution_count": 4,
   "metadata": {},
   "outputs": [
    {
     "data": {
      "text/html": [
       "<div>\n",
       "<style scoped>\n",
       "    .dataframe tbody tr th:only-of-type {\n",
       "        vertical-align: middle;\n",
       "    }\n",
       "\n",
       "    .dataframe tbody tr th {\n",
       "        vertical-align: top;\n",
       "    }\n",
       "\n",
       "    .dataframe thead th {\n",
       "        text-align: right;\n",
       "    }\n",
       "</style>\n",
       "<table border=\"1\" class=\"dataframe\">\n",
       "  <thead>\n",
       "    <tr style=\"text-align: right;\">\n",
       "      <th></th>\n",
       "      <th>submission_id</th>\n",
       "      <th>user</th>\n",
       "      <th>utc</th>\n",
       "      <th>score</th>\n",
       "      <th>title</th>\n",
       "      <th>body</th>\n",
       "      <th>subreddit</th>\n",
       "    </tr>\n",
       "  </thead>\n",
       "  <tbody>\n",
       "    <tr>\n",
       "      <th>0</th>\n",
       "      <td>e2yzip</td>\n",
       "      <td>greendirtbike</td>\n",
       "      <td>1.574953e+09</td>\n",
       "      <td>25</td>\n",
       "      <td>Yall 🅱️etter 🅱️e supporting local 🅱️usiness th...</td>\n",
       "      <td>They need to make a living just as much as the...</td>\n",
       "      <td>The_B_Emoji</td>\n",
       "    </tr>\n",
       "    <tr>\n",
       "      <th>1</th>\n",
       "      <td>e2nsue</td>\n",
       "      <td>ConnerFromCyberLife</td>\n",
       "      <td>1.574893e+09</td>\n",
       "      <td>36</td>\n",
       "      <td>🅱️he 🅱️ood 🅱️hit</td>\n",
       "      <td>NaN</td>\n",
       "      <td>The_B_Emoji</td>\n",
       "    </tr>\n",
       "    <tr>\n",
       "      <th>2</th>\n",
       "      <td>e0me00</td>\n",
       "      <td>Colteor</td>\n",
       "      <td>1.574536e+09</td>\n",
       "      <td>28</td>\n",
       "      <td>With 🅱️ you say?</td>\n",
       "      <td>NaN</td>\n",
       "      <td>The_B_Emoji</td>\n",
       "    </tr>\n",
       "    <tr>\n",
       "      <th>3</th>\n",
       "      <td>e07yk0</td>\n",
       "      <td>ConnerFromCyberLife</td>\n",
       "      <td>1.574459e+09</td>\n",
       "      <td>46</td>\n",
       "      <td>🅱️on’t 🅱️et 🅱️his 🅱️u🅱️reddit 🅱️ie</td>\n",
       "      <td>NaN</td>\n",
       "      <td>The_B_Emoji</td>\n",
       "    </tr>\n",
       "    <tr>\n",
       "      <th>4</th>\n",
       "      <td>dykruw</td>\n",
       "      <td>Colteor</td>\n",
       "      <td>1.574172e+09</td>\n",
       "      <td>28</td>\n",
       "      <td>🅱️</td>\n",
       "      <td>NaN</td>\n",
       "      <td>The_B_Emoji</td>\n",
       "    </tr>\n",
       "  </tbody>\n",
       "</table>\n",
       "</div>"
      ],
      "text/plain": [
       "  submission_id                 user           utc  score  \\\n",
       "0        e2yzip        greendirtbike  1.574953e+09     25   \n",
       "1        e2nsue  ConnerFromCyberLife  1.574893e+09     36   \n",
       "2        e0me00              Colteor  1.574536e+09     28   \n",
       "3        e07yk0  ConnerFromCyberLife  1.574459e+09     46   \n",
       "4        dykruw              Colteor  1.574172e+09     28   \n",
       "\n",
       "                                               title  \\\n",
       "0  Yall 🅱️etter 🅱️e supporting local 🅱️usiness th...   \n",
       "1                                   🅱️he 🅱️ood 🅱️hit   \n",
       "2                                   With 🅱️ you say?   \n",
       "3                 🅱️on’t 🅱️et 🅱️his 🅱️u🅱️reddit 🅱️ie   \n",
       "4                                                 🅱️   \n",
       "\n",
       "                                                body    subreddit  \n",
       "0  They need to make a living just as much as the...  The_B_Emoji  \n",
       "1                                                NaN  The_B_Emoji  \n",
       "2                                                NaN  The_B_Emoji  \n",
       "3                                                NaN  The_B_Emoji  \n",
       "4                                                NaN  The_B_Emoji  "
      ]
     },
     "execution_count": 4,
     "metadata": {},
     "output_type": "execute_result"
    }
   ],
   "source": [
    "# Read the submissions\n",
    "submissions_file = data_directory + subreddit + submissions_suffix\n",
    "submissions = pd.read_csv(submissions_file, index_col=0)\n",
    "submissions.head()"
   ]
  },
  {
   "cell_type": "code",
   "execution_count": 5,
   "metadata": {},
   "outputs": [
    {
     "data": {
      "text/html": [
       "<div>\n",
       "<style scoped>\n",
       "    .dataframe tbody tr th:only-of-type {\n",
       "        vertical-align: middle;\n",
       "    }\n",
       "\n",
       "    .dataframe tbody tr th {\n",
       "        vertical-align: top;\n",
       "    }\n",
       "\n",
       "    .dataframe thead th {\n",
       "        text-align: right;\n",
       "    }\n",
       "</style>\n",
       "<table border=\"1\" class=\"dataframe\">\n",
       "  <thead>\n",
       "    <tr style=\"text-align: right;\">\n",
       "      <th></th>\n",
       "      <th>comment_id</th>\n",
       "      <th>submission_id</th>\n",
       "      <th>user</th>\n",
       "      <th>utc</th>\n",
       "      <th>score</th>\n",
       "      <th>body</th>\n",
       "    </tr>\n",
       "  </thead>\n",
       "  <tbody>\n",
       "    <tr>\n",
       "      <th>0</th>\n",
       "      <td>f8yxtay</td>\n",
       "      <td>t3_e2yzip</td>\n",
       "      <td>skelly46</td>\n",
       "      <td>1.574954e+09</td>\n",
       "      <td>6</td>\n",
       "      <td>🅱️ye 🅱️ye 🅱️ig 🅱️usiness</td>\n",
       "    </tr>\n",
       "    <tr>\n",
       "      <th>1</th>\n",
       "      <td>f90phhs</td>\n",
       "      <td>t3_e2yzip</td>\n",
       "      <td>the_thou_factor</td>\n",
       "      <td>1.574976e+09</td>\n",
       "      <td>1</td>\n",
       "      <td>Jeff 🅱️ezos can suck my 🅱️ig cock. With the ne...</td>\n",
       "    </tr>\n",
       "    <tr>\n",
       "      <th>2</th>\n",
       "      <td>f90pgac</td>\n",
       "      <td>t3_e2yzip</td>\n",
       "      <td>Lapis-Blaze-Yt</td>\n",
       "      <td>1.574976e+09</td>\n",
       "      <td>0</td>\n",
       "      <td>I 🅱️re♿️er 🅱️🅾️mmunism</td>\n",
       "    </tr>\n",
       "    <tr>\n",
       "      <th>3</th>\n",
       "      <td>f8wlkrh</td>\n",
       "      <td>t3_e2nsue</td>\n",
       "      <td>Bored_Ford</td>\n",
       "      <td>1.574894e+09</td>\n",
       "      <td>5</td>\n",
       "      <td>Oh 🅱️a🅱️y, that's 🅱️ank</td>\n",
       "    </tr>\n",
       "    <tr>\n",
       "      <th>4</th>\n",
       "      <td>f8wlzva</td>\n",
       "      <td>t3_e2nsue</td>\n",
       "      <td>IPorK</td>\n",
       "      <td>1.574894e+09</td>\n",
       "      <td>4</td>\n",
       "      <td>Oh s🅱️it that's 🅱️eep</td>\n",
       "    </tr>\n",
       "  </tbody>\n",
       "</table>\n",
       "</div>"
      ],
      "text/plain": [
       "  comment_id submission_id             user           utc  score  \\\n",
       "0    f8yxtay     t3_e2yzip         skelly46  1.574954e+09      6   \n",
       "1    f90phhs     t3_e2yzip  the_thou_factor  1.574976e+09      1   \n",
       "2    f90pgac     t3_e2yzip   Lapis-Blaze-Yt  1.574976e+09      0   \n",
       "3    f8wlkrh     t3_e2nsue       Bored_Ford  1.574894e+09      5   \n",
       "4    f8wlzva     t3_e2nsue            IPorK  1.574894e+09      4   \n",
       "\n",
       "                                                body  \n",
       "0                           🅱️ye 🅱️ye 🅱️ig 🅱️usiness  \n",
       "1  Jeff 🅱️ezos can suck my 🅱️ig cock. With the ne...  \n",
       "2                             I 🅱️re♿️er 🅱️🅾️mmunism  \n",
       "3                            Oh 🅱️a🅱️y, that's 🅱️ank  \n",
       "4                              Oh s🅱️it that's 🅱️eep  "
      ]
     },
     "execution_count": 5,
     "metadata": {},
     "output_type": "execute_result"
    }
   ],
   "source": [
    "# Read the comments\n",
    "comments_file = data_directory + subreddit + comments_suffix\n",
    "comments = pd.read_csv(comments_file, index_col=0)\n",
    "comments.head()"
   ]
  },
  {
   "cell_type": "markdown",
   "metadata": {},
   "source": [
    "## Data Cleaning"
   ]
  },
  {
   "cell_type": "code",
   "execution_count": 6,
   "metadata": {},
   "outputs": [],
   "source": [
    "# Remove the t3_ prefix from comment submission ids\n",
    "comments[\"submission_id\"] = comments[\"submission_id\"].apply(lambda s: s.split(\"t3_\")[1])\n",
    "\n",
    "# Empty content should be the empty string - not nan\n",
    "submissions['body'] = submissions['body'].fillna(value=\"\")\n",
    "comments['body'] = comments['body'].fillna(value=\"\")"
   ]
  },
  {
   "cell_type": "markdown",
   "metadata": {},
   "source": [
    "## Data Conversion"
   ]
  },
  {
   "cell_type": "code",
   "execution_count": 7,
   "metadata": {},
   "outputs": [
    {
     "data": {
      "text/html": [
       "<div>\n",
       "<style scoped>\n",
       "    .dataframe tbody tr th:only-of-type {\n",
       "        vertical-align: middle;\n",
       "    }\n",
       "\n",
       "    .dataframe tbody tr th {\n",
       "        vertical-align: top;\n",
       "    }\n",
       "\n",
       "    .dataframe thead th {\n",
       "        text-align: right;\n",
       "    }\n",
       "</style>\n",
       "<table border=\"1\" class=\"dataframe\">\n",
       "  <thead>\n",
       "    <tr style=\"text-align: right;\">\n",
       "      <th></th>\n",
       "      <th>comment_id</th>\n",
       "      <th>submission_id</th>\n",
       "      <th>user</th>\n",
       "      <th>utc</th>\n",
       "      <th>score</th>\n",
       "      <th>body</th>\n",
       "      <th>date</th>\n",
       "    </tr>\n",
       "  </thead>\n",
       "  <tbody>\n",
       "    <tr>\n",
       "      <th>0</th>\n",
       "      <td>f8yxtay</td>\n",
       "      <td>e2yzip</td>\n",
       "      <td>skelly46</td>\n",
       "      <td>1.574954e+09</td>\n",
       "      <td>6</td>\n",
       "      <td>🅱️ye 🅱️ye 🅱️ig 🅱️usiness</td>\n",
       "      <td>2019-11-28 15:18:39</td>\n",
       "    </tr>\n",
       "    <tr>\n",
       "      <th>1</th>\n",
       "      <td>f90phhs</td>\n",
       "      <td>e2yzip</td>\n",
       "      <td>the_thou_factor</td>\n",
       "      <td>1.574976e+09</td>\n",
       "      <td>1</td>\n",
       "      <td>Jeff 🅱️ezos can suck my 🅱️ig cock. With the ne...</td>\n",
       "      <td>2019-11-28 21:12:02</td>\n",
       "    </tr>\n",
       "    <tr>\n",
       "      <th>2</th>\n",
       "      <td>f90pgac</td>\n",
       "      <td>e2yzip</td>\n",
       "      <td>Lapis-Blaze-Yt</td>\n",
       "      <td>1.574976e+09</td>\n",
       "      <td>0</td>\n",
       "      <td>I 🅱️re♿️er 🅱️🅾️mmunism</td>\n",
       "      <td>2019-11-28 21:11:49</td>\n",
       "    </tr>\n",
       "    <tr>\n",
       "      <th>3</th>\n",
       "      <td>f8wlkrh</td>\n",
       "      <td>e2nsue</td>\n",
       "      <td>Bored_Ford</td>\n",
       "      <td>1.574894e+09</td>\n",
       "      <td>5</td>\n",
       "      <td>Oh 🅱️a🅱️y, that's 🅱️ank</td>\n",
       "      <td>2019-11-27 22:27:08</td>\n",
       "    </tr>\n",
       "    <tr>\n",
       "      <th>4</th>\n",
       "      <td>f8wlzva</td>\n",
       "      <td>e2nsue</td>\n",
       "      <td>IPorK</td>\n",
       "      <td>1.574894e+09</td>\n",
       "      <td>4</td>\n",
       "      <td>Oh s🅱️it that's 🅱️eep</td>\n",
       "      <td>2019-11-27 22:32:03</td>\n",
       "    </tr>\n",
       "  </tbody>\n",
       "</table>\n",
       "</div>"
      ],
      "text/plain": [
       "  comment_id submission_id             user           utc  score  \\\n",
       "0    f8yxtay        e2yzip         skelly46  1.574954e+09      6   \n",
       "1    f90phhs        e2yzip  the_thou_factor  1.574976e+09      1   \n",
       "2    f90pgac        e2yzip   Lapis-Blaze-Yt  1.574976e+09      0   \n",
       "3    f8wlkrh        e2nsue       Bored_Ford  1.574894e+09      5   \n",
       "4    f8wlzva        e2nsue            IPorK  1.574894e+09      4   \n",
       "\n",
       "                                                body                date  \n",
       "0                           🅱️ye 🅱️ye 🅱️ig 🅱️usiness 2019-11-28 15:18:39  \n",
       "1  Jeff 🅱️ezos can suck my 🅱️ig cock. With the ne... 2019-11-28 21:12:02  \n",
       "2                             I 🅱️re♿️er 🅱️🅾️mmunism 2019-11-28 21:11:49  \n",
       "3                            Oh 🅱️a🅱️y, that's 🅱️ank 2019-11-27 22:27:08  \n",
       "4                              Oh s🅱️it that's 🅱️eep 2019-11-27 22:32:03  "
      ]
     },
     "execution_count": 7,
     "metadata": {},
     "output_type": "execute_result"
    }
   ],
   "source": [
    "# Convert utc to date\n",
    "submissions['date'] = submissions['utc'].apply(datetime.datetime.utcfromtimestamp)\n",
    "comments['date'] = comments['utc'].apply(datetime.datetime.utcfromtimestamp)\n",
    "#submissions.head()\n",
    "comments.head()"
   ]
  },
  {
   "cell_type": "code",
   "execution_count": 35,
   "metadata": {},
   "outputs": [
    {
     "data": {
      "text/html": [
       "<div>\n",
       "<style scoped>\n",
       "    .dataframe tbody tr th:only-of-type {\n",
       "        vertical-align: middle;\n",
       "    }\n",
       "\n",
       "    .dataframe tbody tr th {\n",
       "        vertical-align: top;\n",
       "    }\n",
       "\n",
       "    .dataframe thead th {\n",
       "        text-align: right;\n",
       "    }\n",
       "</style>\n",
       "<table border=\"1\" class=\"dataframe\">\n",
       "  <thead>\n",
       "    <tr style=\"text-align: right;\">\n",
       "      <th></th>\n",
       "      <th>level_0</th>\n",
       "      <th>index</th>\n",
       "      <th>submission_id</th>\n",
       "      <th>user</th>\n",
       "      <th>utc</th>\n",
       "      <th>score</th>\n",
       "      <th>title</th>\n",
       "      <th>body</th>\n",
       "      <th>subreddit</th>\n",
       "      <th>date</th>\n",
       "      <th>content</th>\n",
       "      <th>word_p_dist</th>\n",
       "      <th>entropy</th>\n",
       "      <th>novelty</th>\n",
       "    </tr>\n",
       "  </thead>\n",
       "  <tbody>\n",
       "    <tr>\n",
       "      <th>0</th>\n",
       "      <td>0</td>\n",
       "      <td>281</td>\n",
       "      <td>aag3pi</td>\n",
       "      <td>Mods_are_gay42069</td>\n",
       "      <td>1.546043e+09</td>\n",
       "      <td>8</td>\n",
       "      <td>🅱️</td>\n",
       "      <td>🅱️</td>\n",
       "      <td>The_B_Emoji</td>\n",
       "      <td>2018-12-29 00:25:14</td>\n",
       "      <td>🅱️🅱️</td>\n",
       "      <td>{'🅱️🅱️': 1.0}</td>\n",
       "      <td>0.000000</td>\n",
       "      <td>NaN</td>\n",
       "    </tr>\n",
       "    <tr>\n",
       "      <th>1</th>\n",
       "      <td>1</td>\n",
       "      <td>280</td>\n",
       "      <td>aagdcr</td>\n",
       "      <td>skelly46</td>\n",
       "      <td>1.546045e+09</td>\n",
       "      <td>6</td>\n",
       "      <td>Let's Get It</td>\n",
       "      <td>Let's get this 🅱️read 🅱️ois</td>\n",
       "      <td>The_B_Emoji</td>\n",
       "      <td>2018-12-29 00:58:13</td>\n",
       "      <td>Let's get this 🅱️read 🅱️ois Let's Get It</td>\n",
       "      <td>{'Let's': 0.25, 'get': 0.125, 'this': 0.125, '...</td>\n",
       "      <td>2.750000</td>\n",
       "      <td>10.536195</td>\n",
       "    </tr>\n",
       "    <tr>\n",
       "      <th>2</th>\n",
       "      <td>2</td>\n",
       "      <td>279</td>\n",
       "      <td>ajczbx</td>\n",
       "      <td>HeraldOfTheDankWeb</td>\n",
       "      <td>1.548340e+09</td>\n",
       "      <td>91</td>\n",
       "      <td>Post whatever the fuck you want.</td>\n",
       "      <td>This will probably turn out bad, but who gives...</td>\n",
       "      <td>The_B_Emoji</td>\n",
       "      <td>2019-01-24 14:33:41</td>\n",
       "      <td>This will probably turn out bad, but who gives...</td>\n",
       "      <td>{'This': 0.047619047619047616, 'will': 0.04761...</td>\n",
       "      <td>4.392317</td>\n",
       "      <td>7.908433</td>\n",
       "    </tr>\n",
       "    <tr>\n",
       "      <th>3</th>\n",
       "      <td>3</td>\n",
       "      <td>278</td>\n",
       "      <td>ajd8gx</td>\n",
       "      <td>retro_gatling</td>\n",
       "      <td>1.548342e+09</td>\n",
       "      <td>4</td>\n",
       "      <td>cringe</td>\n",
       "      <td></td>\n",
       "      <td>The_B_Emoji</td>\n",
       "      <td>2019-01-24 15:01:28</td>\n",
       "      <td>cringe</td>\n",
       "      <td>{'cringe': 1.0}</td>\n",
       "      <td>0.000000</td>\n",
       "      <td>13.238343</td>\n",
       "    </tr>\n",
       "    <tr>\n",
       "      <th>4</th>\n",
       "      <td>4</td>\n",
       "      <td>277</td>\n",
       "      <td>ajd97x</td>\n",
       "      <td>pinballmanfan</td>\n",
       "      <td>1.548342e+09</td>\n",
       "      <td>16</td>\n",
       "      <td>epic title</td>\n",
       "      <td></td>\n",
       "      <td>The_B_Emoji</td>\n",
       "      <td>2019-01-24 15:03:38</td>\n",
       "      <td>epic title</td>\n",
       "      <td>{'epic': 0.5, 'title': 0.5}</td>\n",
       "      <td>1.000000</td>\n",
       "      <td>12.285299</td>\n",
       "    </tr>\n",
       "  </tbody>\n",
       "</table>\n",
       "</div>"
      ],
      "text/plain": [
       "   level_0  index submission_id                user           utc  score  \\\n",
       "0        0    281        aag3pi   Mods_are_gay42069  1.546043e+09      8   \n",
       "1        1    280        aagdcr            skelly46  1.546045e+09      6   \n",
       "2        2    279        ajczbx  HeraldOfTheDankWeb  1.548340e+09     91   \n",
       "3        3    278        ajd8gx       retro_gatling  1.548342e+09      4   \n",
       "4        4    277        ajd97x       pinballmanfan  1.548342e+09     16   \n",
       "\n",
       "                              title  \\\n",
       "0                                🅱️   \n",
       "1                      Let's Get It   \n",
       "2  Post whatever the fuck you want.   \n",
       "3                            cringe   \n",
       "4                        epic title   \n",
       "\n",
       "                                                body    subreddit  \\\n",
       "0                                                 🅱️  The_B_Emoji   \n",
       "1                       Let's get this 🅱️read 🅱️ois   The_B_Emoji   \n",
       "2  This will probably turn out bad, but who gives...  The_B_Emoji   \n",
       "3                                                     The_B_Emoji   \n",
       "4                                                     The_B_Emoji   \n",
       "\n",
       "                 date                                            content  \\\n",
       "0 2018-12-29 00:25:14                                               🅱️🅱️   \n",
       "1 2018-12-29 00:58:13           Let's get this 🅱️read 🅱️ois Let's Get It   \n",
       "2 2019-01-24 14:33:41  This will probably turn out bad, but who gives...   \n",
       "3 2019-01-24 15:01:28                                             cringe   \n",
       "4 2019-01-24 15:03:38                                         epic title   \n",
       "\n",
       "                                         word_p_dist   entropy    novelty  \n",
       "0                                      {'🅱️🅱️': 1.0}  0.000000        NaN  \n",
       "1  {'Let's': 0.25, 'get': 0.125, 'this': 0.125, '...  2.750000  10.536195  \n",
       "2  {'This': 0.047619047619047616, 'will': 0.04761...  4.392317   7.908433  \n",
       "3                                    {'cringe': 1.0}  0.000000  13.238343  \n",
       "4                        {'epic': 0.5, 'title': 0.5}  1.000000  12.285299  "
      ]
     },
     "execution_count": 35,
     "metadata": {},
     "output_type": "execute_result"
    }
   ],
   "source": [
    "# Ensure time ordering of submissions\n",
    "submissions = submissions.sort_values(['date'], ascending = [1]).reset_index()\n",
    "submissions.head()"
   ]
  },
  {
   "cell_type": "markdown",
   "metadata": {},
   "source": [
    "## Pagerank\n",
    "This uses [networkx](https://networkx.github.io/documentation/networkx-1.10/index.html)"
   ]
  },
  {
   "cell_type": "code",
   "execution_count": 9,
   "metadata": {},
   "outputs": [],
   "source": [
    "# # proff that directed edges are defined (start, end)\n",
    "# d = nx.DiGraph()\n",
    "# d.add_node(1)\n",
    "# d.add_node(2)\n",
    "# d.add_edge(1, 2)\n",
    "# nx.draw_networkx(d)"
   ]
  },
  {
   "cell_type": "code",
   "execution_count": 10,
   "metadata": {},
   "outputs": [
    {
     "data": {
      "image/png": "[encoded data removed]",
      "text/plain": [
       "<Figure size 432x288 with 1 Axes>"
      ]
     },
     "metadata": {},
     "output_type": "display_data"
    }
   ],
   "source": [
    "# Start by creating a directed graph\n",
    "g = nx.DiGraph()\n",
    "\n",
    "# Each user is a node in the graph\n",
    "g.add_nodes_from(set(submissions['user'].append(comments['user'])))\n",
    "\n",
    "# Each comment is a directed edge\n",
    "pd.merge(submissions, comments, on='submission_id') \\\n",
    "    .apply(lambda row: g.add_edge(row[\"user_y\"], row[\"user_x\"]), axis=1)\n",
    "\n",
    "# Visualize the graph\n",
    "nx.draw(g)\n",
    "plt.show()"
   ]
  },
  {
   "cell_type": "code",
   "execution_count": 11,
   "metadata": {},
   "outputs": [],
   "source": [
    "# Now lets calculate pagerank\n",
    "pagerank = nx.pagerank(g)\n",
    "#pagerank # uncomment to preview"
   ]
  },
  {
   "cell_type": "code",
   "execution_count": 12,
   "metadata": {},
   "outputs": [
    {
     "data": {
      "image/png": "[encoded data removed]",
      "text/plain": [
       "<Figure size 432x288 with 1 Axes>"
      ]
     },
     "metadata": {},
     "output_type": "display_data"
    }
   ],
   "source": [
    "# and visualize it - 8000 is just a scaling factor to make the dots visible\n",
    "nx.draw(g, node_size=[8000 * x for x in pagerank.values()])\n",
    "plt.show()"
   ]
  },
  {
   "cell_type": "markdown",
   "metadata": {},
   "source": [
    "## KLD"
   ]
  },
  {
   "cell_type": "code",
   "execution_count": 13,
   "metadata": {},
   "outputs": [],
   "source": [
    "# Start by defining post content\n",
    "submissions['content'] = submissions['body'] + submissions['title']"
   ]
  },
  {
   "cell_type": "code",
   "execution_count": 14,
   "metadata": {},
   "outputs": [],
   "source": [
    "# A helper for calculating word frequencies\n",
    "def p_dist(content):\n",
    "    words = content.split() # tokenize by splitting on whitespace\n",
    "    counts = collections.Counter(words)\n",
    "    total = sum(counts.values())\n",
    "    return {word: count / total for word, count in counts.items()}\n",
    "\n",
    "# Calculate the word frequencies for every submission\n",
    "submissions['word_p_dist'] = submissions['content'].apply(p_dist)"
   ]
  },
  {
   "cell_type": "code",
   "execution_count": 15,
   "metadata": {},
   "outputs": [],
   "source": [
    "# And now calculating entropy is easy\n",
    "submissions['entropy'] = submissions['word_p_dist'].apply(lambda d: scipy.stats.entropy(list(d.values()), base=2))"
   ]
  },
  {
   "cell_type": "code",
   "execution_count": 16,
   "metadata": {},
   "outputs": [],
   "source": [
    "# A constant because 0 probabilities break math\n",
    "infinitesimal = 0.0001\n",
    "\n",
    "# Helper for calculating kld\n",
    "def kld(word_freq1, word_freq2):\n",
    "    if word_freq1 == None or word_freq2 == None:\n",
    "        return np.nan\n",
    "    p_dist1 = []\n",
    "    p_dist2 = []\n",
    "    for (word, freq) in word_freq1.items():\n",
    "        p_dist1.append(freq)\n",
    "        p_dist2.append(infinitesimal if not word in word_freq2 else word_freq2[word])\n",
    "    for (word, freq) in word_freq2.items():\n",
    "        if not word in word_freq1:\n",
    "            p_dist1.append(infinitesimal)\n",
    "            p_dist2.append(freq)\n",
    "    return scipy.stats.entropy(p_dist1, p_dist2, base=2)\n",
    "\n",
    "## simple test - should be equal\n",
    "# scipy.stats.entropy([0.25, 0.75, infinitesimal], [0.5, 0.4, 0.1], base=2)\n",
    "# kld({'a':0.25, 'b':0.75}, {'a':0.5, 'b':0.4, 'c':0.1})"
   ]
  },
  {
   "cell_type": "code",
   "execution_count": 17,
   "metadata": {},
   "outputs": [],
   "source": [
    "# Calculate novelty\n",
    "submissions['prev_submission_dist'] = submissions['word_p_dist'].shift(1).replace(to_replace={float(\"Nan\"): None})\n",
    "submissions['novelty'] = submissions.apply(lambda row: kld(row['word_p_dist'], row['prev_submission_dist']), axis=1)\n",
    "submissions = submissions.drop('prev_submission_dist', axis=1)"
   ]
  },
  {
   "cell_type": "code",
   "execution_count": 36,
   "metadata": {},
   "outputs": [
    {
     "ename": "SyntaxError",
     "evalue": "invalid syntax (<ipython-input-36-d68d5d121769>, line 3)",
     "output_type": "error",
     "traceback": [
      "\u001b[0;36m  File \u001b[0;32m\"<ipython-input-36-d68d5d121769>\"\u001b[0;36m, line \u001b[0;32m3\u001b[0m\n\u001b[0;31m    submissions['transience'] = submissions.apply(lambda row: kld(roe['word_p_dist']), row['next_submissions_dist']), axis=1)\u001b[0m\n\u001b[0m                                                                                                                            ^\u001b[0m\n\u001b[0;31mSyntaxError\u001b[0m\u001b[0;31m:\u001b[0m invalid syntax\n"
     ]
    }
   ],
   "source": [
    "# And calculate transience\n",
    "submissions['next_submission_dist'] = submissions['word_p_dist'].shift(1).replace(to_replace={float(\"Nan\"): None})\n",
    "submissions['transience'] = submissions.apply(lambda row: kld(row['word_p_dist'], row['next_submissions_dist']), axis=1)\n",
    "submissions = submissions.drop('next_submission_dist', axis=1)"
   ]
  },
  {
   "cell_type": "markdown",
   "metadata": {},
   "source": [
    "## Grouping By Users"
   ]
  },
  {
   "cell_type": "code",
   "execution_count": 18,
   "metadata": {},
   "outputs": [
    {
     "data": {
      "text/html": [
       "<div>\n",
       "<style scoped>\n",
       "    .dataframe tbody tr th:only-of-type {\n",
       "        vertical-align: middle;\n",
       "    }\n",
       "\n",
       "    .dataframe tbody tr th {\n",
       "        vertical-align: top;\n",
       "    }\n",
       "\n",
       "    .dataframe thead th {\n",
       "        text-align: right;\n",
       "    }\n",
       "</style>\n",
       "<table border=\"1\" class=\"dataframe\">\n",
       "  <thead>\n",
       "    <tr style=\"text-align: right;\">\n",
       "      <th></th>\n",
       "      <th>num_posts</th>\n",
       "      <th>max_score</th>\n",
       "      <th>mean_score</th>\n",
       "      <th>min_score</th>\n",
       "      <th>mean_length</th>\n",
       "      <th>pagerank</th>\n",
       "    </tr>\n",
       "    <tr>\n",
       "      <th>user</th>\n",
       "      <th></th>\n",
       "      <th></th>\n",
       "      <th></th>\n",
       "      <th></th>\n",
       "      <th></th>\n",
       "      <th></th>\n",
       "    </tr>\n",
       "  </thead>\n",
       "  <tbody>\n",
       "    <tr>\n",
       "      <th>AirHamyes</th>\n",
       "      <td>1.0</td>\n",
       "      <td>24.0</td>\n",
       "      <td>24.000000</td>\n",
       "      <td>24.0</td>\n",
       "      <td>88.000000</td>\n",
       "      <td>0.006448</td>\n",
       "    </tr>\n",
       "    <tr>\n",
       "      <th>An_Und3adMann</th>\n",
       "      <td>1.0</td>\n",
       "      <td>10.0</td>\n",
       "      <td>10.000000</td>\n",
       "      <td>10.0</td>\n",
       "      <td>2.000000</td>\n",
       "      <td>0.001550</td>\n",
       "    </tr>\n",
       "    <tr>\n",
       "      <th>Andes1te</th>\n",
       "      <td>9.0</td>\n",
       "      <td>27.0</td>\n",
       "      <td>11.111111</td>\n",
       "      <td>4.0</td>\n",
       "      <td>52.444444</td>\n",
       "      <td>0.019543</td>\n",
       "    </tr>\n",
       "    <tr>\n",
       "      <th>Awesomeman235ify</th>\n",
       "      <td>1.0</td>\n",
       "      <td>4.0</td>\n",
       "      <td>4.000000</td>\n",
       "      <td>4.0</td>\n",
       "      <td>30.000000</td>\n",
       "      <td>0.007054</td>\n",
       "    </tr>\n",
       "    <tr>\n",
       "      <th>BluePharoh</th>\n",
       "      <td>3.0</td>\n",
       "      <td>57.0</td>\n",
       "      <td>23.666667</td>\n",
       "      <td>2.0</td>\n",
       "      <td>66.666667</td>\n",
       "      <td>0.011617</td>\n",
       "    </tr>\n",
       "  </tbody>\n",
       "</table>\n",
       "</div>"
      ],
      "text/plain": [
       "                  num_posts  max_score  mean_score  min_score  mean_length  \\\n",
       "user                                                                         \n",
       "AirHamyes               1.0       24.0   24.000000       24.0    88.000000   \n",
       "An_Und3adMann           1.0       10.0   10.000000       10.0     2.000000   \n",
       "Andes1te                9.0       27.0   11.111111        4.0    52.444444   \n",
       "Awesomeman235ify        1.0        4.0    4.000000        4.0    30.000000   \n",
       "BluePharoh              3.0       57.0   23.666667        2.0    66.666667   \n",
       "\n",
       "                  pagerank  \n",
       "user                        \n",
       "AirHamyes         0.006448  \n",
       "An_Und3adMann     0.001550  \n",
       "Andes1te          0.019543  \n",
       "Awesomeman235ify  0.007054  \n",
       "BluePharoh        0.011617  "
      ]
     },
     "execution_count": 18,
     "metadata": {},
     "output_type": "execute_result"
    }
   ],
   "source": [
    "user_submissions = submissions.groupby(\"user\").apply(lambda g: pd.Series(\n",
    "    {\n",
    "        'num_posts': g['title'].size,\n",
    "        'max_score': g['score'].max(),\n",
    "        'mean_score': g['score'].mean(),\n",
    "        'min_score': g['score'].min(),\n",
    "        'mean_length': g.apply(lambda row: len(row['title'] + row['body']), axis=1).mean(),\n",
    "        'pagerank': pagerank[g['user'].iloc[0]] # weird indexing gets username and then finds pagerank for that user\n",
    "    }\n",
    "))\n",
    "user_submissions.head()"
   ]
  },
  {
   "cell_type": "code",
   "execution_count": 19,
   "metadata": {},
   "outputs": [
    {
     "data": {
      "text/html": [
       "<div>\n",
       "<style scoped>\n",
       "    .dataframe tbody tr th:only-of-type {\n",
       "        vertical-align: middle;\n",
       "    }\n",
       "\n",
       "    .dataframe tbody tr th {\n",
       "        vertical-align: top;\n",
       "    }\n",
       "\n",
       "    .dataframe thead th {\n",
       "        text-align: right;\n",
       "    }\n",
       "</style>\n",
       "<table border=\"1\" class=\"dataframe\">\n",
       "  <thead>\n",
       "    <tr style=\"text-align: right;\">\n",
       "      <th></th>\n",
       "      <th>num_comments</th>\n",
       "      <th>max_score</th>\n",
       "      <th>mean_score</th>\n",
       "      <th>min_score</th>\n",
       "      <th>mean_length</th>\n",
       "      <th>pagerank</th>\n",
       "    </tr>\n",
       "    <tr>\n",
       "      <th>user</th>\n",
       "      <th></th>\n",
       "      <th></th>\n",
       "      <th></th>\n",
       "      <th></th>\n",
       "      <th></th>\n",
       "      <th></th>\n",
       "    </tr>\n",
       "  </thead>\n",
       "  <tbody>\n",
       "    <tr>\n",
       "      <th>-San-Holo-</th>\n",
       "      <td>1.0</td>\n",
       "      <td>1.0</td>\n",
       "      <td>1.000000</td>\n",
       "      <td>1.0</td>\n",
       "      <td>22.000000</td>\n",
       "      <td>0.001550</td>\n",
       "    </tr>\n",
       "    <tr>\n",
       "      <th>ATangerineMann</th>\n",
       "      <td>1.0</td>\n",
       "      <td>2.0</td>\n",
       "      <td>2.000000</td>\n",
       "      <td>2.0</td>\n",
       "      <td>7.000000</td>\n",
       "      <td>0.001550</td>\n",
       "    </tr>\n",
       "    <tr>\n",
       "      <th>Andes1te</th>\n",
       "      <td>6.0</td>\n",
       "      <td>3.0</td>\n",
       "      <td>2.333333</td>\n",
       "      <td>2.0</td>\n",
       "      <td>15.500000</td>\n",
       "      <td>0.019543</td>\n",
       "    </tr>\n",
       "    <tr>\n",
       "      <th>ArtaxYT</th>\n",
       "      <td>1.0</td>\n",
       "      <td>2.0</td>\n",
       "      <td>2.000000</td>\n",
       "      <td>2.0</td>\n",
       "      <td>9.000000</td>\n",
       "      <td>0.001550</td>\n",
       "    </tr>\n",
       "    <tr>\n",
       "      <th>Awesomeman235ify</th>\n",
       "      <td>3.0</td>\n",
       "      <td>2.0</td>\n",
       "      <td>1.333333</td>\n",
       "      <td>1.0</td>\n",
       "      <td>12.333333</td>\n",
       "      <td>0.007054</td>\n",
       "    </tr>\n",
       "  </tbody>\n",
       "</table>\n",
       "</div>"
      ],
      "text/plain": [
       "                  num_comments  max_score  mean_score  min_score  mean_length  \\\n",
       "user                                                                            \n",
       "-San-Holo-                 1.0        1.0    1.000000        1.0    22.000000   \n",
       "ATangerineMann             1.0        2.0    2.000000        2.0     7.000000   \n",
       "Andes1te                   6.0        3.0    2.333333        2.0    15.500000   \n",
       "ArtaxYT                    1.0        2.0    2.000000        2.0     9.000000   \n",
       "Awesomeman235ify           3.0        2.0    1.333333        1.0    12.333333   \n",
       "\n",
       "                  pagerank  \n",
       "user                        \n",
       "-San-Holo-        0.001550  \n",
       "ATangerineMann    0.001550  \n",
       "Andes1te          0.019543  \n",
       "ArtaxYT           0.001550  \n",
       "Awesomeman235ify  0.007054  "
      ]
     },
     "execution_count": 19,
     "metadata": {},
     "output_type": "execute_result"
    }
   ],
   "source": [
    "user_comments = comments.groupby(\"user\").apply(lambda g: pd.Series(\n",
    "    {\n",
    "        'num_comments': g['body'].size,\n",
    "        'max_score': g['score'].max(),\n",
    "        'mean_score': g['score'].mean(),\n",
    "        'min_score': g['score'].min(),\n",
    "        'mean_length': g['body'].apply(len).mean(),\n",
    "        'pagerank': pagerank[g['user'].iloc[0]] # weird indexing gets username and then finds pagerank for that user\n",
    "    }\n",
    "))\n",
    "user_comments.head()"
   ]
  },
  {
   "cell_type": "markdown",
   "metadata": {},
   "source": [
    "## Merging the Tables"
   ]
  },
  {
   "cell_type": "code",
   "execution_count": 20,
   "metadata": {},
   "outputs": [
    {
     "data": {
      "text/html": [
       "<div>\n",
       "<style scoped>\n",
       "    .dataframe tbody tr th:only-of-type {\n",
       "        vertical-align: middle;\n",
       "    }\n",
       "\n",
       "    .dataframe tbody tr th {\n",
       "        vertical-align: top;\n",
       "    }\n",
       "\n",
       "    .dataframe thead th {\n",
       "        text-align: right;\n",
       "    }\n",
       "</style>\n",
       "<table border=\"1\" class=\"dataframe\">\n",
       "  <thead>\n",
       "    <tr style=\"text-align: right;\">\n",
       "      <th></th>\n",
       "      <th>num_posts</th>\n",
       "      <th>max_score_submissions</th>\n",
       "      <th>mean_score_submissions</th>\n",
       "      <th>min_score_submissions</th>\n",
       "      <th>mean_length_submissions</th>\n",
       "      <th>num_comments</th>\n",
       "      <th>max_score_comments</th>\n",
       "      <th>mean_score_comments</th>\n",
       "      <th>min_score_comments</th>\n",
       "      <th>mean_length_comments</th>\n",
       "      <th>pagerank</th>\n",
       "    </tr>\n",
       "    <tr>\n",
       "      <th>user</th>\n",
       "      <th></th>\n",
       "      <th></th>\n",
       "      <th></th>\n",
       "      <th></th>\n",
       "      <th></th>\n",
       "      <th></th>\n",
       "      <th></th>\n",
       "      <th></th>\n",
       "      <th></th>\n",
       "      <th></th>\n",
       "      <th></th>\n",
       "    </tr>\n",
       "  </thead>\n",
       "  <tbody>\n",
       "    <tr>\n",
       "      <th>-San-Holo-</th>\n",
       "      <td>NaN</td>\n",
       "      <td>NaN</td>\n",
       "      <td>NaN</td>\n",
       "      <td>NaN</td>\n",
       "      <td>NaN</td>\n",
       "      <td>1.0</td>\n",
       "      <td>1.0</td>\n",
       "      <td>1.000000</td>\n",
       "      <td>1.0</td>\n",
       "      <td>22.0</td>\n",
       "      <td>0.001550</td>\n",
       "    </tr>\n",
       "    <tr>\n",
       "      <th>ATangerineMann</th>\n",
       "      <td>NaN</td>\n",
       "      <td>NaN</td>\n",
       "      <td>NaN</td>\n",
       "      <td>NaN</td>\n",
       "      <td>NaN</td>\n",
       "      <td>1.0</td>\n",
       "      <td>2.0</td>\n",
       "      <td>2.000000</td>\n",
       "      <td>2.0</td>\n",
       "      <td>7.0</td>\n",
       "      <td>0.001550</td>\n",
       "    </tr>\n",
       "    <tr>\n",
       "      <th>AirHamyes</th>\n",
       "      <td>1.0</td>\n",
       "      <td>24.0</td>\n",
       "      <td>24.000000</td>\n",
       "      <td>24.0</td>\n",
       "      <td>88.000000</td>\n",
       "      <td>NaN</td>\n",
       "      <td>NaN</td>\n",
       "      <td>NaN</td>\n",
       "      <td>NaN</td>\n",
       "      <td>NaN</td>\n",
       "      <td>0.006448</td>\n",
       "    </tr>\n",
       "    <tr>\n",
       "      <th>An_Und3adMann</th>\n",
       "      <td>1.0</td>\n",
       "      <td>10.0</td>\n",
       "      <td>10.000000</td>\n",
       "      <td>10.0</td>\n",
       "      <td>2.000000</td>\n",
       "      <td>NaN</td>\n",
       "      <td>NaN</td>\n",
       "      <td>NaN</td>\n",
       "      <td>NaN</td>\n",
       "      <td>NaN</td>\n",
       "      <td>0.001550</td>\n",
       "    </tr>\n",
       "    <tr>\n",
       "      <th>Andes1te</th>\n",
       "      <td>9.0</td>\n",
       "      <td>27.0</td>\n",
       "      <td>11.111111</td>\n",
       "      <td>4.0</td>\n",
       "      <td>52.444444</td>\n",
       "      <td>6.0</td>\n",
       "      <td>3.0</td>\n",
       "      <td>2.333333</td>\n",
       "      <td>2.0</td>\n",
       "      <td>15.5</td>\n",
       "      <td>0.019543</td>\n",
       "    </tr>\n",
       "  </tbody>\n",
       "</table>\n",
       "</div>"
      ],
      "text/plain": [
       "                num_posts  max_score_submissions  mean_score_submissions  \\\n",
       "user                                                                       \n",
       "-San-Holo-            NaN                    NaN                     NaN   \n",
       "ATangerineMann        NaN                    NaN                     NaN   \n",
       "AirHamyes             1.0                   24.0               24.000000   \n",
       "An_Und3adMann         1.0                   10.0               10.000000   \n",
       "Andes1te              9.0                   27.0               11.111111   \n",
       "\n",
       "                min_score_submissions  mean_length_submissions  num_comments  \\\n",
       "user                                                                           \n",
       "-San-Holo-                        NaN                      NaN           1.0   \n",
       "ATangerineMann                    NaN                      NaN           1.0   \n",
       "AirHamyes                        24.0                88.000000           NaN   \n",
       "An_Und3adMann                    10.0                 2.000000           NaN   \n",
       "Andes1te                          4.0                52.444444           6.0   \n",
       "\n",
       "                max_score_comments  mean_score_comments  min_score_comments  \\\n",
       "user                                                                          \n",
       "-San-Holo-                     1.0             1.000000                 1.0   \n",
       "ATangerineMann                 2.0             2.000000                 2.0   \n",
       "AirHamyes                      NaN                  NaN                 NaN   \n",
       "An_Und3adMann                  NaN                  NaN                 NaN   \n",
       "Andes1te                       3.0             2.333333                 2.0   \n",
       "\n",
       "                mean_length_comments  pagerank  \n",
       "user                                            \n",
       "-San-Holo-                      22.0  0.001550  \n",
       "ATangerineMann                   7.0  0.001550  \n",
       "AirHamyes                        NaN  0.006448  \n",
       "An_Und3adMann                    NaN  0.001550  \n",
       "Andes1te                        15.5  0.019543  "
      ]
     },
     "execution_count": 20,
     "metadata": {},
     "output_type": "execute_result"
    }
   ],
   "source": [
    "users = user_submissions.join(user_comments, how=\"outer\", lsuffix=\"_submissions\", rsuffix=\"_comments\")\n",
    "\n",
    "## Clean up after the merge\n",
    "\n",
    "# outer join means pagerank may only be defined in one case and not the other - combine them\n",
    "users['pagerank'] = users.apply(lambda row: row['pagerank_comments'] if np.isnan(row['pagerank_submissions']) else row['pagerank_submissions'], axis=1)\n",
    "users = users.drop('pagerank_submissions', axis=1)\n",
    "users = users.drop('pagerank_comments', axis=1)\n",
    "users.head()"
   ]
  },
  {
   "cell_type": "markdown",
   "metadata": {},
   "source": [
    "## EDA"
   ]
  },
  {
   "cell_type": "code",
   "execution_count": 21,
   "metadata": {},
   "outputs": [
    {
     "data": {
      "image/png": "[encoded data removed]",
      "text/plain": [
       "<Figure size 432x288 with 1 Axes>"
      ]
     },
     "metadata": {
      "needs_background": "light"
     },
     "output_type": "display_data"
    }
   ],
   "source": [
    "# mean score vs pagerank\n",
    "plt.scatter(x=users['pagerank'], y=users['mean_score_submissions'])\n",
    "plt.show()"
   ]
  },
  {
   "cell_type": "code",
   "execution_count": 22,
   "metadata": {},
   "outputs": [
    {
     "data": {
      "image/png": "[encoded data removed]",
      "text/plain": [
       "<Figure size 432x288 with 1 Axes>"
      ]
     },
     "metadata": {
      "needs_background": "light"
     },
     "output_type": "display_data"
    }
   ],
   "source": [
    "# min score vs pagerank\n",
    "plt.scatter(x=users['pagerank'], y=users['min_score_submissions'])\n",
    "plt.show()"
   ]
  },
  {
   "cell_type": "code",
   "execution_count": 23,
   "metadata": {},
   "outputs": [
    {
     "data": {
      "image/png": "[encoded data removed]",
      "text/plain": [
       "<Figure size 432x288 with 1 Axes>"
      ]
     },
     "metadata": {
      "needs_background": "light"
     },
     "output_type": "display_data"
    }
   ],
   "source": [
    "# max score vs pagerank\n",
    "plt.scatter(x=users['pagerank'], y=users['max_score_submissions'])\n",
    "plt.show()"
   ]
  },
  {
   "cell_type": "code",
   "execution_count": 24,
   "metadata": {},
   "outputs": [
    {
     "data": {
      "image/png": "[encoded data removed]",
      "text/plain": [
       "<Figure size 432x288 with 1 Axes>"
      ]
     },
     "metadata": {
      "needs_background": "light"
     },
     "output_type": "display_data"
    }
   ],
   "source": [
    "# number of comments vs pagerank\n",
    "plt.scatter(x=users['num_comments'], y=users['pagerank'])\n",
    "plt.show()"
   ]
  },
  {
   "cell_type": "code",
   "execution_count": 25,
   "metadata": {},
   "outputs": [
    {
     "data": {
      "image/png": "[encoded data removed]",
      "text/plain": [
       "<Figure size 432x288 with 1 Axes>"
      ]
     },
     "metadata": {
      "needs_background": "light"
     },
     "output_type": "display_data"
    }
   ],
   "source": [
    "# number of posts vs pagerank - should be correlated (more submissions to comment on)\n",
    "plt.scatter(x=users['num_posts'], y=users['pagerank'])\n",
    "plt.show()\n",
    "# okay, my hypothesis was wrong..."
   ]
  },
  {
   "cell_type": "code",
   "execution_count": 26,
   "metadata": {},
   "outputs": [
    {
     "name": "stderr",
     "output_type": "stream",
     "text": [
      "/home/mjkern/miniconda3/lib/python3.7/site-packages/numpy/lib/histograms.py:754: RuntimeWarning: invalid value encountered in greater_equal\n",
      "  keep = (tmp_a >= first_edge)\n",
      "/home/mjkern/miniconda3/lib/python3.7/site-packages/numpy/lib/histograms.py:755: RuntimeWarning: invalid value encountered in less_equal\n",
      "  keep &= (tmp_a <= last_edge)\n"
     ]
    },
    {
     "data": {
      "image/png": "[encoded data removed]",
      "text/plain": [
       "<Figure size 432x288 with 1 Axes>"
      ]
     },
     "metadata": {
      "needs_background": "light"
     },
     "output_type": "display_data"
    }
   ],
   "source": [
    "plt.hist(users['mean_score_submissions'])\n",
    "plt.show()"
   ]
  },
  {
   "cell_type": "code",
   "execution_count": 27,
   "metadata": {},
   "outputs": [
    {
     "data": {
      "image/png": "[encoded data removed]",
      "text/plain": [
       "<Figure size 432x288 with 1 Axes>"
      ]
     },
     "metadata": {
      "needs_background": "light"
     },
     "output_type": "display_data"
    }
   ],
   "source": [
    "plt.hist(users['mean_score_comments'])\n",
    "plt.show()"
   ]
  },
  {
   "cell_type": "code",
   "execution_count": 28,
   "metadata": {},
   "outputs": [
    {
     "data": {
      "image/png": "[encoded data removed]",
      "text/plain": [
       "<Figure size 432x288 with 1 Axes>"
      ]
     },
     "metadata": {
      "needs_background": "light"
     },
     "output_type": "display_data"
    }
   ],
   "source": [
    "plt.hist(users['max_score_submissions'])\n",
    "plt.show()"
   ]
  },
  {
   "cell_type": "code",
   "execution_count": 29,
   "metadata": {},
   "outputs": [
    {
     "data": {
      "image/png": "[encoded data removed]",
      "text/plain": [
       "<Figure size 432x288 with 1 Axes>"
      ]
     },
     "metadata": {
      "needs_background": "light"
     },
     "output_type": "display_data"
    }
   ],
   "source": [
    "plt.hist(users['max_score_comments'])\n",
    "plt.show()"
   ]
  },
  {
   "cell_type": "code",
   "execution_count": 30,
   "metadata": {},
   "outputs": [
    {
     "data": {
      "image/png": "[encoded data removed]",
      "text/plain": [
       "<Figure size 432x288 with 1 Axes>"
      ]
     },
     "metadata": {
      "needs_background": "light"
     },
     "output_type": "display_data"
    }
   ],
   "source": [
    "plt.hist(users['min_score_submissions'])\n",
    "plt.show()"
   ]
  },
  {
   "cell_type": "code",
   "execution_count": 31,
   "metadata": {},
   "outputs": [
    {
     "data": {
      "image/png": "[encoded data removed]",
      "text/plain": [
       "<Figure size 432x288 with 1 Axes>"
      ]
     },
     "metadata": {
      "needs_background": "light"
     },
     "output_type": "display_data"
    }
   ],
   "source": [
    "plt.hist(users['min_score_comments'])\n",
    "plt.show()"
   ]
  },
  {
   "cell_type": "code",
   "execution_count": 32,
   "metadata": {},
   "outputs": [
    {
     "data": {
      "image/png": "[encoded data removed]",
      "text/plain": [
       "<Figure size 432x288 with 1 Axes>"
      ]
     },
     "metadata": {
      "needs_background": "light"
     },
     "output_type": "display_data"
    }
   ],
   "source": [
    "plt.scatter(x=users['mean_length_submissions'], y=users['mean_score_submissions'])\n",
    "plt.show()"
   ]
  },
  {
   "cell_type": "code",
   "execution_count": 33,
   "metadata": {},
   "outputs": [
    {
     "data": {
      "image/png": "[encoded data removed]",
      "text/plain": [
       "<Figure size 432x288 with 1 Axes>"
      ]
     },
     "metadata": {
      "needs_background": "light"
     },
     "output_type": "display_data"
    }
   ],
   "source": [
    "plt.scatter(x=users['mean_length_submissions'], y=users['pagerank'])\n",
    "plt.show()"
   ]
  },
  {
   "cell_type": "markdown",
   "metadata": {},
   "source": [
    "## Just Submission Stuff"
   ]
  },
  {
   "cell_type": "code",
   "execution_count": 34,
   "metadata": {},
   "outputs": [
    {
     "data": {
      "image/png": "[encoded data removed]",
      "text/plain": [
       "<Figure size 432x288 with 1 Axes>"
      ]
     },
     "metadata": {
      "needs_background": "light"
     },
     "output_type": "display_data"
    }
   ],
   "source": [
    "plt.scatter(x=submissions['novelty'], y=submissions['score'])\n",
    "plt.show()"
   ]
  },
  {
   "cell_type": "code",
   "execution_count": null,
   "metadata": {},
   "outputs": [],
   "source": []
  }
 ],
 "metadata": {
  "kernelspec": {
   "display_name": "Python 3",
   "language": "python",
   "name": "python3"
  },
  "language_info": {
   "codemirror_mode": {
    "name": "ipython",
    "version": 3
   },
   "file_extension": ".py",
   "mimetype": "text/x-python",
   "name": "python",
   "nbconvert_exporter": "python",
   "pygments_lexer": "ipython3",
   "version": "3.7.1"
  }
 },
 "nbformat": 4,
 "nbformat_minor": 2
}
