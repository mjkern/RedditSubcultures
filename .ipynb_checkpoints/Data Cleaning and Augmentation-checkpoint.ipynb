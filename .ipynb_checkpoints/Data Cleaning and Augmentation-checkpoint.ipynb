{
 "cells": [
  {
   "cell_type": "markdown",
   "metadata": {},
   "source": [
    "# Cleaning and Augmentation\n",
    "This notebook is meant to read in the data downloaded from reddit and prepare it for analysis by cleaning it and doing some computation."
   ]
  },
  {
   "cell_type": "markdown",
   "metadata": {},
   "source": [
    "## Setup"
   ]
  },
  {
   "cell_type": "code",
   "execution_count": 1,
   "metadata": {},
   "outputs": [],
   "source": [
    "import pandas as pd"
   ]
  },
  {
   "cell_type": "code",
   "execution_count": 2,
   "metadata": {},
   "outputs": [],
   "source": [
    "# Change this to analyze something else\n",
    "subreddit = \"ww3theories\""
   ]
  },
  {
   "cell_type": "code",
   "execution_count": 4,
   "metadata": {},
   "outputs": [],
   "source": [
    "# Constants\n",
    "data_directory = \"downloads/\"\n",
    "submissions_suffix = \"-submissions.csv\"\n",
    "comments_suffix = \"-comments.csv\""
   ]
  },
  {
   "cell_type": "code",
   "execution_count": 6,
   "metadata": {},
   "outputs": [
    {
     "data": {
      "text/html": [
       "<div>\n",
       "<style scoped>\n",
       "    .dataframe tbody tr th:only-of-type {\n",
       "        vertical-align: middle;\n",
       "    }\n",
       "\n",
       "    .dataframe tbody tr th {\n",
       "        vertical-align: top;\n",
       "    }\n",
       "\n",
       "    .dataframe thead th {\n",
       "        text-align: right;\n",
       "    }\n",
       "</style>\n",
       "<table border=\"1\" class=\"dataframe\">\n",
       "  <thead>\n",
       "    <tr style=\"text-align: right;\">\n",
       "      <th></th>\n",
       "      <th>Unnamed: 0</th>\n",
       "      <th>id</th>\n",
       "      <th>user</th>\n",
       "      <th>date</th>\n",
       "      <th>score</th>\n",
       "      <th>title</th>\n",
       "      <th>body</th>\n",
       "      <th>subreddit</th>\n",
       "    </tr>\n",
       "  </thead>\n",
       "  <tbody>\n",
       "    <tr>\n",
       "      <th>0</th>\n",
       "      <td>0</td>\n",
       "      <td>dybem9</td>\n",
       "      <td>NightMonkey3000</td>\n",
       "      <td>1.574119e+09</td>\n",
       "      <td>1</td>\n",
       "      <td>How would World War Three potentially start?</td>\n",
       "      <td>Please guys let’s be realistic because nukin...</td>\n",
       "      <td>WW3Theories</td>\n",
       "    </tr>\n",
       "    <tr>\n",
       "      <th>1</th>\n",
       "      <td>1</td>\n",
       "      <td>dbo5by</td>\n",
       "      <td>valoros0702</td>\n",
       "      <td>1.569905e+09</td>\n",
       "      <td>5</td>\n",
       "      <td>WW3 theory</td>\n",
       "      <td>After years of passive aggressiveness, North K...</td>\n",
       "      <td>WW3Theories</td>\n",
       "    </tr>\n",
       "    <tr>\n",
       "      <th>2</th>\n",
       "      <td>2</td>\n",
       "      <td>dblqpi</td>\n",
       "      <td>Notch_4682</td>\n",
       "      <td>1.569893e+09</td>\n",
       "      <td>3</td>\n",
       "      <td>Post Contest!</td>\n",
       "      <td>Contest for best theory! Winner will get a spe...</td>\n",
       "      <td>WW3Theories</td>\n",
       "    </tr>\n",
       "    <tr>\n",
       "      <th>3</th>\n",
       "      <td>3</td>\n",
       "      <td>crmg42</td>\n",
       "      <td>Notch_4682</td>\n",
       "      <td>1.566050e+09</td>\n",
       "      <td>3</td>\n",
       "      <td>Maybe a theory</td>\n",
       "      <td>So, we attack Iran. Under the political pressu...</td>\n",
       "      <td>WW3Theories</td>\n",
       "    </tr>\n",
       "    <tr>\n",
       "      <th>4</th>\n",
       "      <td>4</td>\n",
       "      <td>cpkp5h</td>\n",
       "      <td>Notch_4682</td>\n",
       "      <td>1.565653e+09</td>\n",
       "      <td>4</td>\n",
       "      <td>Resources, anyone?</td>\n",
       "      <td>This is where you post resources and source ma...</td>\n",
       "      <td>WW3Theories</td>\n",
       "    </tr>\n",
       "  </tbody>\n",
       "</table>\n",
       "</div>"
      ],
      "text/plain": [
       "   Unnamed: 0      id             user          date  score  \\\n",
       "0           0  dybem9  NightMonkey3000  1.574119e+09      1   \n",
       "1           1  dbo5by      valoros0702  1.569905e+09      5   \n",
       "2           2  dblqpi       Notch_4682  1.569893e+09      3   \n",
       "3           3  crmg42       Notch_4682  1.566050e+09      3   \n",
       "4           4  cpkp5h       Notch_4682  1.565653e+09      4   \n",
       "\n",
       "                                          title  \\\n",
       "0  How would World War Three potentially start?   \n",
       "1                                    WW3 theory   \n",
       "2                                 Post Contest!   \n",
       "3                                Maybe a theory   \n",
       "4                            Resources, anyone?   \n",
       "\n",
       "                                                body    subreddit  \n",
       "0    Please guys let’s be realistic because nukin...  WW3Theories  \n",
       "1  After years of passive aggressiveness, North K...  WW3Theories  \n",
       "2  Contest for best theory! Winner will get a spe...  WW3Theories  \n",
       "3  So, we attack Iran. Under the political pressu...  WW3Theories  \n",
       "4  This is where you post resources and source ma...  WW3Theories  "
      ]
     },
     "execution_count": 6,
     "metadata": {},
     "output_type": "execute_result"
    }
   ],
   "source": [
    "# Read the submissions\n",
    "submissions_file = data_directory + subreddit + submissions_suffix\n",
    "submissions = pd.read_csv(submissions_file)\n",
    "submissions.head()"
   ]
  },
  {
   "cell_type": "code",
   "execution_count": 7,
   "metadata": {},
   "outputs": [
    {
     "ename": "NameError",
     "evalue": "name 'commentsFile' is not defined",
     "output_type": "error",
     "traceback": [
      "\u001b[0;31m---------------------------------------------------------------------------\u001b[0m",
      "\u001b[0;31mNameError\u001b[0m                                 Traceback (most recent call last)",
      "\u001b[0;32m<ipython-input-7-39c2adbe33ca>\u001b[0m in \u001b[0;36m<module>\u001b[0;34m\u001b[0m\n\u001b[1;32m      1\u001b[0m \u001b[0;31m# Read the comments\u001b[0m\u001b[0;34m\u001b[0m\u001b[0;34m\u001b[0m\u001b[0;34m\u001b[0m\u001b[0m\n\u001b[1;32m      2\u001b[0m \u001b[0mcomments_file\u001b[0m \u001b[0;34m=\u001b[0m \u001b[0mdata_directory\u001b[0m \u001b[0;34m+\u001b[0m \u001b[0msubreddit\u001b[0m \u001b[0;34m+\u001b[0m \u001b[0mcomments_suffix\u001b[0m\u001b[0;34m\u001b[0m\u001b[0;34m\u001b[0m\u001b[0m\n\u001b[0;32m----> 3\u001b[0;31m \u001b[0mcomments\u001b[0m \u001b[0;34m=\u001b[0m \u001b[0mpd\u001b[0m\u001b[0;34m.\u001b[0m\u001b[0mread_csv\u001b[0m\u001b[0;34m(\u001b[0m\u001b[0mcommentsFile\u001b[0m\u001b[0;34m)\u001b[0m\u001b[0;34m\u001b[0m\u001b[0;34m\u001b[0m\u001b[0m\n\u001b[0m\u001b[1;32m      4\u001b[0m \u001b[0mcomments\u001b[0m\u001b[0;34m.\u001b[0m\u001b[0mhead\u001b[0m\u001b[0;34m(\u001b[0m\u001b[0;34m)\u001b[0m\u001b[0;34m\u001b[0m\u001b[0;34m\u001b[0m\u001b[0m\n",
      "\u001b[0;31mNameError\u001b[0m: name 'commentsFile' is not defined"
     ]
    }
   ],
   "source": [
    "# Read the comments\n",
    "comments_file = data_directory + subreddit + comments_suffix\n",
    "comments = pd.read_csv(comments_file)\n",
    "comments.head()"
   ]
  },
  {
   "cell_type": "code",
   "execution_count": null,
   "metadata": {},
   "outputs": [],
   "source": []
  }
 ],
 "metadata": {
  "kernelspec": {
   "display_name": "Python 3",
   "language": "python",
   "name": "python3"
  },
  "language_info": {
   "codemirror_mode": {
    "name": "ipython",
    "version": 3
   },
   "file_extension": ".py",
   "mimetype": "text/x-python",
   "name": "python",
   "nbconvert_exporter": "python",
   "pygments_lexer": "ipython3",
   "version": "3.7.1"
  }
 },
 "nbformat": 4,
 "nbformat_minor": 2
}
